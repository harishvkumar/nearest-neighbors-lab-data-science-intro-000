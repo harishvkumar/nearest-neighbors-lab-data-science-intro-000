{
 "cells": [
  {
   "cell_type": "markdown",
   "metadata": {},
   "source": [
    "# Nearest Neighbors Lab"
   ]
  },
  {
   "cell_type": "markdown",
   "metadata": {},
   "source": [
    "### Introduction\n",
    "\n",
    "In this lab, you apply nearest neighbors technique to help a taxi company predict the length of their rides.  Imagine that we are hired to consult for LiftOff, a limo and taxi service that is just opening up in NYC.  Liftoff wants it's taxi drivers to target longer rides, as the longer the ride the more money it makes.  LiftOff has the following theory:\n",
    "\n",
    "* the pickup location of a taxi ride can help predict the length of the ride.  \n",
    "\n",
    "\n",
    "\n",
    "LiftOff asks us to do some analysis to write a function that will allow it to **predict the length of a taxi ride for any given location **.\n",
    "\n",
    "Our technique will be the following:\n",
    "  * **Collect** Obtain the data containing all of the taxi information, and only select the attributes of taxi trips that we need \n",
    "  * ** Explore ** Examine the attributes of our data, and plot some of our data on a map\n",
    "  * ** Train ** Write our nearest neighbors formula, and change the number of nearby trips to predict the length of a new trip\n",
    "  * ** Predict ** Use our function to predict trip lengths of new locations"
   ]
  },
  {
   "cell_type": "markdown",
   "metadata": {},
   "source": [
    "### Collect and Explore the data"
   ]
  },
  {
   "cell_type": "markdown",
   "metadata": {},
   "source": [
    "#### Collect the Data"
   ]
  },
  {
   "cell_type": "markdown",
   "metadata": {},
   "source": [
    "Luckily for us, [NYC Open Data](https://opendata.cityofnewyork.us/) collects information about NYC taxi trips and provides this data on [its website](https://data.cityofnewyork.us/Transportation/2014-Yellow-Taxi-Trip-Data/gn7m-em8n)."
   ]
  },
  {
   "cell_type": "markdown",
   "metadata": {},
   "source": [
    "![](./nyc-taxi.png)"
   ]
  },
  {
   "cell_type": "markdown",
   "metadata": {},
   "source": [
    "For your reading pleasure, the data has already been downloaded into the [trips.json](https://github.com/learn-co-curriculum/nearest-neighbors-lab/blob/master/trips.json) file in this lab which you can find here.  We'll use Python's `json` library to take the data from the `trips.json` file and store it as a variable in our notebook."
   ]
  },
  {
   "cell_type": "code",
   "execution_count": 2,
   "metadata": {},
   "outputs": [],
   "source": [
    "import json\n",
    "# First, read the file\n",
    "trips_file = open('trips.json')\n",
    "# Then, convert contents to list of dictionaries \n",
    "trips = json.load(trips_file)"
   ]
  },
  {
   "cell_type": "markdown",
   "metadata": {},
   "source": [
    "> Press shift + enter"
   ]
  },
  {
   "cell_type": "markdown",
   "metadata": {},
   "source": [
    "#### Explore the data"
   ]
  },
  {
   "cell_type": "markdown",
   "metadata": {},
   "source": [
    "The next step is to explore the data.  First, let's see how many trips we have."
   ]
  },
  {
   "cell_type": "code",
   "execution_count": 3,
   "metadata": {},
   "outputs": [
    {
     "data": {
      "text/plain": [
       "1000"
      ]
     },
     "execution_count": 3,
     "metadata": {},
     "output_type": "execute_result"
    }
   ],
   "source": [
    "len(trips)"
   ]
  },
  {
   "cell_type": "markdown",
   "metadata": {},
   "source": [
    "Not bad at all.  Now let's see what each individual trip looks like.  Each trip is a dictionary, so we can see the attributes of each trip with the `keys` function."
   ]
  },
  {
   "cell_type": "code",
   "execution_count": 4,
   "metadata": {
    "scrolled": true
   },
   "outputs": [
    {
     "data": {
      "text/plain": [
       "dict_keys(['dropoff_datetime', 'dropoff_latitude', 'dropoff_longitude', 'fare_amount', 'imp_surcharge', 'mta_tax', 'passenger_count', 'payment_type', 'pickup_datetime', 'pickup_latitude', 'pickup_longitude', 'rate_code', 'tip_amount', 'tolls_amount', 'total_amount', 'trip_distance', 'vendor_id'])"
      ]
     },
     "execution_count": 4,
     "metadata": {},
     "output_type": "execute_result"
    }
   ],
   "source": [
    "trips[0].keys()"
   ]
  },
  {
   "cell_type": "markdown",
   "metadata": {},
   "source": [
    "#### Limit our data"
   ]
  },
  {
   "cell_type": "markdown",
   "metadata": {},
   "source": [
    "Ok, now that we have explored some of our data, let's begin to think through what data is relevant for our task."
   ]
  },
  {
   "cell_type": "markdown",
   "metadata": {
    "collapsed": true
   },
   "source": [
    "Remember that our task is to **use the trip location to predict the length of a trip**.  So let's select the `pickup_latitude`, `pickup_longitude`, and `trip_distance` from each trip.  That will give us the trip location and related `trip_distance` for each trip.  Then based on these **actual** trip distances we can use nearest neighbors to predict an **expected** trip distance for a trip, provided an **actual** location."
   ]
  },
  {
   "cell_type": "markdown",
   "metadata": {},
   "source": [
    "** Add in about trip distance ** "
   ]
  },
  {
   "cell_type": "markdown",
   "metadata": {},
   "source": [
    "Write a function called `parse_trips(trips)` that returns a list of the trips with only the following attributes: \n",
    "* `trip_distance`\n",
    "* `pickup_latitude`\n",
    "* `pickup_longitude`"
   ]
  },
  {
   "cell_type": "code",
   "execution_count": 5,
   "metadata": {},
   "outputs": [],
   "source": [
    "def parse_trips(trips):\n",
    "    return list(map(lambda trips: {'trip_distance': trips['trip_distance'],'pickup_latitude':trips['pickup_latitude'],'pickup_longitude':trips['pickup_longitude']} , trips))\n",
    "    pass"
   ]
  },
  {
   "cell_type": "code",
   "execution_count": 7,
   "metadata": {},
   "outputs": [
    {
     "data": {
      "text/plain": [
       "{'trip_distance': '18.379999999999999',\n",
       " 'pickup_latitude': '40.64499',\n",
       " 'pickup_longitude': '-73.781149999999997'}"
      ]
     },
     "execution_count": 7,
     "metadata": {},
     "output_type": "execute_result"
    }
   ],
   "source": [
    "parsed_trips = parse_trips(trips)\n",
    "parsed_trips and parsed_trips[0]\n",
    "\n",
    "# {'pickup_latitude': '40.64499',\n",
    "#  'pickup_longitude': '-73.78115',\n",
    "#  'trip_distance': '18.38'}"
   ]
  },
  {
   "cell_type": "markdown",
   "metadata": {},
   "source": [
    "Now, there's just one change to make.  If you look at one of the trips, all of the values are strings.  Let's change them to be floats."
   ]
  },
  {
   "cell_type": "code",
   "execution_count": 8,
   "metadata": {},
   "outputs": [],
   "source": [
    "def float_values(trips):\n",
    "    return list(map(lambda trips: {'trip_distance': float(trips['trip_distance']),'pickup_latitude':float(trips['pickup_latitude']),'pickup_longitude': float(trips['pickup_longitude'])} , trips))\n",
    "    pass"
   ]
  },
  {
   "cell_type": "code",
   "execution_count": 9,
   "metadata": {},
   "outputs": [],
   "source": [
    "cleaned_trips = float_values(parsed_trips)"
   ]
  },
  {
   "cell_type": "code",
   "execution_count": 10,
   "metadata": {},
   "outputs": [
    {
     "data": {
      "text/plain": [
       "{'trip_distance': 18.38,\n",
       " 'pickup_latitude': 40.64499,\n",
       " 'pickup_longitude': -73.78115}"
      ]
     },
     "execution_count": 10,
     "metadata": {},
     "output_type": "execute_result"
    }
   ],
   "source": [
    "cleaned_trips[0]\n",
    "\n",
    "# {'pickup_latitude': 40.64499,\n",
    "#  'pickup_longitude': -73.78115,\n",
    "#  'trip_distance': 18.38}"
   ]
  },
  {
   "cell_type": "markdown",
   "metadata": {},
   "source": [
    "### Exploring the Data"
   ]
  },
  {
   "cell_type": "markdown",
   "metadata": {},
   "source": [
    "Now that we have paired down our data, let's get a sense of our trip data.  We can use the `folium` Python library to plot a map of Manhattan, and our data.  First we must import `folium`, and then use the `Map` function to pass through a `location`, and `zoom_start`.  If a map isn't showing up below, copy and paste the command `pip install -r requirements.txt` into your terminal to install `folium` then try again."
   ]
  },
  {
   "cell_type": "code",
   "execution_count": 16,
   "metadata": {},
   "outputs": [
    {
     "name": "stdout",
     "output_type": "stream",
     "text": [
      "Collecting folium (from -r requirements.txt (line 1))\n",
      "\u001b[?25l  Downloading https://files.pythonhosted.org/packages/55/e2/7e523df8558b7f4b2ab4c62014fd378ccecce3fdc14c9928b272a88ae4cc/folium-0.7.0-py3-none-any.whl (85kB)\n",
      "\u001b[K    100% |████████████████████████████████| 92kB 21.9MB/s ta 0:00:01\n",
      "\u001b[?25hRequirement already satisfied: six in /opt/conda/envs/learn-env/lib/python3.6/site-packages (from folium->-r requirements.txt (line 1)) (1.11.0)\n",
      "Requirement already satisfied: requests in /opt/conda/envs/learn-env/lib/python3.6/site-packages (from folium->-r requirements.txt (line 1)) (2.19.1)\n",
      "Requirement already satisfied: jinja2 in /opt/conda/envs/learn-env/lib/python3.6/site-packages (from folium->-r requirements.txt (line 1)) (2.10)\n",
      "Collecting branca>=0.3.0 (from folium->-r requirements.txt (line 1))\n",
      "  Downloading https://files.pythonhosted.org/packages/63/36/1c93318e9653f4e414a2e0c3b98fc898b4970e939afeedeee6075dd3b703/branca-0.3.1-py3-none-any.whl\n",
      "Requirement already satisfied: numpy in /opt/conda/envs/learn-env/lib/python3.6/site-packages (from folium->-r requirements.txt (line 1)) (1.15.0)\n",
      "Requirement already satisfied: urllib3<1.24,>=1.21.1 in /opt/conda/envs/learn-env/lib/python3.6/site-packages (from requests->folium->-r requirements.txt (line 1)) (1.23)\n",
      "Requirement already satisfied: chardet<3.1.0,>=3.0.2 in /opt/conda/envs/learn-env/lib/python3.6/site-packages (from requests->folium->-r requirements.txt (line 1)) (3.0.4)\n",
      "Requirement already satisfied: idna<2.8,>=2.5 in /opt/conda/envs/learn-env/lib/python3.6/site-packages (from requests->folium->-r requirements.txt (line 1)) (2.7)\n",
      "Requirement already satisfied: certifi>=2017.4.17 in /opt/conda/envs/learn-env/lib/python3.6/site-packages (from requests->folium->-r requirements.txt (line 1)) (2018.8.13)\n",
      "Requirement already satisfied: MarkupSafe>=0.23 in /opt/conda/envs/learn-env/lib/python3.6/site-packages (from jinja2->folium->-r requirements.txt (line 1)) (1.1.0)\n",
      "Installing collected packages: branca, folium\n",
      "Successfully installed branca-0.3.1 folium-0.7.0\n",
      "\u001b[33mYou are using pip version 10.0.1, however version 18.1 is available.\n",
      "You should consider upgrading via the 'pip install --upgrade pip' command.\u001b[0m\n"
     ]
    }
   ],
   "source": [
    "!pip install -r requirements.txt\n",
    "import folium\n",
    "manhattan_map = folium.Map(location=[40.7589, -73.9851], zoom_start=11)"
   ]
  },
  {
   "cell_type": "code",
   "execution_count": 17,
   "metadata": {
    "scrolled": true
   },
   "outputs": [
    {
     "data": {
      "text/html": [
       "<div style=\"width:100%;\"><div style=\"position:relative;width:100%;height:0;padding-bottom:60%;\"><iframe src=\"data:text/html;charset=utf-8;base64,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\" style=\"position:absolute;width:100%;height:100%;left:0;top:0;border:none !important;\" allowfullscreen webkitallowfullscreen mozallowfullscreen></iframe></div></div>"
      ],
      "text/plain": [
       "<folium.folium.Map at 0x7ff770545f98>"
      ]
     },
     "execution_count": 17,
     "metadata": {},
     "output_type": "execute_result"
    }
   ],
   "source": [
    "manhattan_map"
   ]
  },
  {
   "cell_type": "markdown",
   "metadata": {},
   "source": [
    "Ok, now let's see how we could add a dot to mark a specific location.  We'll start with Times Square."
   ]
  },
  {
   "cell_type": "code",
   "execution_count": 1,
   "metadata": {},
   "outputs": [
    {
     "ename": "NameError",
     "evalue": "name 'folium' is not defined",
     "output_type": "error",
     "traceback": [
      "\u001b[0;31m\u001b[0m",
      "\u001b[0;31mNameError\u001b[0mTraceback (most recent call last)",
      "\u001b[0;32m<ipython-input-1-f70fbc7a9989>\u001b[0m in \u001b[0;36m<module>\u001b[0;34m()\u001b[0m\n\u001b[0;32m----> 1\u001b[0;31m \u001b[0mmarker\u001b[0m \u001b[0;34m=\u001b[0m \u001b[0mfolium\u001b[0m\u001b[0;34m.\u001b[0m\u001b[0mCircleMarker\u001b[0m\u001b[0;34m(\u001b[0m\u001b[0mlocation\u001b[0m \u001b[0;34m=\u001b[0m \u001b[0;34m[\u001b[0m\u001b[0;36m40.7589\u001b[0m\u001b[0;34m,\u001b[0m \u001b[0;34m-\u001b[0m\u001b[0;36m73.9851\u001b[0m\u001b[0;34m]\u001b[0m\u001b[0;34m,\u001b[0m \u001b[0mradius\u001b[0m\u001b[0;34m=\u001b[0m\u001b[0;36m10\u001b[0m\u001b[0;34m)\u001b[0m\u001b[0;34m\u001b[0m\u001b[0m\n\u001b[0m\u001b[1;32m      2\u001b[0m \u001b[0mmarker\u001b[0m\u001b[0;34m.\u001b[0m\u001b[0madd_to\u001b[0m\u001b[0;34m(\u001b[0m\u001b[0mmanhattan_map\u001b[0m\u001b[0;34m)\u001b[0m\u001b[0;34m\u001b[0m\u001b[0m\n",
      "\u001b[0;31mNameError\u001b[0m: name 'folium' is not defined"
     ]
    }
   ],
   "source": [
    "marker = folium.CircleMarker(location = [40.7589, -73.9851], radius=10)\n",
    "marker.add_to(manhattan_map)"
   ]
  },
  {
   "cell_type": "markdown",
   "metadata": {},
   "source": [
    "Above, we first create a marker.  Then we add that circle marker to the `manhattan_map` we created earlier. "
   ]
  },
  {
   "cell_type": "code",
   "execution_count": 19,
   "metadata": {
    "scrolled": false
   },
   "outputs": [
    {
     "data": {
      "text/html": [
       "<div style=\"width:100%;\"><div style=\"position:relative;width:100%;height:0;padding-bottom:60%;\"><iframe src=\"data:text/html;charset=utf-8;base64,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\" style=\"position:absolute;width:100%;height:100%;left:0;top:0;border:none !important;\" allowfullscreen webkitallowfullscreen mozallowfullscreen></iframe></div></div>"
      ],
      "text/plain": [
       "<folium.folium.Map at 0x7ff770545f98>"
      ]
     },
     "execution_count": 19,
     "metadata": {},
     "output_type": "execute_result"
    }
   ],
   "source": [
    "manhattan_map"
   ]
  },
  {
   "cell_type": "markdown",
   "metadata": {},
   "source": [
    "Do you see that blue dot near Time's Square?  That is our marker.  \n",
    "\n",
    "So now that we can plot one marker on a map, we should have a sense of how we can plot many markers on a map to display our taxi ride data.  We simply plot a map, and then we add a marker for each location of a taxi trip.\n",
    "\n",
    "Now let's write some functions to allow us to plot maps and add markers a little more easily.  "
   ]
  },
  {
   "cell_type": "markdown",
   "metadata": {},
   "source": [
    "#### Writing some map plotting functions"
   ]
  },
  {
   "cell_type": "markdown",
   "metadata": {},
   "source": [
    "As a first step towards this, note that the functions to create both a marker and map each take in a location as two element list, representing the latitude and longitude values.  Take another look:\n",
    "\n",
    "```python\n",
    "marker = folium.CircleMarker(location = [40.7589, -73.9851])\n",
    "manhattan_map = folium.Map(location=[40.7589, -73.9851])\n",
    "```\n",
    "\n",
    "So let's write a function called to create this two element list from a trip.  Write a function called `location` that  takes in a trip as an argument and returns a list where the first element is the latitude and the second is the longitude.  Remember that a location looks like the following:"
   ]
  },
  {
   "cell_type": "code",
   "execution_count": 20,
   "metadata": {},
   "outputs": [
    {
     "data": {
      "text/plain": [
       "{'pickup_latitude': 40.64499,\n",
       " 'pickup_longitude': -73.78115,\n",
       " 'trip_distance': 18.38}"
      ]
     },
     "execution_count": 20,
     "metadata": {},
     "output_type": "execute_result"
    }
   ],
   "source": [
    "first_trip = {'pickup_latitude': 40.64499, 'pickup_longitude': -73.78115,  'trip_distance': 18.38}\n",
    "first_trip"
   ]
  },
  {
   "cell_type": "code",
   "execution_count": 22,
   "metadata": {},
   "outputs": [],
   "source": [
    "def location(trip):\n",
    "    return [trip['pickup_latitude'],trip['pickup_longitude']]\n",
    "    pass"
   ]
  },
  {
   "cell_type": "code",
   "execution_count": 23,
   "metadata": {},
   "outputs": [
    {
     "data": {
      "text/plain": [
       "[40.64499, -73.78115]"
      ]
     },
     "execution_count": 23,
     "metadata": {},
     "output_type": "execute_result"
    }
   ],
   "source": [
    "first_location = location(first_trip) # [40.64499, -73.78115]\n",
    "first_location # [40.64499, -73.78115]"
   ]
  },
  {
   "cell_type": "markdown",
   "metadata": {},
   "source": [
    "Ok, now that we can turn a trip into a location, let's turn a location into a marker.  Write a function called `to_marker` that takes in a location (in the form of a list) as an argument, and returns a folium `circleMarker` for that location.  The radius of the marker should always equal 6."
   ]
  },
  {
   "cell_type": "code",
   "execution_count": 24,
   "metadata": {},
   "outputs": [],
   "source": [
    "def to_marker(location):\n",
    "    return folium.CircleMarker(location = location, radius=6)\n",
    "    pass"
   ]
  },
  {
   "cell_type": "code",
   "execution_count": 27,
   "metadata": {},
   "outputs": [],
   "source": [
    "import json\n",
    "times_square_marker = to_marker([40.7589, -73.9851])\n",
    "\n",
    "times_square_marker and times_square_marker.location # [40.7589, -73.9851]\n",
    "times_square_marker and json.loads(times_square_marker.options)['radius'] # 6"
   ]
  },
  {
   "cell_type": "markdown",
   "metadata": {},
   "source": [
    "Ok, now that we know how to produce a single marker, let's write a function to produce lots.  We can write a function called `markers_from_trips` that takes in a list of trips, and returns a marker object for each trip.  "
   ]
  },
  {
   "cell_type": "code",
   "execution_count": 28,
   "metadata": {},
   "outputs": [],
   "source": [
    "def markers_from_trips(trips):\n",
    "    return list(map(lambda trips: to_marker(location(trips)),trips))\n",
    "    pass"
   ]
  },
  {
   "cell_type": "code",
   "execution_count": 29,
   "metadata": {},
   "outputs": [],
   "source": [
    "trip_markers = markers_from_trips(cleaned_trips)"
   ]
  },
  {
   "cell_type": "code",
   "execution_count": 30,
   "metadata": {},
   "outputs": [
    {
     "data": {
      "text/plain": [
       "[{'trip_distance': 18.38,\n",
       "  'pickup_latitude': 40.64499,\n",
       "  'pickup_longitude': -73.78115},\n",
       " {'trip_distance': 1.3,\n",
       "  'pickup_latitude': 40.766931,\n",
       "  'pickup_longitude': -73.982098},\n",
       " {'trip_distance': 4.5,\n",
       "  'pickup_latitude': 40.77773,\n",
       "  'pickup_longitude': -73.951902},\n",
       " {'trip_distance': 2.4,\n",
       "  'pickup_latitude': 40.795678,\n",
       "  'pickup_longitude': -73.971049}]"
      ]
     },
     "execution_count": 30,
     "metadata": {},
     "output_type": "execute_result"
    }
   ],
   "source": [
    "cleaned_trips[0:4]"
   ]
  },
  {
   "cell_type": "code",
   "execution_count": 32,
   "metadata": {},
   "outputs": [
    {
     "data": {
      "text/plain": [
       "[[40.64499, -73.78115],\n",
       " [40.766931, -73.982098],\n",
       " [40.77773, -73.951902],\n",
       " [40.795678, -73.971049]]"
      ]
     },
     "execution_count": 32,
     "metadata": {},
     "output_type": "execute_result"
    }
   ],
   "source": [
    "trip_markers and len(trip_markers) # 1000\n",
    "\n",
    "list(map(lambda marker: marker.location, trip_markers[0:4]))\n",
    "# [[40.64499, -73.78115],\n",
    "#  [40.766931, -73.982098],\n",
    "#  [40.77773, -73.951902],\n",
    "#  [40.795678, -73.971049]]"
   ]
  },
  {
   "cell_type": "markdown",
   "metadata": {},
   "source": [
    "Ok, now that we have a function that creates locations, and a function that creates markers, it is time to write a function to plot a map. \n",
    "\n",
    "Write a function called `map_from` that, provided the first argument of a list location and second argument an integer representing the `zoom_start`, returns a `folium` map the corresponding location and `zoom_start` attributes.\n",
    "\n",
    "> Hint: The following is how to write a map with folium:\n",
    "> ```python \n",
    "    folium.Map(location=location, zoom_start=zoom_amount)\n",
    "> ```"
   ]
  },
  {
   "cell_type": "code",
   "execution_count": 33,
   "metadata": {},
   "outputs": [],
   "source": [
    "def map_from(location, zoom_amount):\n",
    "    return folium.Map(location=location, zoom_start=zoom_amount)\n",
    "    pass"
   ]
  },
  {
   "cell_type": "code",
   "execution_count": 36,
   "metadata": {},
   "outputs": [
    {
     "data": {
      "text/plain": [
       "15"
      ]
     },
     "execution_count": 36,
     "metadata": {},
     "output_type": "execute_result"
    }
   ],
   "source": [
    "times_square_map = map_from([40.7589, -73.9851], 15)\n",
    "times_square_map and times_square_map.location # [40.7589, -73.9851]\n",
    "times_square_map and times_square_map.zoom_start # 15"
   ]
  },
  {
   "cell_type": "code",
   "execution_count": 37,
   "metadata": {
    "scrolled": true
   },
   "outputs": [
    {
     "data": {
      "text/html": [
       "<div style=\"width:100%;\"><div style=\"position:relative;width:100%;height:0;padding-bottom:60%;\"><iframe src=\"data:text/html;charset=utf-8;base64,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\" style=\"position:absolute;width:100%;height:100%;left:0;top:0;border:none !important;\" allowfullscreen webkitallowfullscreen mozallowfullscreen></iframe></div></div>"
      ],
      "text/plain": [
       "<folium.folium.Map at 0x7ff741b35400>"
      ]
     },
     "execution_count": 37,
     "metadata": {},
     "output_type": "execute_result"
    }
   ],
   "source": [
    "times_square_marker and times_square_marker.add_to(times_square_map)\n",
    "times_square_map"
   ]
  },
  {
   "cell_type": "markdown",
   "metadata": {},
   "source": [
    "Now that we have a marker and a map, now let's write a function that adds a lot of markers to a map.  This function should add each marker in the list to the map object then return the updated map object."
   ]
  },
  {
   "cell_type": "code",
   "execution_count": 38,
   "metadata": {},
   "outputs": [],
   "source": [
    "manhattan_map = map_from([40.7589, -73.9851], 13)"
   ]
  },
  {
   "cell_type": "code",
   "execution_count": 41,
   "metadata": {},
   "outputs": [],
   "source": [
    "def add_markers(markers, map_obj):\n",
    "    return list (map(lambda markers: markers and markers.add_to(map_obj), markers))\n",
    "    pass"
   ]
  },
  {
   "cell_type": "code",
   "execution_count": 42,
   "metadata": {
    "scrolled": false
   },
   "outputs": [],
   "source": [
    "map_with_markers = add_markers(trip_markers, manhattan_map)"
   ]
  },
  {
   "cell_type": "code",
   "execution_count": 43,
   "metadata": {},
   "outputs": [
    {
     "data": {
      "text/plain": [
       "[<folium.vector_layers.CircleMarker at 0x7ff741c73eb8>,\n",
       " <folium.vector_layers.CircleMarker at 0x7ff741c737f0>,\n",
       " <folium.vector_layers.CircleMarker at 0x7ff741c73d30>,\n",
       " <folium.vector_layers.CircleMarker at 0x7ff741c73908>,\n",
       " <folium.vector_layers.CircleMarker at 0x7ff741c73208>,\n",
       " <folium.vector_layers.CircleMarker at 0x7ff741c8c0f0>,\n",
       " <folium.vector_layers.CircleMarker at 0x7ff741c8c198>,\n",
       " <folium.vector_layers.CircleMarker at 0x7ff741c8c2b0>,\n",
       " <folium.vector_layers.CircleMarker at 0x7ff741c8c390>,\n",
       " <folium.vector_layers.CircleMarker at 0x7ff741c8c438>,\n",
       " <folium.vector_layers.CircleMarker at 0x7ff741c736a0>,\n",
       " <folium.vector_layers.CircleMarker at 0x7ff741c739e8>,\n",
       " <folium.vector_layers.CircleMarker at 0x7ff741c73b38>,\n",
       " <folium.vector_layers.CircleMarker at 0x7ff741c73ac8>,\n",
       " <folium.vector_layers.CircleMarker at 0x7ff741c73fd0>,\n",
       " <folium.vector_layers.CircleMarker at 0x7ff741c73f60>,\n",
       " <folium.vector_layers.CircleMarker at 0x7ff741c8c208>,\n",
       " <folium.vector_layers.CircleMarker at 0x7ff741c8c128>,\n",
       " <folium.vector_layers.CircleMarker at 0x7ff741c8c080>,\n",
       " <folium.vector_layers.CircleMarker at 0x7ff741c8c550>,\n",
       " <folium.vector_layers.CircleMarker at 0x7ff741c8c588>,\n",
       " <folium.vector_layers.CircleMarker at 0x7ff741c8c470>,\n",
       " <folium.vector_layers.CircleMarker at 0x7ff741c8c668>,\n",
       " <folium.vector_layers.CircleMarker at 0x7ff741c8c710>,\n",
       " <folium.vector_layers.CircleMarker at 0x7ff741c8c7b8>,\n",
       " <folium.vector_layers.CircleMarker at 0x7ff741c8c860>,\n",
       " <folium.vector_layers.CircleMarker at 0x7ff741c8c908>,\n",
       " <folium.vector_layers.CircleMarker at 0x7ff741c8c9b0>,\n",
       " <folium.vector_layers.CircleMarker at 0x7ff741c8ca58>,\n",
       " <folium.vector_layers.CircleMarker at 0x7ff741c8cb00>,\n",
       " <folium.vector_layers.CircleMarker at 0x7ff741c8cba8>,\n",
       " <folium.vector_layers.CircleMarker at 0x7ff741c73198>,\n",
       " <folium.vector_layers.CircleMarker at 0x7ff741c73f28>,\n",
       " <folium.vector_layers.CircleMarker at 0x7ff741c730b8>,\n",
       " <folium.vector_layers.CircleMarker at 0x7ff741c739b0>,\n",
       " <folium.vector_layers.CircleMarker at 0x7ff741c8c9e8>,\n",
       " <folium.vector_layers.CircleMarker at 0x7ff741c8ca20>,\n",
       " <folium.vector_layers.CircleMarker at 0x7ff741c8c8d0>,\n",
       " <folium.vector_layers.CircleMarker at 0x7ff741c8c400>,\n",
       " <folium.vector_layers.CircleMarker at 0x7ff741c8c6d8>,\n",
       " <folium.vector_layers.CircleMarker at 0x7ff741c8c320>,\n",
       " <folium.vector_layers.CircleMarker at 0x7ff741c8c1d0>,\n",
       " <folium.vector_layers.CircleMarker at 0x7ff741c8c160>,\n",
       " <folium.vector_layers.CircleMarker at 0x7ff741c8c3c8>,\n",
       " <folium.vector_layers.CircleMarker at 0x7ff741c8cc88>,\n",
       " <folium.vector_layers.CircleMarker at 0x7ff741c8cd30>,\n",
       " <folium.vector_layers.CircleMarker at 0x7ff741c8c240>,\n",
       " <folium.vector_layers.CircleMarker at 0x7ff741c8ce10>,\n",
       " <folium.vector_layers.CircleMarker at 0x7ff741c8ceb8>,\n",
       " <folium.vector_layers.CircleMarker at 0x7ff741c8cf60>,\n",
       " <folium.vector_layers.CircleMarker at 0x7ff741c8cef0>,\n",
       " <folium.vector_layers.CircleMarker at 0x7ff741c2c048>,\n",
       " <folium.vector_layers.CircleMarker at 0x7ff741c2c128>,\n",
       " <folium.vector_layers.CircleMarker at 0x7ff741c8c940>,\n",
       " <folium.vector_layers.CircleMarker at 0x7ff741c8cf28>,\n",
       " <folium.vector_layers.CircleMarker at 0x7ff741c8cc50>,\n",
       " <folium.vector_layers.CircleMarker at 0x7ff741c8ccf8>,\n",
       " <folium.vector_layers.CircleMarker at 0x7ff741c8c5f8>,\n",
       " <folium.vector_layers.CircleMarker at 0x7ff741c8c4e0>,\n",
       " <folium.vector_layers.CircleMarker at 0x7ff741c8c6a0>,\n",
       " <folium.vector_layers.CircleMarker at 0x7ff741c8c5c0>,\n",
       " <folium.vector_layers.CircleMarker at 0x7ff741c8c748>,\n",
       " <folium.vector_layers.CircleMarker at 0x7ff741c8cb70>,\n",
       " <folium.vector_layers.CircleMarker at 0x7ff741c8c898>,\n",
       " <folium.vector_layers.CircleMarker at 0x7ff741c73b70>,\n",
       " <folium.vector_layers.CircleMarker at 0x7ff741c73b00>,\n",
       " <folium.vector_layers.CircleMarker at 0x7ff741c2c0f0>,\n",
       " <folium.vector_layers.CircleMarker at 0x7ff741c2c278>,\n",
       " <folium.vector_layers.CircleMarker at 0x7ff741c2c358>,\n",
       " <folium.vector_layers.CircleMarker at 0x7ff741c2c390>,\n",
       " <folium.vector_layers.CircleMarker at 0x7ff741c2c438>,\n",
       " <folium.vector_layers.CircleMarker at 0x7ff741c2c4e0>,\n",
       " <folium.vector_layers.CircleMarker at 0x7ff741c2c588>,\n",
       " <folium.vector_layers.CircleMarker at 0x7ff741c2c630>,\n",
       " <folium.vector_layers.CircleMarker at 0x7ff741c2c6d8>,\n",
       " <folium.vector_layers.CircleMarker at 0x7ff741c73470>,\n",
       " <folium.vector_layers.CircleMarker at 0x7ff741c73588>,\n",
       " <folium.vector_layers.CircleMarker at 0x7ff741c8c630>,\n",
       " <folium.vector_layers.CircleMarker at 0x7ff741c8c7f0>,\n",
       " <folium.vector_layers.CircleMarker at 0x7ff741c8cbe0>,\n",
       " <folium.vector_layers.CircleMarker at 0x7ff741c8ccc0>,\n",
       " <folium.vector_layers.CircleMarker at 0x7ff741c8cb38>,\n",
       " <folium.vector_layers.CircleMarker at 0x7ff741c8ce48>,\n",
       " <folium.vector_layers.CircleMarker at 0x7ff741c8cfd0>,\n",
       " <folium.vector_layers.CircleMarker at 0x7ff741c2c3c8>,\n",
       " <folium.vector_layers.CircleMarker at 0x7ff741c2c0b8>,\n",
       " <folium.vector_layers.CircleMarker at 0x7ff741c2c208>,\n",
       " <folium.vector_layers.CircleMarker at 0x7ff741c2c240>,\n",
       " <folium.vector_layers.CircleMarker at 0x7ff741c2c780>,\n",
       " <folium.vector_layers.CircleMarker at 0x7ff741c2c668>,\n",
       " <folium.vector_layers.CircleMarker at 0x7ff741c2c898>,\n",
       " <folium.vector_layers.CircleMarker at 0x7ff741c2c8d0>,\n",
       " <folium.vector_layers.CircleMarker at 0x7ff741c2c978>,\n",
       " <folium.vector_layers.CircleMarker at 0x7ff741c2ca20>,\n",
       " <folium.vector_layers.CircleMarker at 0x7ff741c2cac8>,\n",
       " <folium.vector_layers.CircleMarker at 0x7ff741c2cb70>,\n",
       " <folium.vector_layers.CircleMarker at 0x7ff741c2cc18>,\n",
       " <folium.vector_layers.CircleMarker at 0x7ff741c8cac8>,\n",
       " <folium.vector_layers.CircleMarker at 0x7ff741c8c048>,\n",
       " <folium.vector_layers.CircleMarker at 0x7ff741c8c358>,\n",
       " <folium.vector_layers.CircleMarker at 0x7ff741c73860>,\n",
       " <folium.vector_layers.CircleMarker at 0x7ff741c73cf8>,\n",
       " <folium.vector_layers.CircleMarker at 0x7ff741c8c2e8>,\n",
       " <folium.vector_layers.CircleMarker at 0x7ff741c2c908>,\n",
       " <folium.vector_layers.CircleMarker at 0x7ff741c2c828>,\n",
       " <folium.vector_layers.CircleMarker at 0x7ff741c2c1d0>,\n",
       " <folium.vector_layers.CircleMarker at 0x7ff741c2c320>,\n",
       " <folium.vector_layers.CircleMarker at 0x7ff741c2c5c0>,\n",
       " <folium.vector_layers.CircleMarker at 0x7ff741c2c5f8>,\n",
       " <folium.vector_layers.CircleMarker at 0x7ff741c2c160>,\n",
       " <folium.vector_layers.CircleMarker at 0x7ff741c2c748>,\n",
       " <folium.vector_layers.CircleMarker at 0x7ff741c2cd30>,\n",
       " <folium.vector_layers.CircleMarker at 0x7ff741c2cd68>,\n",
       " <folium.vector_layers.CircleMarker at 0x7ff741c2cc50>,\n",
       " <folium.vector_layers.CircleMarker at 0x7ff741c2ce48>,\n",
       " <folium.vector_layers.CircleMarker at 0x7ff741c2cef0>,\n",
       " <folium.vector_layers.CircleMarker at 0x7ff741c2cf98>,\n",
       " <folium.vector_layers.CircleMarker at 0x7ff741c2cf28>,\n",
       " <folium.vector_layers.CircleMarker at 0x7ff741c736d8>,\n",
       " <folium.vector_layers.CircleMarker at 0x7ff741c8cda0>,\n",
       " <folium.vector_layers.CircleMarker at 0x7ff741c8c278>,\n",
       " <folium.vector_layers.CircleMarker at 0x7ff741c8c978>,\n",
       " <folium.vector_layers.CircleMarker at 0x7ff741c2cf60>,\n",
       " <folium.vector_layers.CircleMarker at 0x7ff741c2ce10>,\n",
       " <folium.vector_layers.CircleMarker at 0x7ff741c2c470>,\n",
       " <folium.vector_layers.CircleMarker at 0x7ff741c2ccc0>,\n",
       " <folium.vector_layers.CircleMarker at 0x7ff741c2c7b8>,\n",
       " <folium.vector_layers.CircleMarker at 0x7ff741c2c2e8>,\n",
       " <folium.vector_layers.CircleMarker at 0x7ff741c2ca90>,\n",
       " <folium.vector_layers.CircleMarker at 0x7ff741c2c7f0>,\n",
       " <folium.vector_layers.CircleMarker at 0x7ff741c2c9b0>,\n",
       " <folium.vector_layers.CircleMarker at 0x7ff741c2c9e8>,\n",
       " <folium.vector_layers.CircleMarker at 0x7ff741c400b8>,\n",
       " <folium.vector_layers.CircleMarker at 0x7ff741c40208>,\n",
       " <folium.vector_layers.CircleMarker at 0x7ff741c40278>,\n",
       " <folium.vector_layers.CircleMarker at 0x7ff741c40320>,\n",
       " <folium.vector_layers.CircleMarker at 0x7ff741c403c8>,\n",
       " <folium.vector_layers.CircleMarker at 0x7ff741c40470>,\n",
       " <folium.vector_layers.CircleMarker at 0x7ff741c40518>,\n",
       " <folium.vector_layers.CircleMarker at 0x7ff741c405c0>,\n",
       " <folium.vector_layers.CircleMarker at 0x7ff741c2cbe0>,\n",
       " <folium.vector_layers.CircleMarker at 0x7ff741c2c710>,\n",
       " <folium.vector_layers.CircleMarker at 0x7ff741c2cba8>,\n",
       " <folium.vector_layers.CircleMarker at 0x7ff741c2c518>,\n",
       " <folium.vector_layers.CircleMarker at 0x7ff741c2c6a0>,\n",
       " <folium.vector_layers.CircleMarker at 0x7ff741c73400>,\n",
       " <folium.vector_layers.CircleMarker at 0x7ff741c2c400>,\n",
       " <folium.vector_layers.CircleMarker at 0x7ff741c8cdd8>,\n",
       " <folium.vector_layers.CircleMarker at 0x7ff741c8c828>,\n",
       " <folium.vector_layers.CircleMarker at 0x7ff741c40400>,\n",
       " <folium.vector_layers.CircleMarker at 0x7ff741c40438>,\n",
       " <folium.vector_layers.CircleMarker at 0x7ff741c402e8>,\n",
       " <folium.vector_layers.CircleMarker at 0x7ff741c40160>,\n",
       " <folium.vector_layers.CircleMarker at 0x7ff741c40668>,\n",
       " <folium.vector_layers.CircleMarker at 0x7ff741c40550>,\n",
       " <folium.vector_layers.CircleMarker at 0x7ff741c40780>,\n",
       " <folium.vector_layers.CircleMarker at 0x7ff741c407b8>,\n",
       " <folium.vector_layers.CircleMarker at 0x7ff741c40860>,\n",
       " <folium.vector_layers.CircleMarker at 0x7ff741c40908>,\n",
       " <folium.vector_layers.CircleMarker at 0x7ff741c409b0>,\n",
       " <folium.vector_layers.CircleMarker at 0x7ff741c40a58>,\n",
       " <folium.vector_layers.CircleMarker at 0x7ff741c40b00>,\n",
       " <folium.vector_layers.CircleMarker at 0x7ff741c8c518>,\n",
       " <folium.vector_layers.CircleMarker at 0x7ff741c2ce80>,\n",
       " <folium.vector_layers.CircleMarker at 0x7ff741c2c080>,\n",
       " <folium.vector_layers.CircleMarker at 0x7ff741c2cb00>,\n",
       " <folium.vector_layers.CircleMarker at 0x7ff741c2c940>,\n",
       " <folium.vector_layers.CircleMarker at 0x7ff741c2c550>,\n",
       " <folium.vector_layers.CircleMarker at 0x7ff741c40a20>,\n",
       " <folium.vector_layers.CircleMarker at 0x7ff741c408d0>,\n",
       " <folium.vector_layers.CircleMarker at 0x7ff741c406d8>,\n",
       " <folium.vector_layers.CircleMarker at 0x7ff741c40748>,\n",
       " <folium.vector_layers.CircleMarker at 0x7ff741c40240>,\n",
       " <folium.vector_layers.CircleMarker at 0x7ff741c40048>,\n",
       " <folium.vector_layers.CircleMarker at 0x7ff741c404e0>,\n",
       " <folium.vector_layers.CircleMarker at 0x7ff741c40ba8>,\n",
       " <folium.vector_layers.CircleMarker at 0x7ff741c40a90>,\n",
       " <folium.vector_layers.CircleMarker at 0x7ff741c40cc0>,\n",
       " <folium.vector_layers.CircleMarker at 0x7ff741c40cf8>,\n",
       " <folium.vector_layers.CircleMarker at 0x7ff741c40da0>,\n",
       " <folium.vector_layers.CircleMarker at 0x7ff741c40e48>,\n",
       " <folium.vector_layers.CircleMarker at 0x7ff741c40ef0>,\n",
       " <folium.vector_layers.CircleMarker at 0x7ff741c40f98>,\n",
       " <folium.vector_layers.CircleMarker at 0x7ff741c40f28>,\n",
       " <folium.vector_layers.CircleMarker at 0x7ff741c40e80>,\n",
       " <folium.vector_layers.CircleMarker at 0x7ff741c40eb8>,\n",
       " <folium.vector_layers.CircleMarker at 0x7ff741c40c18>,\n",
       " <folium.vector_layers.CircleMarker at 0x7ff741c40c88>,\n",
       " <folium.vector_layers.CircleMarker at 0x7ff741c404a8>,\n",
       " <folium.vector_layers.CircleMarker at 0x7ff741c40390>,\n",
       " <folium.vector_layers.CircleMarker at 0x7ff741c40710>,\n",
       " <folium.vector_layers.CircleMarker at 0x7ff741c40128>,\n",
       " <folium.vector_layers.CircleMarker at 0x7ff741c405f8>,\n",
       " <folium.vector_layers.CircleMarker at 0x7ff741c40898>,\n",
       " <folium.vector_layers.CircleMarker at 0x7ff741c8ce80>,\n",
       " <folium.vector_layers.CircleMarker at 0x7ff741c2ccf8>,\n",
       " <folium.vector_layers.CircleMarker at 0x7ff741c2c2b0>,\n",
       " <folium.vector_layers.CircleMarker at 0x7ff741c2cc88>,\n",
       " <folium.vector_layers.CircleMarker at 0x7ff741c550b8>,\n",
       " <folium.vector_layers.CircleMarker at 0x7ff741c551d0>,\n",
       " <folium.vector_layers.CircleMarker at 0x7ff741c55278>,\n",
       " <folium.vector_layers.CircleMarker at 0x7ff741c55320>,\n",
       " <folium.vector_layers.CircleMarker at 0x7ff741c553c8>,\n",
       " <folium.vector_layers.CircleMarker at 0x7ff741c55470>,\n",
       " <folium.vector_layers.CircleMarker at 0x7ff741c55518>,\n",
       " <folium.vector_layers.CircleMarker at 0x7ff741c40d68>,\n",
       " <folium.vector_layers.CircleMarker at 0x7ff741c40ac8>,\n",
       " <folium.vector_layers.CircleMarker at 0x7ff741c402b0>,\n",
       " <folium.vector_layers.CircleMarker at 0x7ff741c40b38>,\n",
       " <folium.vector_layers.CircleMarker at 0x7ff741c40588>,\n",
       " <folium.vector_layers.CircleMarker at 0x7ff741c40d30>,\n",
       " <folium.vector_layers.CircleMarker at 0x7ff741c40fd0>,\n",
       " <folium.vector_layers.CircleMarker at 0x7ff741c40080>,\n",
       " <folium.vector_layers.CircleMarker at 0x7ff741c40dd8>,\n",
       " <folium.vector_layers.CircleMarker at 0x7ff741c2cb38>,\n",
       " <folium.vector_layers.CircleMarker at 0x7ff770545d30>,\n",
       " <folium.vector_layers.CircleMarker at 0x7ff7704fa940>,\n",
       " <folium.vector_layers.CircleMarker at 0x7ff741c2c198>,\n",
       " <folium.vector_layers.CircleMarker at 0x7ff741c8ca90>,\n",
       " <folium.vector_layers.CircleMarker at 0x7ff741c8c4a8>,\n",
       " <folium.vector_layers.CircleMarker at 0x7ff741c60f98>,\n",
       " <folium.vector_layers.CircleMarker at 0x7ff741c60978>,\n",
       " <folium.vector_layers.CircleMarker at 0x7ff741c60ba8>,\n",
       " <folium.vector_layers.CircleMarker at 0x7ff741c554e0>,\n",
       " <folium.vector_layers.CircleMarker at 0x7ff741c55390>,\n",
       " <folium.vector_layers.CircleMarker at 0x7ff741c55048>,\n",
       " <folium.vector_layers.CircleMarker at 0x7ff741c55128>,\n",
       " <folium.vector_layers.CircleMarker at 0x7ff741c554a8>,\n",
       " <folium.vector_layers.CircleMarker at 0x7ff741c60c88>,\n",
       " <folium.vector_layers.CircleMarker at 0x7ff741c8c780>,\n",
       " <folium.vector_layers.CircleMarker at 0x7ff741c8cf98>,\n",
       " <folium.vector_layers.CircleMarker at 0x7ff741c60fd0>,\n",
       " <folium.vector_layers.CircleMarker at 0x7ff741c2cda0>,\n",
       " <folium.vector_layers.CircleMarker at 0x7ff741c2ca58>,\n",
       " <folium.vector_layers.CircleMarker at 0x7ff741c40b70>,\n",
       " <folium.vector_layers.CircleMarker at 0x7ff741c40940>,\n",
       " <folium.vector_layers.CircleMarker at 0x7ff741c40f60>,\n",
       " <folium.vector_layers.CircleMarker at 0x7ff741c401d0>,\n",
       " <folium.vector_layers.CircleMarker at 0x7ff741c406a0>,\n",
       " <folium.vector_layers.CircleMarker at 0x7ff741c40358>,\n",
       " <folium.vector_layers.CircleMarker at 0x7ff741c55358>,\n",
       " <folium.vector_layers.CircleMarker at 0x7ff741c55630>,\n",
       " <folium.vector_layers.CircleMarker at 0x7ff741c55198>,\n",
       " <folium.vector_layers.CircleMarker at 0x7ff741c55710>,\n",
       " <folium.vector_layers.CircleMarker at 0x7ff741c55668>,\n",
       " <folium.vector_layers.CircleMarker at 0x7ff741c557f0>,\n",
       " <folium.vector_layers.CircleMarker at 0x7ff741c55898>,\n",
       " <folium.vector_layers.CircleMarker at 0x7ff741c55940>,\n",
       " <folium.vector_layers.CircleMarker at 0x7ff741c559e8>,\n",
       " <folium.vector_layers.CircleMarker at 0x7ff741c55a90>,\n",
       " <folium.vector_layers.CircleMarker at 0x7ff741c40c50>,\n",
       " <folium.vector_layers.CircleMarker at 0x7ff741c73978>,\n",
       " <folium.vector_layers.CircleMarker at 0x7ff741c8cc18>,\n",
       " <folium.vector_layers.CircleMarker at 0x7ff741c2c860>,\n",
       " <folium.vector_layers.CircleMarker at 0x7ff741c2c4a8>,\n",
       " <folium.vector_layers.CircleMarker at 0x7ff741c40198>,\n",
       " <folium.vector_layers.CircleMarker at 0x7ff741c60cf8>,\n",
       " <folium.vector_layers.CircleMarker at 0x7ff741c558d0>,\n",
       " <folium.vector_layers.CircleMarker at 0x7ff741c55908>,\n",
       " <folium.vector_layers.CircleMarker at 0x7ff741c557b8>,\n",
       " <folium.vector_layers.CircleMarker at 0x7ff741c552e8>,\n",
       " <folium.vector_layers.CircleMarker at 0x7ff741c556d8>,\n",
       " <folium.vector_layers.CircleMarker at 0x7ff741c552b0>,\n",
       " <folium.vector_layers.CircleMarker at 0x7ff741c55b38>,\n",
       " <folium.vector_layers.CircleMarker at 0x7ff741c55a20>,\n",
       " <folium.vector_layers.CircleMarker at 0x7ff741c55c50>,\n",
       " <folium.vector_layers.CircleMarker at 0x7ff741c55c88>,\n",
       " <folium.vector_layers.CircleMarker at 0x7ff741c55d30>,\n",
       " <folium.vector_layers.CircleMarker at 0x7ff741c55dd8>,\n",
       " <folium.vector_layers.CircleMarker at 0x7ff741c55e80>,\n",
       " <folium.vector_layers.CircleMarker at 0x7ff741c55f28>,\n",
       " <folium.vector_layers.CircleMarker at 0x7ff741c55fd0>,\n",
       " <folium.vector_layers.CircleMarker at 0x7ff741c60f28>,\n",
       " <folium.vector_layers.CircleMarker at 0x7ff741c2cfd0>,\n",
       " <folium.vector_layers.CircleMarker at 0x7ff741c400f0>,\n",
       " <folium.vector_layers.CircleMarker at 0x7ff741c40be0>,\n",
       " <folium.vector_layers.CircleMarker at 0x7ff741c40978>,\n",
       " <folium.vector_layers.CircleMarker at 0x7ff741c55cc0>,\n",
       " <folium.vector_layers.CircleMarker at 0x7ff741c55be0>,\n",
       " <folium.vector_layers.CircleMarker at 0x7ff741c555f8>,\n",
       " <folium.vector_layers.CircleMarker at 0x7ff741c55438>,\n",
       " <folium.vector_layers.CircleMarker at 0x7ff741c55978>,\n",
       " <folium.vector_layers.CircleMarker at 0x7ff741c55748>,\n",
       " <folium.vector_layers.CircleMarker at 0x7ff741c55780>,\n",
       " <folium.vector_layers.CircleMarker at 0x7ff741c559b0>,\n",
       " <folium.vector_layers.CircleMarker at 0x7ff741c55eb8>,\n",
       " <folium.vector_layers.CircleMarker at 0x7ff741c55550>,\n",
       " <folium.vector_layers.CircleMarker at 0x7ff741bea128>,\n",
       " <folium.vector_layers.CircleMarker at 0x7ff741bea208>,\n",
       " <folium.vector_layers.CircleMarker at 0x7ff741bea2b0>,\n",
       " <folium.vector_layers.CircleMarker at 0x7ff741bea358>,\n",
       " <folium.vector_layers.CircleMarker at 0x7ff741bea400>,\n",
       " <folium.vector_layers.CircleMarker at 0x7ff741bea4a8>,\n",
       " <folium.vector_layers.CircleMarker at 0x7ff741bea550>,\n",
       " <folium.vector_layers.CircleMarker at 0x7ff741c55f98>,\n",
       " <folium.vector_layers.CircleMarker at 0x7ff741c55860>,\n",
       " <folium.vector_layers.CircleMarker at 0x7ff741c55cf8>,\n",
       " <folium.vector_layers.CircleMarker at 0x7ff741c55c18>,\n",
       " <folium.vector_layers.CircleMarker at 0x7ff741c55da0>,\n",
       " <folium.vector_layers.CircleMarker at 0x7ff741c409e8>,\n",
       " <folium.vector_layers.CircleMarker at 0x7ff741c40630>,\n",
       " <folium.vector_layers.CircleMarker at 0x7ff741c607f0>,\n",
       " <folium.vector_layers.CircleMarker at 0x7ff741c55208>,\n",
       " <folium.vector_layers.CircleMarker at 0x7ff741bea390>,\n",
       " <folium.vector_layers.CircleMarker at 0x7ff741bea3c8>,\n",
       " <folium.vector_layers.CircleMarker at 0x7ff741bea278>,\n",
       " <folium.vector_layers.CircleMarker at 0x7ff741bea0b8>,\n",
       " <folium.vector_layers.CircleMarker at 0x7ff741bea5f8>,\n",
       " <folium.vector_layers.CircleMarker at 0x7ff741bea4e0>,\n",
       " <folium.vector_layers.CircleMarker at 0x7ff741bea710>,\n",
       " <folium.vector_layers.CircleMarker at 0x7ff741bea748>,\n",
       " <folium.vector_layers.CircleMarker at 0x7ff741bea7f0>,\n",
       " <folium.vector_layers.CircleMarker at 0x7ff741bea898>,\n",
       " <folium.vector_layers.CircleMarker at 0x7ff741bea940>,\n",
       " <folium.vector_layers.CircleMarker at 0x7ff741bea9e8>,\n",
       " <folium.vector_layers.CircleMarker at 0x7ff741beaa90>,\n",
       " <folium.vector_layers.CircleMarker at 0x7ff741c8cd68>,\n",
       " <folium.vector_layers.CircleMarker at 0x7ff741c55ac8>,\n",
       " <folium.vector_layers.CircleMarker at 0x7ff741c55d68>,\n",
       " <folium.vector_layers.CircleMarker at 0x7ff741c550f0>,\n",
       " <folium.vector_layers.CircleMarker at 0x7ff741c55160>,\n",
       " <folium.vector_layers.CircleMarker at 0x7ff741c555c0>,\n",
       " <folium.vector_layers.CircleMarker at 0x7ff741bea9b0>,\n",
       " <folium.vector_layers.CircleMarker at 0x7ff741bea860>,\n",
       " <folium.vector_layers.CircleMarker at 0x7ff741bea668>,\n",
       " <folium.vector_layers.CircleMarker at 0x7ff741bea6d8>,\n",
       " <folium.vector_layers.CircleMarker at 0x7ff741bea160>,\n",
       " <folium.vector_layers.CircleMarker at 0x7ff741bea198>,\n",
       " <folium.vector_layers.CircleMarker at 0x7ff741bea470>,\n",
       " <folium.vector_layers.CircleMarker at 0x7ff741beab00>,\n",
       " <folium.vector_layers.CircleMarker at 0x7ff741beaba8>,\n",
       " <folium.vector_layers.CircleMarker at 0x7ff741beabe0>,\n",
       " <folium.vector_layers.CircleMarker at 0x7ff741beaac8>,\n",
       " <folium.vector_layers.CircleMarker at 0x7ff741beacc0>,\n",
       " <folium.vector_layers.CircleMarker at 0x7ff741bead68>,\n",
       " <folium.vector_layers.CircleMarker at 0x7ff741beae10>,\n",
       " <folium.vector_layers.CircleMarker at 0x7ff741beaeb8>,\n",
       " <folium.vector_layers.CircleMarker at 0x7ff741c407f0>,\n",
       " <folium.vector_layers.CircleMarker at 0x7ff741c55b70>,\n",
       " <folium.vector_layers.CircleMarker at 0x7ff741c2ceb8>,\n",
       " <folium.vector_layers.CircleMarker at 0x7ff741c55ba8>,\n",
       " <folium.vector_layers.CircleMarker at 0x7ff741c55240>,\n",
       " <folium.vector_layers.CircleMarker at 0x7ff741beac18>,\n",
       " <folium.vector_layers.CircleMarker at 0x7ff741bea978>,\n",
       " <folium.vector_layers.CircleMarker at 0x7ff741beaa20>,\n",
       " <folium.vector_layers.CircleMarker at 0x7ff741bea438>,\n",
       " <folium.vector_layers.CircleMarker at 0x7ff741bea320>,\n",
       " <folium.vector_layers.CircleMarker at 0x7ff741bea6a0>,\n",
       " <folium.vector_layers.CircleMarker at 0x7ff741bea048>,\n",
       " <folium.vector_layers.CircleMarker at 0x7ff741bea588>,\n",
       " <folium.vector_layers.CircleMarker at 0x7ff741beaf60>,\n",
       " <folium.vector_layers.CircleMarker at 0x7ff741beae48>,\n",
       " <folium.vector_layers.CircleMarker at 0x7ff741beafd0>,\n",
       " <folium.vector_layers.CircleMarker at 0x7ff741c02048>,\n",
       " <folium.vector_layers.CircleMarker at 0x7ff741c02160>,\n",
       " <folium.vector_layers.CircleMarker at 0x7ff741c02240>,\n",
       " <folium.vector_layers.CircleMarker at 0x7ff741c022e8>,\n",
       " <folium.vector_layers.CircleMarker at 0x7ff741c02390>,\n",
       " <folium.vector_layers.CircleMarker at 0x7ff741c02438>,\n",
       " <folium.vector_layers.CircleMarker at 0x7ff741beae80>,\n",
       " <folium.vector_layers.CircleMarker at 0x7ff741beaf98>,\n",
       " <folium.vector_layers.CircleMarker at 0x7ff741bea5c0>,\n",
       " <folium.vector_layers.CircleMarker at 0x7ff741bea240>,\n",
       " <folium.vector_layers.CircleMarker at 0x7ff741c2cdd8>,\n",
       " <folium.vector_layers.CircleMarker at 0x7ff741bea780>,\n",
       " <folium.vector_layers.CircleMarker at 0x7ff741beac50>,\n",
       " <folium.vector_layers.CircleMarker at 0x7ff741c40e10>,\n",
       " <folium.vector_layers.CircleMarker at 0x7ff741bea2e8>,\n",
       " <folium.vector_layers.CircleMarker at 0x7ff741c55f60>,\n",
       " <folium.vector_layers.CircleMarker at 0x7ff741c55a58>,\n",
       " <folium.vector_layers.CircleMarker at 0x7ff741c02128>,\n",
       " <folium.vector_layers.CircleMarker at 0x7ff741c020f0>,\n",
       " <folium.vector_layers.CircleMarker at 0x7ff741c024e0>,\n",
       " <folium.vector_layers.CircleMarker at 0x7ff741c023c8>,\n",
       " <folium.vector_layers.CircleMarker at 0x7ff741c025f8>,\n",
       " <folium.vector_layers.CircleMarker at 0x7ff741c02630>,\n",
       " <folium.vector_layers.CircleMarker at 0x7ff741c026d8>,\n",
       " <folium.vector_layers.CircleMarker at 0x7ff741c02780>,\n",
       " <folium.vector_layers.CircleMarker at 0x7ff741c02828>,\n",
       " <folium.vector_layers.CircleMarker at 0x7ff741c028d0>,\n",
       " <folium.vector_layers.CircleMarker at 0x7ff741c02978>,\n",
       " <folium.vector_layers.CircleMarker at 0x7ff741c55e48>,\n",
       " <folium.vector_layers.CircleMarker at 0x7ff741bea7b8>,\n",
       " <folium.vector_layers.CircleMarker at 0x7ff741beac88>,\n",
       " <folium.vector_layers.CircleMarker at 0x7ff741bea1d0>,\n",
       " <folium.vector_layers.CircleMarker at 0x7ff741bea080>,\n",
       " <folium.vector_layers.CircleMarker at 0x7ff741bea908>,\n",
       " <folium.vector_layers.CircleMarker at 0x7ff741bea8d0>,\n",
       " <folium.vector_layers.CircleMarker at 0x7ff741c02668>,\n",
       " <folium.vector_layers.CircleMarker at 0x7ff741c02588>,\n",
       " <folium.vector_layers.CircleMarker at 0x7ff741c020b8>,\n",
       " <folium.vector_layers.CircleMarker at 0x7ff741c022b0>,\n",
       " <folium.vector_layers.CircleMarker at 0x7ff741c02320>,\n",
       " <folium.vector_layers.CircleMarker at 0x7ff741c02198>,\n",
       " <folium.vector_layers.CircleMarker at 0x7ff741c02a20>,\n",
       " <folium.vector_layers.CircleMarker at 0x7ff741c02908>,\n",
       " <folium.vector_layers.CircleMarker at 0x7ff741c02b38>,\n",
       " <folium.vector_layers.CircleMarker at 0x7ff741c02b70>,\n",
       " <folium.vector_layers.CircleMarker at 0x7ff741c02c18>,\n",
       " <folium.vector_layers.CircleMarker at 0x7ff741c02cc0>,\n",
       " <folium.vector_layers.CircleMarker at 0x7ff741c02d68>,\n",
       " <folium.vector_layers.CircleMarker at 0x7ff741c02e10>,\n",
       " <folium.vector_layers.CircleMarker at 0x7ff741c02eb8>,\n",
       " <folium.vector_layers.CircleMarker at 0x7ff741c55e10>,\n",
       " <folium.vector_layers.CircleMarker at 0x7ff741beadd8>,\n",
       " <folium.vector_layers.CircleMarker at 0x7ff741bea630>,\n",
       " <folium.vector_layers.CircleMarker at 0x7ff741bea0f0>,\n",
       " <folium.vector_layers.CircleMarker at 0x7ff741c02dd8>,\n",
       " <folium.vector_layers.CircleMarker at 0x7ff741c02c88>,\n",
       " <folium.vector_layers.CircleMarker at 0x7ff741c02a90>,\n",
       " <folium.vector_layers.CircleMarker at 0x7ff741c02b00>,\n",
       " <folium.vector_layers.CircleMarker at 0x7ff741c02518>,\n",
       " <folium.vector_layers.CircleMarker at 0x7ff741c02208>,\n",
       " <folium.vector_layers.CircleMarker at 0x7ff741c027f0>,\n",
       " <folium.vector_layers.CircleMarker at 0x7ff741c02550>,\n",
       " <folium.vector_layers.CircleMarker at 0x7ff741c02710>,\n",
       " <folium.vector_layers.CircleMarker at 0x7ff741c02f60>,\n",
       " <folium.vector_layers.CircleMarker at 0x7ff741c02e48>,\n",
       " <folium.vector_layers.CircleMarker at 0x7ff741c02fd0>,\n",
       " <folium.vector_layers.CircleMarker at 0x7ff741c14048>,\n",
       " <folium.vector_layers.CircleMarker at 0x7ff741c14160>,\n",
       " <folium.vector_layers.CircleMarker at 0x7ff741c14240>,\n",
       " <folium.vector_layers.CircleMarker at 0x7ff741c142e8>,\n",
       " <folium.vector_layers.CircleMarker at 0x7ff741c14390>,\n",
       " <folium.vector_layers.CircleMarker at 0x7ff741c14438>,\n",
       " <folium.vector_layers.CircleMarker at 0x7ff741c02cf8>,\n",
       " <folium.vector_layers.CircleMarker at 0x7ff741c02f98>,\n",
       " <folium.vector_layers.CircleMarker at 0x7ff741c02860>,\n",
       " <folium.vector_layers.CircleMarker at 0x7ff741c02358>,\n",
       " <folium.vector_layers.CircleMarker at 0x7ff741c02ac8>,\n",
       " <folium.vector_layers.CircleMarker at 0x7ff741c02278>,\n",
       " <folium.vector_layers.CircleMarker at 0x7ff741c029b0>,\n",
       " <folium.vector_layers.CircleMarker at 0x7ff741c55080>,\n",
       " <folium.vector_layers.CircleMarker at 0x7ff741c02d30>,\n",
       " <folium.vector_layers.CircleMarker at 0x7ff741bead30>,\n",
       " <folium.vector_layers.CircleMarker at 0x7ff741bea518>,\n",
       " <folium.vector_layers.CircleMarker at 0x7ff741c14128>,\n",
       " <folium.vector_layers.CircleMarker at 0x7ff741c140f0>,\n",
       " <folium.vector_layers.CircleMarker at 0x7ff741c144e0>,\n",
       " <folium.vector_layers.CircleMarker at 0x7ff741c143c8>,\n",
       " <folium.vector_layers.CircleMarker at 0x7ff741c145f8>,\n",
       " <folium.vector_layers.CircleMarker at 0x7ff741c14630>,\n",
       " <folium.vector_layers.CircleMarker at 0x7ff741c146d8>,\n",
       " <folium.vector_layers.CircleMarker at 0x7ff741c14780>,\n",
       " <folium.vector_layers.CircleMarker at 0x7ff741c14828>,\n",
       " <folium.vector_layers.CircleMarker at 0x7ff741c148d0>,\n",
       " <folium.vector_layers.CircleMarker at 0x7ff741beab70>,\n",
       " <folium.vector_layers.CircleMarker at 0x7ff741beacf8>,\n",
       " <folium.vector_layers.CircleMarker at 0x7ff741c02e80>,\n",
       " <folium.vector_layers.CircleMarker at 0x7ff741c025c0>,\n",
       " <folium.vector_layers.CircleMarker at 0x7ff741c021d0>,\n",
       " <folium.vector_layers.CircleMarker at 0x7ff741c02748>,\n",
       " <folium.vector_layers.CircleMarker at 0x7ff741c026a0>,\n",
       " <folium.vector_layers.CircleMarker at 0x7ff741c14710>,\n",
       " <folium.vector_layers.CircleMarker at 0x7ff741c14748>,\n",
       " <folium.vector_layers.CircleMarker at 0x7ff741c140b8>,\n",
       " <folium.vector_layers.CircleMarker at 0x7ff741c142b0>,\n",
       " <folium.vector_layers.CircleMarker at 0x7ff741c14320>,\n",
       " <folium.vector_layers.CircleMarker at 0x7ff741c14198>,\n",
       " <folium.vector_layers.CircleMarker at 0x7ff741c14978>,\n",
       " <folium.vector_layers.CircleMarker at 0x7ff741c14860>,\n",
       " <folium.vector_layers.CircleMarker at 0x7ff741c14a90>,\n",
       " <folium.vector_layers.CircleMarker at 0x7ff741c14ac8>,\n",
       " <folium.vector_layers.CircleMarker at 0x7ff741c14b70>,\n",
       " <folium.vector_layers.CircleMarker at 0x7ff741c14c18>,\n",
       " <folium.vector_layers.CircleMarker at 0x7ff741c14cc0>,\n",
       " <folium.vector_layers.CircleMarker at 0x7ff741c14d68>,\n",
       " <folium.vector_layers.CircleMarker at 0x7ff741c14e10>,\n",
       " <folium.vector_layers.CircleMarker at 0x7ff741c02400>,\n",
       " <folium.vector_layers.CircleMarker at 0x7ff741c02da0>,\n",
       " <folium.vector_layers.CircleMarker at 0x7ff741c02c50>,\n",
       " <folium.vector_layers.CircleMarker at 0x7ff741c40828>,\n",
       " <folium.vector_layers.CircleMarker at 0x7ff741c60860>,\n",
       " <folium.vector_layers.CircleMarker at 0x7ff741c02470>,\n",
       " <folium.vector_layers.CircleMarker at 0x7ff741beada0>,\n",
       " <folium.vector_layers.CircleMarker at 0x7ff741beaa58>,\n",
       " <folium.vector_layers.CircleMarker at 0x7ff741c556a0>,\n",
       " <folium.vector_layers.CircleMarker at 0x7ff741c14c50>,\n",
       " <folium.vector_layers.CircleMarker at 0x7ff741c14c88>,\n",
       " <folium.vector_layers.CircleMarker at 0x7ff741c14b38>,\n",
       " <folium.vector_layers.CircleMarker at 0x7ff741c14278>,\n",
       " <folium.vector_layers.CircleMarker at 0x7ff741c149b0>,\n",
       " <folium.vector_layers.CircleMarker at 0x7ff741c14080>,\n",
       " <folium.vector_layers.CircleMarker at 0x7ff741c14358>,\n",
       " <folium.vector_layers.CircleMarker at 0x7ff741c14550>,\n",
       " <folium.vector_layers.CircleMarker at 0x7ff741c14898>,\n",
       " <folium.vector_layers.CircleMarker at 0x7ff741c14cf8>,\n",
       " <folium.vector_layers.CircleMarker at 0x7ff741c14ef0>,\n",
       " <folium.vector_layers.CircleMarker at 0x7ff741c14f98>,\n",
       " <folium.vector_layers.CircleMarker at 0x7ff741c14668>,\n",
       " <folium.vector_layers.CircleMarker at 0x7ff741c14da0>,\n",
       " <folium.vector_layers.CircleMarker at 0x7ff741c146a0>,\n",
       " <folium.vector_layers.CircleMarker at 0x7ff741c14208>,\n",
       " <folium.vector_layers.CircleMarker at 0x7ff741c145c0>,\n",
       " <folium.vector_layers.CircleMarker at 0x7ff741c149e8>,\n",
       " <folium.vector_layers.CircleMarker at 0x7ff741c141d0>,\n",
       " <folium.vector_layers.CircleMarker at 0x7ff741c14a20>,\n",
       " <folium.vector_layers.CircleMarker at 0x7ff741c55b00>,\n",
       " <folium.vector_layers.CircleMarker at 0x7ff741c60b38>,\n",
       " <folium.vector_layers.CircleMarker at 0x7ff741c14b00>,\n",
       " <folium.vector_layers.CircleMarker at 0x7ff741bea828>,\n",
       " <folium.vector_layers.CircleMarker at 0x7ff741c024a8>,\n",
       " <folium.vector_layers.CircleMarker at 0x7ff741c02f28>,\n",
       " <folium.vector_layers.CircleMarker at 0x7ff741c02080>,\n",
       " <folium.vector_layers.CircleMarker at 0x7ff741c02ef0>,\n",
       " <folium.vector_layers.CircleMarker at 0x7ff741baa128>,\n",
       " <folium.vector_layers.CircleMarker at 0x7ff741baa208>,\n",
       " <folium.vector_layers.CircleMarker at 0x7ff741baa2b0>,\n",
       " <folium.vector_layers.CircleMarker at 0x7ff741baa358>,\n",
       " <folium.vector_layers.CircleMarker at 0x7ff741baa400>,\n",
       " <folium.vector_layers.CircleMarker at 0x7ff741baa4a8>,\n",
       " <folium.vector_layers.CircleMarker at 0x7ff741baa550>,\n",
       " <folium.vector_layers.CircleMarker at 0x7ff741beab38>,\n",
       " <folium.vector_layers.CircleMarker at 0x7ff741c55828>,\n",
       " <folium.vector_layers.CircleMarker at 0x7ff741c02be0>,\n",
       " <folium.vector_layers.CircleMarker at 0x7ff741c02940>,\n",
       " <folium.vector_layers.CircleMarker at 0x7ff741c14d30>,\n",
       " <folium.vector_layers.CircleMarker at 0x7ff741c14908>,\n",
       " <folium.vector_layers.CircleMarker at 0x7ff741c14470>,\n",
       " <folium.vector_layers.CircleMarker at 0x7ff741c14f60>,\n",
       " <folium.vector_layers.CircleMarker at 0x7ff741c14eb8>,\n",
       " <folium.vector_layers.CircleMarker at 0x7ff741baa390>,\n",
       " <folium.vector_layers.CircleMarker at 0x7ff741baa3c8>,\n",
       " <folium.vector_layers.CircleMarker at 0x7ff741baa278>,\n",
       " <folium.vector_layers.CircleMarker at 0x7ff741baa0b8>,\n",
       " <folium.vector_layers.CircleMarker at 0x7ff741baa5f8>,\n",
       " <folium.vector_layers.CircleMarker at 0x7ff741baa4e0>,\n",
       " <folium.vector_layers.CircleMarker at 0x7ff741baa710>,\n",
       " <folium.vector_layers.CircleMarker at 0x7ff741baa748>,\n",
       " <folium.vector_layers.CircleMarker at 0x7ff741baa7f0>,\n",
       " <folium.vector_layers.CircleMarker at 0x7ff741baa898>,\n",
       " <folium.vector_layers.CircleMarker at 0x7ff741baa940>,\n",
       " <folium.vector_layers.CircleMarker at 0x7ff741baa9e8>,\n",
       " <folium.vector_layers.CircleMarker at 0x7ff741baaa90>,\n",
       " <folium.vector_layers.CircleMarker at 0x7ff741c14be0>,\n",
       " <folium.vector_layers.CircleMarker at 0x7ff741c55ef0>,\n",
       " <folium.vector_layers.CircleMarker at 0x7ff741beaef0>,\n",
       " <folium.vector_layers.CircleMarker at 0x7ff741c02a58>,\n",
       " <folium.vector_layers.CircleMarker at 0x7ff741c14dd8>,\n",
       " <folium.vector_layers.CircleMarker at 0x7ff741c14400>,\n",
       " <folium.vector_layers.CircleMarker at 0x7ff741baa9b0>,\n",
       " <folium.vector_layers.CircleMarker at 0x7ff741baa860>,\n",
       " <folium.vector_layers.CircleMarker at 0x7ff741baa668>,\n",
       " <folium.vector_layers.CircleMarker at 0x7ff741baa6d8>,\n",
       " <folium.vector_layers.CircleMarker at 0x7ff741baa160>,\n",
       " <folium.vector_layers.CircleMarker at 0x7ff741baa198>,\n",
       " <folium.vector_layers.CircleMarker at 0x7ff741baa470>,\n",
       " <folium.vector_layers.CircleMarker at 0x7ff741baab38>,\n",
       " <folium.vector_layers.CircleMarker at 0x7ff741baaa20>,\n",
       " <folium.vector_layers.CircleMarker at 0x7ff741baac50>,\n",
       " <folium.vector_layers.CircleMarker at 0x7ff741baac88>,\n",
       " <folium.vector_layers.CircleMarker at 0x7ff741baad30>,\n",
       " <folium.vector_layers.CircleMarker at 0x7ff741baadd8>,\n",
       " <folium.vector_layers.CircleMarker at 0x7ff741baae80>,\n",
       " <folium.vector_layers.CircleMarker at 0x7ff741baaf28>,\n",
       " <folium.vector_layers.CircleMarker at 0x7ff741baafd0>,\n",
       " <folium.vector_layers.CircleMarker at 0x7ff741c02898>,\n",
       " <folium.vector_layers.CircleMarker at 0x7ff741c14518>,\n",
       " <folium.vector_layers.CircleMarker at 0x7ff741c14f28>,\n",
       " <folium.vector_layers.CircleMarker at 0x7ff741c144a8>,\n",
       " <folium.vector_layers.CircleMarker at 0x7ff741baacc0>,\n",
       " <folium.vector_layers.CircleMarker at 0x7ff741baabe0>,\n",
       " <folium.vector_layers.CircleMarker at 0x7ff741baa2e8>,\n",
       " <folium.vector_layers.CircleMarker at 0x7ff741baa0f0>,\n",
       " <folium.vector_layers.CircleMarker at 0x7ff741baa978>,\n",
       " <folium.vector_layers.CircleMarker at 0x7ff741baa080>,\n",
       " <folium.vector_layers.CircleMarker at 0x7ff741baa630>,\n",
       " <folium.vector_layers.CircleMarker at 0x7ff741baa828>,\n",
       " <folium.vector_layers.CircleMarker at 0x7ff741baa908>,\n",
       " <folium.vector_layers.CircleMarker at 0x7ff741baaeb8>,\n",
       " <folium.vector_layers.CircleMarker at 0x7ff741baa7b8>,\n",
       " <folium.vector_layers.CircleMarker at 0x7ff741bbc0f0>,\n",
       " <folium.vector_layers.CircleMarker at 0x7ff741bbc208>,\n",
       " <folium.vector_layers.CircleMarker at 0x7ff741bbc2b0>,\n",
       " <folium.vector_layers.CircleMarker at 0x7ff741bbc358>,\n",
       " <folium.vector_layers.CircleMarker at 0x7ff741bbc400>,\n",
       " <folium.vector_layers.CircleMarker at 0x7ff741bbc4a8>,\n",
       " <folium.vector_layers.CircleMarker at 0x7ff741bbc550>,\n",
       " <folium.vector_layers.CircleMarker at 0x7ff741baaf98>,\n",
       " <folium.vector_layers.CircleMarker at 0x7ff741baa588>,\n",
       " <folium.vector_layers.CircleMarker at 0x7ff741baa518>,\n",
       " <folium.vector_layers.CircleMarker at 0x7ff741baa438>,\n",
       " <folium.vector_layers.CircleMarker at 0x7ff741baaef0>,\n",
       " <folium.vector_layers.CircleMarker at 0x7ff741beaf28>,\n",
       " <folium.vector_layers.CircleMarker at 0x7ff741baae48>,\n",
       " <folium.vector_layers.CircleMarker at 0x7ff741baa6a0>,\n",
       " <folium.vector_layers.CircleMarker at 0x7ff741c14e48>,\n",
       " <folium.vector_layers.CircleMarker at 0x7ff741bbc390>,\n",
       " <folium.vector_layers.CircleMarker at 0x7ff741bbc3c8>,\n",
       " <folium.vector_layers.CircleMarker at 0x7ff741bbc278>,\n",
       " <folium.vector_layers.CircleMarker at 0x7ff741bbc0b8>,\n",
       " <folium.vector_layers.CircleMarker at 0x7ff741bbc5f8>,\n",
       " <folium.vector_layers.CircleMarker at 0x7ff741bbc4e0>,\n",
       " <folium.vector_layers.CircleMarker at 0x7ff741bbc710>,\n",
       " <folium.vector_layers.CircleMarker at 0x7ff741bbc748>,\n",
       " <folium.vector_layers.CircleMarker at 0x7ff741bbc7f0>,\n",
       " <folium.vector_layers.CircleMarker at 0x7ff741bbc898>,\n",
       " <folium.vector_layers.CircleMarker at 0x7ff741bbc940>,\n",
       " <folium.vector_layers.CircleMarker at 0x7ff741bbc9e8>,\n",
       " <folium.vector_layers.CircleMarker at 0x7ff741bbca90>,\n",
       " <folium.vector_layers.CircleMarker at 0x7ff741c147b8>,\n",
       " <folium.vector_layers.CircleMarker at 0x7ff741baad68>,\n",
       " <folium.vector_layers.CircleMarker at 0x7ff741baa320>,\n",
       " <folium.vector_layers.CircleMarker at 0x7ff741baacf8>,\n",
       " <folium.vector_layers.CircleMarker at 0x7ff741baa240>,\n",
       " <folium.vector_layers.CircleMarker at 0x7ff741baab70>,\n",
       " <folium.vector_layers.CircleMarker at 0x7ff741bbc8d0>,\n",
       " <folium.vector_layers.CircleMarker at 0x7ff741bbc908>,\n",
       " <folium.vector_layers.CircleMarker at 0x7ff741bbc7b8>,\n",
       " <folium.vector_layers.CircleMarker at 0x7ff741bbc048>,\n",
       " <folium.vector_layers.CircleMarker at 0x7ff741bbc630>,\n",
       " <folium.vector_layers.CircleMarker at 0x7ff741bbc240>,\n",
       " <folium.vector_layers.CircleMarker at 0x7ff741bbc320>,\n",
       " <folium.vector_layers.CircleMarker at 0x7ff741bbc5c0>,\n",
       " <folium.vector_layers.CircleMarker at 0x7ff741bbcba8>,\n",
       " <folium.vector_layers.CircleMarker at 0x7ff741bbcbe0>,\n",
       " <folium.vector_layers.CircleMarker at 0x7ff741bbcac8>,\n",
       " <folium.vector_layers.CircleMarker at 0x7ff741bbccc0>,\n",
       " <folium.vector_layers.CircleMarker at 0x7ff741bbcd68>,\n",
       " <folium.vector_layers.CircleMarker at 0x7ff741bbce10>,\n",
       " <folium.vector_layers.CircleMarker at 0x7ff741bbceb8>,\n",
       " <folium.vector_layers.CircleMarker at 0x7ff741baada0>,\n",
       " <folium.vector_layers.CircleMarker at 0x7ff741baaa58>,\n",
       " <folium.vector_layers.CircleMarker at 0x7ff741c147f0>,\n",
       " <folium.vector_layers.CircleMarker at 0x7ff741baaba8>,\n",
       " <folium.vector_layers.CircleMarker at 0x7ff741baac18>,\n",
       " <folium.vector_layers.CircleMarker at 0x7ff741bbc2e8>,\n",
       " <folium.vector_layers.CircleMarker at 0x7ff741bbcb70>,\n",
       " <folium.vector_layers.CircleMarker at 0x7ff741bbcc50>,\n",
       " <folium.vector_layers.CircleMarker at 0x7ff741bbc160>,\n",
       " <folium.vector_layers.CircleMarker at 0x7ff741bbc518>,\n",
       " <folium.vector_layers.CircleMarker at 0x7ff741bbc668>,\n",
       " <folium.vector_layers.CircleMarker at 0x7ff741bbc198>,\n",
       " <folium.vector_layers.CircleMarker at 0x7ff741bbc6a0>,\n",
       " <folium.vector_layers.CircleMarker at 0x7ff741bbca58>,\n",
       " <folium.vector_layers.CircleMarker at 0x7ff741bbce48>,\n",
       " <folium.vector_layers.CircleMarker at 0x7ff741bbcb00>,\n",
       " <folium.vector_layers.CircleMarker at 0x7ff741bd1048>,\n",
       " <folium.vector_layers.CircleMarker at 0x7ff741bd1160>,\n",
       " <folium.vector_layers.CircleMarker at 0x7ff741bd1240>,\n",
       " <folium.vector_layers.CircleMarker at 0x7ff741bd12e8>,\n",
       " <folium.vector_layers.CircleMarker at 0x7ff741bd1390>,\n",
       " <folium.vector_layers.CircleMarker at 0x7ff741bd1438>,\n",
       " <folium.vector_layers.CircleMarker at 0x7ff741bbcfd0>,\n",
       " <folium.vector_layers.CircleMarker at 0x7ff741bbcf98>,\n",
       " <folium.vector_layers.CircleMarker at 0x7ff741bbcb38>,\n",
       " <folium.vector_layers.CircleMarker at 0x7ff741bbc080>,\n",
       " <folium.vector_layers.CircleMarker at 0x7ff741bbcdd8>,\n",
       " <folium.vector_layers.CircleMarker at 0x7ff741bbc978>,\n",
       " <folium.vector_layers.CircleMarker at 0x7ff741c14588>,\n",
       " <folium.vector_layers.CircleMarker at 0x7ff741bbca20>,\n",
       " <folium.vector_layers.CircleMarker at 0x7ff741bbcd30>,\n",
       " <folium.vector_layers.CircleMarker at 0x7ff741baaac8>,\n",
       " <folium.vector_layers.CircleMarker at 0x7ff741baa1d0>,\n",
       " <folium.vector_layers.CircleMarker at 0x7ff741bd1128>,\n",
       " <folium.vector_layers.CircleMarker at 0x7ff741bd10f0>,\n",
       " <folium.vector_layers.CircleMarker at 0x7ff741bd14e0>,\n",
       " <folium.vector_layers.CircleMarker at 0x7ff741bd13c8>,\n",
       " <folium.vector_layers.CircleMarker at 0x7ff741bd15f8>,\n",
       " <folium.vector_layers.CircleMarker at 0x7ff741bd1630>,\n",
       " <folium.vector_layers.CircleMarker at 0x7ff741bd16d8>,\n",
       " <folium.vector_layers.CircleMarker at 0x7ff741bd1780>,\n",
       " <folium.vector_layers.CircleMarker at 0x7ff741bd1828>,\n",
       " <folium.vector_layers.CircleMarker at 0x7ff741bd18d0>,\n",
       " <folium.vector_layers.CircleMarker at 0x7ff741bd1978>,\n",
       " <folium.vector_layers.CircleMarker at 0x7ff741c14a58>,\n",
       " <folium.vector_layers.CircleMarker at 0x7ff741baa780>,\n",
       " <folium.vector_layers.CircleMarker at 0x7ff741bbcc88>,\n",
       " <folium.vector_layers.CircleMarker at 0x7ff741bbc128>,\n",
       " <folium.vector_layers.CircleMarker at 0x7ff741bbc6d8>,\n",
       " <folium.vector_layers.CircleMarker at 0x7ff741bbc860>,\n",
       " <folium.vector_layers.CircleMarker at 0x7ff741bbc828>,\n",
       " <folium.vector_layers.CircleMarker at 0x7ff741bd1668>,\n",
       " <folium.vector_layers.CircleMarker at 0x7ff741bd1588>,\n",
       " <folium.vector_layers.CircleMarker at 0x7ff741bd10b8>,\n",
       " <folium.vector_layers.CircleMarker at 0x7ff741bd12b0>,\n",
       " <folium.vector_layers.CircleMarker at 0x7ff741bd1320>,\n",
       " <folium.vector_layers.CircleMarker at 0x7ff741bd1198>,\n",
       " <folium.vector_layers.CircleMarker at 0x7ff741bd1a20>,\n",
       " <folium.vector_layers.CircleMarker at 0x7ff741bd1908>,\n",
       " <folium.vector_layers.CircleMarker at 0x7ff741bd1b38>,\n",
       " <folium.vector_layers.CircleMarker at 0x7ff741bd1b70>,\n",
       " <folium.vector_layers.CircleMarker at 0x7ff741bd1c18>,\n",
       " <folium.vector_layers.CircleMarker at 0x7ff741bd1cc0>,\n",
       " <folium.vector_layers.CircleMarker at 0x7ff741bd1d68>,\n",
       " <folium.vector_layers.CircleMarker at 0x7ff741bd1e10>,\n",
       " <folium.vector_layers.CircleMarker at 0x7ff741bd1eb8>,\n",
       " <folium.vector_layers.CircleMarker at 0x7ff741baae10>,\n",
       " <folium.vector_layers.CircleMarker at 0x7ff741bbc588>,\n",
       " <folium.vector_layers.CircleMarker at 0x7ff741bbc438>,\n",
       " <folium.vector_layers.CircleMarker at 0x7ff741bbc470>,\n",
       " <folium.vector_layers.CircleMarker at 0x7ff741bd1dd8>,\n",
       " <folium.vector_layers.CircleMarker at 0x7ff741bd1c88>,\n",
       " <folium.vector_layers.CircleMarker at 0x7ff741bd1a90>,\n",
       " <folium.vector_layers.CircleMarker at 0x7ff741bd1b00>,\n",
       " <folium.vector_layers.CircleMarker at 0x7ff741bd1518>,\n",
       " <folium.vector_layers.CircleMarker at 0x7ff741bd1208>,\n",
       " <folium.vector_layers.CircleMarker at 0x7ff741bd17f0>,\n",
       " <folium.vector_layers.CircleMarker at 0x7ff741bd1550>,\n",
       " <folium.vector_layers.CircleMarker at 0x7ff741bd1710>,\n",
       " <folium.vector_layers.CircleMarker at 0x7ff741bd1f60>,\n",
       " <folium.vector_layers.CircleMarker at 0x7ff741bd1e48>,\n",
       " <folium.vector_layers.CircleMarker at 0x7ff741bd1fd0>,\n",
       " <folium.vector_layers.CircleMarker at 0x7ff741b63048>,\n",
       " <folium.vector_layers.CircleMarker at 0x7ff741b63128>,\n",
       " <folium.vector_layers.CircleMarker at 0x7ff741b63240>,\n",
       " <folium.vector_layers.CircleMarker at 0x7ff741b632e8>,\n",
       " <folium.vector_layers.CircleMarker at 0x7ff741b63390>,\n",
       " <folium.vector_layers.CircleMarker at 0x7ff741b63438>,\n",
       " <folium.vector_layers.CircleMarker at 0x7ff741bd1cf8>,\n",
       " <folium.vector_layers.CircleMarker at 0x7ff741bd1f98>,\n",
       " <folium.vector_layers.CircleMarker at 0x7ff741bd1860>,\n",
       " <folium.vector_layers.CircleMarker at 0x7ff741bd1358>,\n",
       " <folium.vector_layers.CircleMarker at 0x7ff741bd1ac8>,\n",
       " <folium.vector_layers.CircleMarker at 0x7ff741bd1278>,\n",
       " <folium.vector_layers.CircleMarker at 0x7ff741bd19b0>,\n",
       " <folium.vector_layers.CircleMarker at 0x7ff741baaf60>,\n",
       " <folium.vector_layers.CircleMarker at 0x7ff741bd1d30>,\n",
       " <folium.vector_layers.CircleMarker at 0x7ff741bbce80>,\n",
       " <folium.vector_layers.CircleMarker at 0x7ff741bbcc18>,\n",
       " <folium.vector_layers.CircleMarker at 0x7ff741b630f0>,\n",
       " <folium.vector_layers.CircleMarker at 0x7ff741b630b8>,\n",
       " <folium.vector_layers.CircleMarker at 0x7ff741b634e0>,\n",
       " <folium.vector_layers.CircleMarker at 0x7ff741b633c8>,\n",
       " <folium.vector_layers.CircleMarker at 0x7ff741b635f8>,\n",
       " <folium.vector_layers.CircleMarker at 0x7ff741b63630>,\n",
       " <folium.vector_layers.CircleMarker at 0x7ff741b636d8>,\n",
       " <folium.vector_layers.CircleMarker at 0x7ff741b63780>,\n",
       " <folium.vector_layers.CircleMarker at 0x7ff741b63828>,\n",
       " <folium.vector_layers.CircleMarker at 0x7ff741b638d0>,\n",
       " <folium.vector_layers.CircleMarker at 0x7ff741bd1c50>,\n",
       " <folium.vector_layers.CircleMarker at 0x7ff741bd1e80>,\n",
       " <folium.vector_layers.CircleMarker at 0x7ff741bd1080>,\n",
       " <folium.vector_layers.CircleMarker at 0x7ff741bd16a0>,\n",
       " <folium.vector_layers.CircleMarker at 0x7ff741bd17b8>,\n",
       " <folium.vector_layers.CircleMarker at 0x7ff741bd19e8>,\n",
       " <folium.vector_layers.CircleMarker at 0x7ff741bd1ef0>,\n",
       " <folium.vector_layers.CircleMarker at 0x7ff741c02ba8>,\n",
       " <folium.vector_layers.CircleMarker at 0x7ff741bbc9b0>,\n",
       " <folium.vector_layers.CircleMarker at 0x7ff741baa048>,\n",
       " <folium.vector_layers.CircleMarker at 0x7ff741baa5c0>,\n",
       " <folium.vector_layers.CircleMarker at 0x7ff741c14ba8>,\n",
       " <folium.vector_layers.CircleMarker at 0x7ff741bbcda0>,\n",
       " <folium.vector_layers.CircleMarker at 0x7ff741b63668>,\n",
       " <folium.vector_layers.CircleMarker at 0x7ff741b63588>,\n",
       " <folium.vector_layers.CircleMarker at 0x7ff741b63160>,\n",
       " <folium.vector_layers.CircleMarker at 0x7ff741b632b0>,\n",
       " <folium.vector_layers.CircleMarker at 0x7ff741b63320>,\n",
       " <folium.vector_layers.CircleMarker at 0x7ff741b63198>,\n",
       " <folium.vector_layers.CircleMarker at 0x7ff741b639b0>,\n",
       " <folium.vector_layers.CircleMarker at 0x7ff741b63a58>,\n",
       " <folium.vector_layers.CircleMarker at 0x7ff741b63400>,\n",
       " <folium.vector_layers.CircleMarker at 0x7ff741b63b38>,\n",
       " <folium.vector_layers.CircleMarker at 0x7ff741c14940>,\n",
       " <folium.vector_layers.CircleMarker at 0x7ff741baa8d0>,\n",
       " <folium.vector_layers.CircleMarker at 0x7ff741bbccf8>,\n",
       " <folium.vector_layers.CircleMarker at 0x7ff741bbcef0>,\n",
       " <folium.vector_layers.CircleMarker at 0x7ff741bd1f28>,\n",
       " <folium.vector_layers.CircleMarker at 0x7ff741bd1898>,\n",
       " <folium.vector_layers.CircleMarker at 0x7ff741bd1400>,\n",
       " <folium.vector_layers.CircleMarker at 0x7ff741bd15c0>,\n",
       " <folium.vector_layers.CircleMarker at 0x7ff741b63908>,\n",
       " <folium.vector_layers.CircleMarker at 0x7ff741b634a8>,\n",
       " <folium.vector_layers.CircleMarker at 0x7ff741b636a0>,\n",
       " <folium.vector_layers.CircleMarker at 0x7ff741b635c0>,\n",
       " <folium.vector_layers.CircleMarker at 0x7ff741b63748>,\n",
       " <folium.vector_layers.CircleMarker at 0x7ff741b63978>,\n",
       " <folium.vector_layers.CircleMarker at 0x7ff741b63c50>,\n",
       " <folium.vector_layers.CircleMarker at 0x7ff741b63c88>,\n",
       " <folium.vector_layers.CircleMarker at 0x7ff741b63b70>,\n",
       " <folium.vector_layers.CircleMarker at 0x7ff741b63d68>,\n",
       " <folium.vector_layers.CircleMarker at 0x7ff741b63e10>,\n",
       " <folium.vector_layers.CircleMarker at 0x7ff741b63eb8>,\n",
       " <folium.vector_layers.CircleMarker at 0x7ff741b63f60>,\n",
       " <folium.vector_layers.CircleMarker at 0x7ff741b63ef0>,\n",
       " <folium.vector_layers.CircleMarker at 0x7ff741baab00>,\n",
       " <folium.vector_layers.CircleMarker at 0x7ff741c029e8>,\n",
       " <folium.vector_layers.CircleMarker at 0x7ff741bbcf28>,\n",
       " <folium.vector_layers.CircleMarker at 0x7ff741bbc780>,\n",
       " <folium.vector_layers.CircleMarker at 0x7ff741bd1be0>,\n",
       " <folium.vector_layers.CircleMarker at 0x7ff741b63f28>,\n",
       " <folium.vector_layers.CircleMarker at 0x7ff741b63dd8>,\n",
       " <folium.vector_layers.CircleMarker at 0x7ff741b63a90>,\n",
       " <folium.vector_layers.CircleMarker at 0x7ff741b63ac8>,\n",
       " <folium.vector_layers.CircleMarker at 0x7ff741b63358>,\n",
       " <folium.vector_layers.CircleMarker at 0x7ff741b63550>,\n",
       " <folium.vector_layers.CircleMarker at 0x7ff741b63278>,\n",
       " <folium.vector_layers.CircleMarker at 0x7ff741b63a20>,\n",
       " <folium.vector_layers.CircleMarker at 0x7ff741b63860>,\n",
       " <folium.vector_layers.CircleMarker at 0x7ff741b63b00>,\n",
       " <folium.vector_layers.CircleMarker at 0x7ff741b7b0f0>,\n",
       " <folium.vector_layers.CircleMarker at 0x7ff741b7b1d0>,\n",
       " <folium.vector_layers.CircleMarker at 0x7ff741b7b278>,\n",
       " <folium.vector_layers.CircleMarker at 0x7ff741b7b320>,\n",
       " <folium.vector_layers.CircleMarker at 0x7ff741b7b3c8>,\n",
       " <folium.vector_layers.CircleMarker at 0x7ff741b7b470>,\n",
       " <folium.vector_layers.CircleMarker at 0x7ff741b63f98>,\n",
       " <folium.vector_layers.CircleMarker at 0x7ff741b63ba8>,\n",
       " <folium.vector_layers.CircleMarker at 0x7ff741b63cf8>,\n",
       " <folium.vector_layers.CircleMarker at 0x7ff741b63be0>,\n",
       " <folium.vector_layers.CircleMarker at 0x7ff741c14fd0>,\n",
       " <folium.vector_layers.CircleMarker at 0x7ff741bbcf60>,\n",
       " <folium.vector_layers.CircleMarker at 0x7ff741b63e80>,\n",
       " <folium.vector_layers.CircleMarker at 0x7ff741b639e8>,\n",
       " <folium.vector_layers.CircleMarker at 0x7ff741bd1940>,\n",
       " <folium.vector_layers.CircleMarker at 0x7ff741bd1a58>,\n",
       " <folium.vector_layers.CircleMarker at 0x7ff741bd1748>,\n",
       " <folium.vector_layers.CircleMarker at 0x7ff741b7b128>,\n",
       " <folium.vector_layers.CircleMarker at 0x7ff741b7b198>,\n",
       " <folium.vector_layers.CircleMarker at 0x7ff741b7b518>,\n",
       " <folium.vector_layers.CircleMarker at 0x7ff741b7b400>,\n",
       " <folium.vector_layers.CircleMarker at 0x7ff741b7b630>,\n",
       " <folium.vector_layers.CircleMarker at 0x7ff741b7b668>,\n",
       " <folium.vector_layers.CircleMarker at 0x7ff741b7b710>,\n",
       " <folium.vector_layers.CircleMarker at 0x7ff741b7b7b8>,\n",
       " <folium.vector_layers.CircleMarker at 0x7ff741b7b860>,\n",
       " <folium.vector_layers.CircleMarker at 0x7ff741b7b908>,\n",
       " <folium.vector_layers.CircleMarker at 0x7ff741b7b9b0>,\n",
       " <folium.vector_layers.CircleMarker at 0x7ff741bbc1d0>,\n",
       " <folium.vector_layers.CircleMarker at 0x7ff741bd14a8>,\n",
       " <folium.vector_layers.CircleMarker at 0x7ff741b63fd0>,\n",
       " <folium.vector_layers.CircleMarker at 0x7ff741b63470>,\n",
       " <folium.vector_layers.CircleMarker at 0x7ff741b63898>,\n",
       " <folium.vector_layers.CircleMarker at 0x7ff741b63e48>,\n",
       " <folium.vector_layers.CircleMarker at 0x7ff741b63208>,\n",
       " <folium.vector_layers.CircleMarker at 0x7ff741b7b6a0>,\n",
       " <folium.vector_layers.CircleMarker at 0x7ff741b7b5c0>,\n",
       " <folium.vector_layers.CircleMarker at 0x7ff741b7b048>,\n",
       " <folium.vector_layers.CircleMarker at 0x7ff741b7b2e8>,\n",
       " <folium.vector_layers.CircleMarker at 0x7ff741b7b080>,\n",
       " <folium.vector_layers.CircleMarker at 0x7ff741b7b208>,\n",
       " <folium.vector_layers.CircleMarker at 0x7ff741b7ba58>,\n",
       " <folium.vector_layers.CircleMarker at 0x7ff741b7b940>,\n",
       " <folium.vector_layers.CircleMarker at 0x7ff741b7bb70>,\n",
       " <folium.vector_layers.CircleMarker at 0x7ff741b7bba8>,\n",
       " <folium.vector_layers.CircleMarker at 0x7ff741b7bc50>,\n",
       " <folium.vector_layers.CircleMarker at 0x7ff741b7bcf8>,\n",
       " <folium.vector_layers.CircleMarker at 0x7ff741b7bda0>,\n",
       " <folium.vector_layers.CircleMarker at 0x7ff741b7be48>,\n",
       " <folium.vector_layers.CircleMarker at 0x7ff741b7bef0>,\n",
       " <folium.vector_layers.CircleMarker at 0x7ff741b63080>,\n",
       " <folium.vector_layers.CircleMarker at 0x7ff741bd1da0>,\n",
       " <folium.vector_layers.CircleMarker at 0x7ff741b63c18>,\n",
       " <folium.vector_layers.CircleMarker at 0x7ff741b63710>,\n",
       " <folium.vector_layers.CircleMarker at 0x7ff741b7be10>,\n",
       " <folium.vector_layers.CircleMarker at 0x7ff741b7bcc0>,\n",
       " <folium.vector_layers.CircleMarker at 0x7ff741b7bac8>,\n",
       " <folium.vector_layers.CircleMarker at 0x7ff741b7bb38>,\n",
       " <folium.vector_layers.CircleMarker at 0x7ff741b7b550>,\n",
       " <folium.vector_layers.CircleMarker at 0x7ff741b7b0b8>,\n",
       " <folium.vector_layers.CircleMarker at 0x7ff741b7b828>,\n",
       " <folium.vector_layers.CircleMarker at 0x7ff741b7b588>,\n",
       " <folium.vector_layers.CircleMarker at 0x7ff741b7b748>,\n",
       " <folium.vector_layers.CircleMarker at 0x7ff741b7bf98>,\n",
       " <folium.vector_layers.CircleMarker at 0x7ff741b7b978>,\n",
       " <folium.vector_layers.CircleMarker at 0x7ff741b7be80>,\n",
       " <folium.vector_layers.CircleMarker at 0x7ff741b8d0b8>,\n",
       " <folium.vector_layers.CircleMarker at 0x7ff741b8d1d0>,\n",
       " <folium.vector_layers.CircleMarker at 0x7ff741b8d278>,\n",
       " <folium.vector_layers.CircleMarker at 0x7ff741b8d320>,\n",
       " <folium.vector_layers.CircleMarker at 0x7ff741b8d3c8>,\n",
       " <folium.vector_layers.CircleMarker at 0x7ff741b8d470>,\n",
       " <folium.vector_layers.CircleMarker at 0x7ff741b7bd30>,\n",
       " <folium.vector_layers.CircleMarker at 0x7ff741b7b5f8>,\n",
       " <folium.vector_layers.CircleMarker at 0x7ff741b7b8d0>,\n",
       " <folium.vector_layers.CircleMarker at 0x7ff741b7b438>,\n",
       " <folium.vector_layers.CircleMarker at 0x7ff741b7ba90>,\n",
       " <folium.vector_layers.CircleMarker at 0x7ff741b7bc88>,\n",
       " <folium.vector_layers.CircleMarker at 0x7ff741bd1ba8>,\n",
       " <folium.vector_layers.CircleMarker at 0x7ff741b7bbe0>,\n",
       " <folium.vector_layers.CircleMarker at 0x7ff741b7bc18>,\n",
       " <folium.vector_layers.CircleMarker at 0x7ff741b63cc0>,\n",
       " <folium.vector_layers.CircleMarker at 0x7ff741b8d2b0>,\n",
       " <folium.vector_layers.CircleMarker at 0x7ff741b8d2e8>,\n",
       " <folium.vector_layers.CircleMarker at 0x7ff741b8d160>,\n",
       " <folium.vector_layers.CircleMarker at 0x7ff741b8d518>,\n",
       " <folium.vector_layers.CircleMarker at 0x7ff741b8d400>,\n",
       " <folium.vector_layers.CircleMarker at 0x7ff741b8d630>,\n",
       " <folium.vector_layers.CircleMarker at 0x7ff741b8d668>,\n",
       " <folium.vector_layers.CircleMarker at 0x7ff741b8d710>,\n",
       " <folium.vector_layers.CircleMarker at 0x7ff741b8d7b8>,\n",
       " <folium.vector_layers.CircleMarker at 0x7ff741b8d860>,\n",
       " <folium.vector_layers.CircleMarker at 0x7ff741b8d908>,\n",
       " <folium.vector_layers.CircleMarker at 0x7ff741b8d9b0>,\n",
       " <folium.vector_layers.CircleMarker at 0x7ff741bd11d0>,\n",
       " <folium.vector_layers.CircleMarker at 0x7ff741b637f0>,\n",
       " <folium.vector_layers.CircleMarker at 0x7ff741b7b160>,\n",
       " <folium.vector_layers.CircleMarker at 0x7ff741b7bb00>,\n",
       " <folium.vector_layers.CircleMarker at 0x7ff741b7b4a8>,\n",
       " <folium.vector_layers.CircleMarker at 0x7ff741b7b7f0>,\n",
       " <folium.vector_layers.CircleMarker at 0x7ff741b7b780>,\n",
       " <folium.vector_layers.CircleMarker at 0x7ff741b8d6a0>,\n",
       " <folium.vector_layers.CircleMarker at 0x7ff741b8d5c0>,\n",
       " <folium.vector_layers.CircleMarker at 0x7ff741b8d0f0>,\n",
       " <folium.vector_layers.CircleMarker at 0x7ff741b8d080>,\n",
       " <folium.vector_layers.CircleMarker at 0x7ff741b8d358>,\n",
       " <folium.vector_layers.CircleMarker at 0x7ff741b8d390>,\n",
       " <folium.vector_layers.CircleMarker at 0x7ff741b8da58>,\n",
       " <folium.vector_layers.CircleMarker at 0x7ff741b8d940>,\n",
       " <folium.vector_layers.CircleMarker at 0x7ff741b8db70>,\n",
       " <folium.vector_layers.CircleMarker at 0x7ff741b8dba8>,\n",
       " <folium.vector_layers.CircleMarker at 0x7ff741b8dc50>,\n",
       " <folium.vector_layers.CircleMarker at 0x7ff741b8dcf8>,\n",
       " <folium.vector_layers.CircleMarker at 0x7ff741b8dda0>,\n",
       " <folium.vector_layers.CircleMarker at 0x7ff741b8de48>,\n",
       " <folium.vector_layers.CircleMarker at 0x7ff741b8def0>,\n",
       " <folium.vector_layers.CircleMarker at 0x7ff741b63da0>,\n",
       " <folium.vector_layers.CircleMarker at 0x7ff741b7b9e8>,\n",
       " <folium.vector_layers.CircleMarker at 0x7ff741b7b2b0>,\n",
       " <folium.vector_layers.CircleMarker at 0x7ff741b7bd68>,\n",
       " <folium.vector_layers.CircleMarker at 0x7ff741b8dd30>,\n",
       " <folium.vector_layers.CircleMarker at 0x7ff741b8dd68>,\n",
       " <folium.vector_layers.CircleMarker at 0x7ff741b8dc18>,\n",
       " <folium.vector_layers.CircleMarker at 0x7ff741b8d438>,\n",
       " <folium.vector_layers.CircleMarker at 0x7ff741b8da90>,\n",
       " <folium.vector_layers.CircleMarker at 0x7ff741b8d048>,\n",
       " <folium.vector_layers.CircleMarker at 0x7ff741b8d128>,\n",
       " <folium.vector_layers.CircleMarker at 0x7ff741b8d8d0>,\n",
       " <folium.vector_layers.CircleMarker at 0x7ff741b8d4a8>,\n",
       " <folium.vector_layers.CircleMarker at 0x7ff741b8da20>,\n",
       " <folium.vector_layers.CircleMarker at 0x7ff741b8de80>,\n",
       " <folium.vector_layers.CircleMarker at 0x7ff741b8df28>,\n",
       " <folium.vector_layers.CircleMarker at 0x7ff741b8ddd8>,\n",
       " <folium.vector_layers.CircleMarker at 0x7ff741b240f0>,\n",
       " <folium.vector_layers.CircleMarker at 0x7ff741b24208>,\n",
       " <folium.vector_layers.CircleMarker at 0x7ff741b242b0>,\n",
       " <folium.vector_layers.CircleMarker at 0x7ff741b24358>,\n",
       " <folium.vector_layers.CircleMarker at 0x7ff741b631d0>,\n",
       " <folium.vector_layers.CircleMarker at 0x7ff741b7bfd0>,\n",
       " <folium.vector_layers.CircleMarker at 0x7ff741b7b6d8>,\n",
       " <folium.vector_layers.CircleMarker at 0x7ff741b8dfd0>,\n",
       " <folium.vector_layers.CircleMarker at 0x7ff741b8df98>,\n",
       " <folium.vector_layers.CircleMarker at 0x7ff741b8d780>,\n",
       " <folium.vector_layers.CircleMarker at 0x7ff741b8db38>,\n",
       " <folium.vector_layers.CircleMarker at 0x7ff741b8d898>,\n",
       " <folium.vector_layers.CircleMarker at 0x7ff741b8dbe0>,\n",
       " <folium.vector_layers.CircleMarker at 0x7ff741b8dcc0>,\n",
       " <folium.vector_layers.CircleMarker at 0x7ff741b8df60>,\n",
       " <folium.vector_layers.CircleMarker at 0x7ff741b8d208>,\n",
       " <folium.vector_layers.CircleMarker at 0x7ff741b240b8>,\n",
       " <folium.vector_layers.CircleMarker at 0x7ff741b24080>,\n",
       " <folium.vector_layers.CircleMarker at 0x7ff741b242e8>,\n",
       " <folium.vector_layers.CircleMarker at 0x7ff741b24518>,\n",
       " <folium.vector_layers.CircleMarker at 0x7ff741b24550>,\n",
       " <folium.vector_layers.CircleMarker at 0x7ff741b245f8>,\n",
       " <folium.vector_layers.CircleMarker at 0x7ff741b246a0>,\n",
       " <folium.vector_layers.CircleMarker at 0x7ff741b24748>,\n",
       " <folium.vector_layers.CircleMarker at 0x7ff741b247f0>,\n",
       " <folium.vector_layers.CircleMarker at 0x7ff741b24898>,\n",
       " <folium.vector_layers.CircleMarker at 0x7ff741b8d748>,\n",
       " <folium.vector_layers.CircleMarker at 0x7ff741b8db00>,\n",
       " <folium.vector_layers.CircleMarker at 0x7ff741b8d588>,\n",
       " <folium.vector_layers.CircleMarker at 0x7ff741b63d30>,\n",
       " <folium.vector_layers.CircleMarker at 0x7ff741b8d550>,\n",
       " <folium.vector_layers.CircleMarker at 0x7ff741b8dac8>,\n",
       " <folium.vector_layers.CircleMarker at 0x7ff741b7bdd8>,\n",
       " <folium.vector_layers.CircleMarker at 0x7ff741b246d8>,\n",
       " <folium.vector_layers.CircleMarker at 0x7ff741b24710>,\n",
       " <folium.vector_layers.CircleMarker at 0x7ff741b245c0>,\n",
       " <folium.vector_layers.CircleMarker at 0x7ff741b24278>,\n",
       " <folium.vector_layers.CircleMarker at 0x7ff741b24438>,\n",
       " <folium.vector_layers.CircleMarker at 0x7ff741b24160>,\n",
       " <folium.vector_layers.CircleMarker at 0x7ff741b24940>,\n",
       " <folium.vector_layers.CircleMarker at 0x7ff741b24828>,\n",
       " <folium.vector_layers.CircleMarker at 0x7ff741b24a58>,\n",
       " <folium.vector_layers.CircleMarker at 0x7ff741b24a90>,\n",
       " <folium.vector_layers.CircleMarker at 0x7ff741b24b38>,\n",
       " <folium.vector_layers.CircleMarker at 0x7ff741b24be0>,\n",
       " <folium.vector_layers.CircleMarker at 0x7ff741b24c88>,\n",
       " <folium.vector_layers.CircleMarker at 0x7ff741b24d30>,\n",
       " <folium.vector_layers.CircleMarker at 0x7ff741b24dd8>,\n",
       " <folium.vector_layers.CircleMarker at 0x7ff741b7b240>,\n",
       " <folium.vector_layers.CircleMarker at 0x7ff741b8d978>,\n",
       " <folium.vector_layers.CircleMarker at 0x7ff741b8deb8>,\n",
       " <folium.vector_layers.CircleMarker at 0x7ff741b8d9e8>,\n",
       " <folium.vector_layers.CircleMarker at 0x7ff741b8d7f0>,\n",
       " <folium.vector_layers.CircleMarker at 0x7ff741b24ac8>,\n",
       " <folium.vector_layers.CircleMarker at 0x7ff741b249e8>,\n",
       " <folium.vector_layers.CircleMarker at 0x7ff741b24470>,\n",
       " <folium.vector_layers.CircleMarker at 0x7ff741b24198>,\n",
       " <folium.vector_layers.CircleMarker at 0x7ff741b24780>,\n",
       " <folium.vector_layers.CircleMarker at 0x7ff741b24390>,\n",
       " <folium.vector_layers.CircleMarker at 0x7ff741b24128>,\n",
       " <folium.vector_layers.CircleMarker at 0x7ff741b247b8>,\n",
       " <folium.vector_layers.CircleMarker at 0x7ff741b24e80>,\n",
       " <folium.vector_layers.CircleMarker at 0x7ff741b24d68>,\n",
       " <folium.vector_layers.CircleMarker at 0x7ff741b24f98>,\n",
       " <folium.vector_layers.CircleMarker at 0x7ff741b24fd0>,\n",
       " <folium.vector_layers.CircleMarker at 0x7ff741b24f28>,\n",
       " <folium.vector_layers.CircleMarker at 0x7ff741b350f0>,\n",
       " <folium.vector_layers.CircleMarker at 0x7ff741b35208>,\n",
       " <folium.vector_layers.CircleMarker at 0x7ff741b352b0>,\n",
       " <folium.vector_layers.CircleMarker at 0x7ff741b35358>,\n",
       " <folium.vector_layers.CircleMarker at 0x7ff741b24da0>,\n",
       " <folium.vector_layers.CircleMarker at 0x7ff741b24f60>,\n",
       " <folium.vector_layers.CircleMarker at 0x7ff741b24048>,\n",
       " <folium.vector_layers.CircleMarker at 0x7ff741b24588>,\n",
       " <folium.vector_layers.CircleMarker at 0x7ff741b24b00>,\n",
       " <folium.vector_layers.CircleMarker at 0x7ff741b24a20>,\n",
       " <folium.vector_layers.CircleMarker at 0x7ff741b24ba8>]"
      ]
     },
     "execution_count": 43,
     "metadata": {},
     "output_type": "execute_result"
    }
   ],
   "source": [
    "map_with_markers"
   ]
  },
  {
   "cell_type": "markdown",
   "metadata": {},
   "source": [
    "### Using Nearest Neighbors"
   ]
  },
  {
   "cell_type": "markdown",
   "metadata": {},
   "source": [
    "Ok, let's write a function that given a latitude and longitude will predict the distance for us.  We'll do this by first finding the nearest trips given a latitude and longitude. "
   ]
  },
  {
   "cell_type": "markdown",
   "metadata": {},
   "source": [
    "Here we once again apply the nearest neighbors formula. As a first step, write a function named `distance_location` that calculates the distance in pickup location between two trips."
   ]
  },
  {
   "cell_type": "code",
   "execution_count": null,
   "metadata": {},
   "outputs": [],
   "source": [
    "import math\n",
    "\n",
    "def distance_location(selected_trip, neighbor_trip):\n",
    "    pass"
   ]
  },
  {
   "cell_type": "code",
   "execution_count": null,
   "metadata": {},
   "outputs": [],
   "source": [
    "first_trip = {'pickup_latitude': 40.64499, 'pickup_longitude': -73.78115, 'trip_distance': 18.38}\n",
    "second_trip = {'pickup_latitude': 40.766931, 'pickup_longitude': -73.982098, 'trip_distance': 1.3}\n",
    "distance_first_and_second = distance_location(first_trip, second_trip)\n",
    "\n",
    "distance_first_and_second and round(distance_first_and_second, 3) # 0.235"
   ]
  },
  {
   "cell_type": "markdown",
   "metadata": {},
   "source": [
    "Ok, next write a function called `distance_between_neighbors` that adds a new key-value pair, called `distance_from_selected`, that calculates the distance of the `neighbor_trip` from the `selected_trip`."
   ]
  },
  {
   "cell_type": "code",
   "execution_count": null,
   "metadata": {},
   "outputs": [],
   "source": [
    "def distance_between_neighbors(selected_trip, neighbor_trip):\n",
    "    pass"
   ]
  },
  {
   "cell_type": "code",
   "execution_count": null,
   "metadata": {},
   "outputs": [],
   "source": [
    "distance_between_neighbors(first_trip, second_trip)\n",
    "\n",
    "# {'distance_from_selected': 0.23505256047318146,\n",
    "#  'pickup_latitude': 40.766931,\n",
    "#  'pickup_longitude': -73.982098,\n",
    "#  'trip_distance': 1.3}"
   ]
  },
  {
   "cell_type": "markdown",
   "metadata": {},
   "source": [
    "Ok, now our `neighbor_trip` has another attribute called `distance_from_selected`, that indicates the distance from the `neighbor_trip`'s pickup location from the `selected_trip`."
   ]
  },
  {
   "cell_type": "markdown",
   "metadata": {},
   "source": [
    "> ** Understand the data:** Our dictionary now has a few attributes, two of which say distance.  Let's make sure we understand the difference. \n",
    "> * **`distance_from_selected`:** This is our calculation of the distance of the neighbor's pickup location from the selected trip.\n",
    "> * **`trip_distance`:** This is the attribute we were provided initially.  It tells us the length of the neighbor's taxi trip from pickup to drop-off.  "
   ]
  },
  {
   "cell_type": "markdown",
   "metadata": {},
   "source": [
    "Next, write a function called `distance_all` that provided a list of neighbors, returns each of those neighbors with their respective `distance_from_selected` numbers."
   ]
  },
  {
   "cell_type": "code",
   "execution_count": null,
   "metadata": {},
   "outputs": [],
   "source": [
    "def distance_all(selected_individual, neighbors):\n",
    "    pass"
   ]
  },
  {
   "cell_type": "code",
   "execution_count": null,
   "metadata": {},
   "outputs": [],
   "source": [
    "cleaned_trips and distance_all(first_trip, cleaned_trips[0:4])"
   ]
  },
  {
   "cell_type": "markdown",
   "metadata": {},
   "source": [
    "Now write the nearest neighbors formula to calculate the distance of the `selected_trip` from all of the `cleaned_trips` in our dataset.  If no number is provided, it should return the top 3 neighbors."
   ]
  },
  {
   "cell_type": "code",
   "execution_count": null,
   "metadata": {},
   "outputs": [],
   "source": [
    "def nearest_neighbors(selected_trip, trips, number = 3):\n",
    "    pass"
   ]
  },
  {
   "cell_type": "code",
   "execution_count": null,
   "metadata": {},
   "outputs": [],
   "source": [
    "new_trip = {'pickup_latitude': 40.64499,\n",
    "'pickup_longitude': -73.78115,\n",
    "'trip_distance': 18.38}\n",
    "\n",
    "nearest_three_neighbors = nearest_neighbors(new_trip, cleaned_trips or [], number = 3)\n",
    "nearest_three_neighbors\n",
    "# [{'distance_from_selected': 0.0004569288784918792,\n",
    "#   'pickup_latitude': 40.64483,\n",
    "#   'pickup_longitude': -73.781578,\n",
    "#   'trip_distance': 7.78},\n",
    "#  {'distance_from_selected': 0.0011292165425673159,\n",
    "#   'pickup_latitude': 40.644657,\n",
    "#   'pickup_longitude': -73.782229,\n",
    "#   'trip_distance': 12.7},\n",
    "#  {'distance_from_selected': 0.0042359798158141185,\n",
    "#   'pickup_latitude': 40.648509,\n",
    "#   'pickup_longitude': -73.783508,\n",
    "#   'trip_distance': 17.3}]"
   ]
  },
  {
   "cell_type": "markdown",
   "metadata": {},
   "source": [
    "Ok great! Now that we can provide a new trip location, and find the distances of the three nearest trips, we can take  calculate an estimate of the trip distance for that new trip location.  \n",
    "\n",
    "We do so simply by calculating the average of it's nearest neighbors."
   ]
  },
  {
   "cell_type": "code",
   "execution_count": null,
   "metadata": {},
   "outputs": [],
   "source": [
    "import statistics\n",
    "def mean_distance(neighbors):\n",
    "    nearest_distances = list(map(lambda neighbor: neighbor['trip_distance'], neighbors))\n",
    "    return round(statistics.mean(nearest_distances), 3)\n",
    "\n",
    "nearest_three_neighbors = nearest_neighbors(new_trip, cleaned_trips or [], number = 3)\n",
    "distance_estimate_of_selected_trip = mean_distance(nearest_three_neighbors) # 12.593\n",
    "distance_estimate_of_selected_trip"
   ]
  },
  {
   "cell_type": "markdown",
   "metadata": {},
   "source": [
    "### Choosing the correct number of neighbors"
   ]
  },
  {
   "cell_type": "markdown",
   "metadata": {},
   "source": [
    "Now, as we know from the last lesson, one tricky element is to determine how many neighbors to choose, our $k$ value,  before calculating the average.  We want to choose our value of $k$ such that it properly matches actual data, and so that it applies to new data.  There are fancy formulas to ensure that we **train** our algorithm so that our formula is optimized for all data, but here let's see different $k$ values manually.  This is the gist of choosing our $k$ value:\n",
    "\n",
    "* If we choose a $k$ value too low, our formula will be too heavily influenced by a single neighbor, whereas if our $k$ value is too high, we will be choosing so many neighbors that our nearest neighbors formula will not be adjust enough according to locations.\n",
    "\n",
    "Ok, let's experiment with this."
   ]
  },
  {
   "cell_type": "markdown",
   "metadata": {},
   "source": [
    "First, let's choose a midtown location, to see what the trip distance would be.  A Google search reveals the coordinates of 51st and 7th avenue to be the following."
   ]
  },
  {
   "cell_type": "code",
   "execution_count": null,
   "metadata": {},
   "outputs": [],
   "source": [
    "midtown_trip = dict(pickup_latitude=40.761710, pickup_longitude=-73.982760)"
   ]
  },
  {
   "cell_type": "code",
   "execution_count": null,
   "metadata": {},
   "outputs": [],
   "source": [
    "seven_closest = nearest_neighbors(midtown_trip, cleaned_trips, number = 7)\n",
    "seven_closest\n",
    "# [{'trip_distance': 0.58,\n",
    "#   'pickup_latitude': 40.761372,\n",
    "#   'pickup_longitude': -73.982602,\n",
    "#   'distance_from_selected': 0.00037310588309379025},\n",
    "#  {'trip_distance': 0.8,\n",
    "#   'pickup_latitude': 40.762444,\n",
    "#   'pickup_longitude': -73.98244,\n",
    "#   'distance_from_selected': 0.00080072217404248},\n",
    "#  {'trip_distance': 1.4,\n",
    "#   'pickup_latitude': 40.762767,\n",
    "#   'pickup_longitude': -73.982293,\n",
    "#   'distance_from_selected': 0.0011555682584735844},\n",
    "#  {'trip_distance': 8.3,\n",
    "#   'pickup_latitude': 40.762868,\n",
    "#   'pickup_longitude': -73.983233,\n",
    "#   'distance_from_selected': 0.0012508768924205918},\n",
    "#  {'trip_distance': 1.26,\n",
    "#   'pickup_latitude': 40.760057,\n",
    "#   'pickup_longitude': -73.983502,\n",
    "#   'distance_from_selected': 0.0018118976240381972},\n",
    "#  {'trip_distance': 0.0,\n",
    "#   'pickup_latitude': 40.760644,\n",
    "#   'pickup_longitude': -73.984531,\n",
    "#   'distance_from_selected': 0.002067074502774709},\n",
    "#  {'trip_distance': 1.72,\n",
    "#   'pickup_latitude': 40.762107,\n",
    "#   'pickup_longitude': -73.98479,\n",
    "#   'distance_from_selected': 0.0020684557041472677}]"
   ]
  },
  {
   "cell_type": "markdown",
   "metadata": {},
   "source": [
    "Looking at the `distance_from_selected` it appears that our our trips are still fairly close to our selected trip.  Notice that most of the data is within a distance of .002 away, so going to the top 7 nearest neighbors didn't seem to give us neighbors too far from each other, which is a good sign.\n",
    "\n",
    "Still, it's hard to know what distance in latitude and longitude really look like, so let's map the data. "
   ]
  },
  {
   "cell_type": "code",
   "execution_count": null,
   "metadata": {},
   "outputs": [],
   "source": [
    "midtown_location = location(midtown_trip) # [40.76171, -73.98276]\n",
    "midtown_map = map_from(midtown_location, 16)\n",
    "closest_markers = markers_from_trips(seven_closest)\n",
    "\n",
    "add_markers(closest_markers, midtown_map)"
   ]
  },
  {
   "cell_type": "markdown",
   "metadata": {},
   "source": [
    "Ok.  These locations stay fairly close to our estimated location of 51st street and 7th Avenue.  So they could be a good estimate of a trip distance."
   ]
  },
  {
   "cell_type": "code",
   "execution_count": null,
   "metadata": {},
   "outputs": [],
   "source": [
    "mean_distance(seven_closest) # 2.009"
   ]
  },
  {
   "cell_type": "markdown",
   "metadata": {},
   "source": [
    "Ok, now let's try a different location"
   ]
  },
  {
   "cell_type": "code",
   "execution_count": null,
   "metadata": {},
   "outputs": [],
   "source": [
    "charging_bull_closest = nearest_neighbors({'pickup_latitude': 40.7049, 'pickup_longitude': -74.0137}, cleaned_trips, number = 12)"
   ]
  },
  {
   "cell_type": "code",
   "execution_count": null,
   "metadata": {
    "scrolled": true
   },
   "outputs": [],
   "source": [
    "mean_distance(charging_bull_closest) # 3.145"
   ]
  },
  {
   "cell_type": "markdown",
   "metadata": {},
   "source": [
    "Ok, so there appears to be a significant difference between choosing a location near Times Square versus choosing a location at Wall Street."
   ]
  },
  {
   "cell_type": "markdown",
   "metadata": {},
   "source": [
    "### Summary"
   ]
  },
  {
   "cell_type": "markdown",
   "metadata": {},
   "source": [
    "In this lab, we used the nearest neighbors function to predict the length of a taxi ride.  To do so, we selected a location, then found a number of taxi rides closest to that location, and finally took the average trip lengths of the nearest taxi rides to find an estimate of the new ride's trip length.  You can see that even with just a little bit of math and programming we can begin to make meaningful predictions with data."
   ]
  }
 ],
 "metadata": {
  "kernelspec": {
   "display_name": "Python 3",
   "language": "python",
   "name": "python3"
  },
  "language_info": {
   "codemirror_mode": {
    "name": "ipython",
    "version": 3
   },
   "file_extension": ".py",
   "mimetype": "text/x-python",
   "name": "python",
   "nbconvert_exporter": "python",
   "pygments_lexer": "ipython3",
   "version": "3.6.6"
  }
 },
 "nbformat": 4,
 "nbformat_minor": 2
}
