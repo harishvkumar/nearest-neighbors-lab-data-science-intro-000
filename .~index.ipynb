{
 "cells": [
  {
   "cell_type": "markdown",
   "metadata": {},
   "source": [
    "# Nearest Neighbors Lab"
   ]
  },
  {
   "cell_type": "markdown",
   "metadata": {},
   "source": [
    "### Introduction\n",
    "\n",
    "In this lab, you apply nearest neighbors technique to help a taxi company predict the length of their rides.  Imagine that we are hired to consult for LiftOff, a limo and taxi service that is just opening up in NYC.  Liftoff wants it's taxi drivers to target longer rides, as the longer the ride the more money it makes.  LiftOff has the following theory:\n",
    "\n",
    "* the pickup location of a taxi ride can help predict the length of the ride.  \n",
    "\n",
    "\n",
    "\n",
    "LiftOff asks us to do some analysis to write a function that will allow it to **predict the length of a taxi ride for any given location **.\n",
    "\n",
    "Our technique will be the following:\n",
    "  * **Collect** Obtain the data containing all of the taxi information, and only select the attributes of taxi trips that we need \n",
    "  * ** Explore ** Examine the attributes of our data, and plot some of our data on a map\n",
    "  * ** Train ** Write our nearest neighbors formula, and change the number of nearby trips to predict the length of a new trip\n",
    "  * ** Predict ** Use our function to predict trip lengths of new locations"
   ]
  },
  {
   "cell_type": "markdown",
   "metadata": {},
   "source": [
    "### Collect and Explore the data"
   ]
  },
  {
   "cell_type": "markdown",
   "metadata": {},
   "source": [
    "#### Collect the Data"
   ]
  },
  {
   "cell_type": "markdown",
   "metadata": {},
   "source": [
    "Luckily for us, [NYC Open Data](https://opendata.cityofnewyork.us/) collects information about NYC taxi trips and provides this data on [its website](https://data.cityofnewyork.us/Transportation/2014-Yellow-Taxi-Trip-Data/gn7m-em8n)."
   ]
  },
  {
   "cell_type": "markdown",
   "metadata": {},
   "source": [
    "![](./nyc-taxi.png)"
   ]
  },
  {
   "cell_type": "markdown",
   "metadata": {},
   "source": [
    "For your reading pleasure, the data has already been downloaded into the [trips.json](https://github.com/learn-co-curriculum/nearest-neighbors-lab/blob/master/trips.json) file in this lab which you can find here.  We'll use Python's `json` library to take the data from the `trips.json` file and store it as a variable in our notebook."
   ]
  },
  {
   "cell_type": "code",
   "execution_count": 2,
   "metadata": {},
   "outputs": [],
   "source": [
    "import json\n",
    "# First, read the file\n",
    "trips_file = open('trips.json')\n",
    "# Then, convert contents to list of dictionaries \n",
    "trips = json.load(trips_file)"
   ]
  },
  {
   "cell_type": "markdown",
   "metadata": {},
   "source": [
    "> Press shift + enter"
   ]
  },
  {
   "cell_type": "markdown",
   "metadata": {},
   "source": [
    "#### Explore the data"
   ]
  },
  {
   "cell_type": "markdown",
   "metadata": {},
   "source": [
    "The next step is to explore the data.  First, let's see how many trips we have."
   ]
  },
  {
   "cell_type": "code",
   "execution_count": 3,
   "metadata": {},
   "outputs": [
    {
     "data": {
      "text/plain": [
       "1000"
      ]
     },
     "execution_count": 3,
     "metadata": {},
     "output_type": "execute_result"
    }
   ],
   "source": [
    "len(trips)"
   ]
  },
  {
   "cell_type": "markdown",
   "metadata": {},
   "source": [
    "Not bad at all.  Now let's see what each individual trip looks like.  Each trip is a dictionary, so we can see the attributes of each trip with the `keys` function."
   ]
  },
  {
   "cell_type": "code",
   "execution_count": 4,
   "metadata": {
    "scrolled": true
   },
   "outputs": [
    {
     "data": {
      "text/plain": [
       "dict_keys(['dropoff_datetime', 'dropoff_latitude', 'dropoff_longitude', 'fare_amount', 'imp_surcharge', 'mta_tax', 'passenger_count', 'payment_type', 'pickup_datetime', 'pickup_latitude', 'pickup_longitude', 'rate_code', 'tip_amount', 'tolls_amount', 'total_amount', 'trip_distance', 'vendor_id'])"
      ]
     },
     "execution_count": 4,
     "metadata": {},
     "output_type": "execute_result"
    }
   ],
   "source": [
    "trips[0].keys()"
   ]
  },
  {
   "cell_type": "markdown",
   "metadata": {},
   "source": [
    "#### Limit our data"
   ]
  },
  {
   "cell_type": "markdown",
   "metadata": {},
   "source": [
    "Ok, now that we have explored some of our data, let's begin to think through what data is relevant for our task."
   ]
  },
  {
   "cell_type": "markdown",
   "metadata": {
    "collapsed": true
   },
   "source": [
    "Remember that our task is to **use the trip location to predict the length of a trip**.  So let's select the `pickup_latitude`, `pickup_longitude`, and `trip_distance` from each trip.  That will give us the trip location and related `trip_distance` for each trip.  Then based on these **actual** trip distances we can use nearest neighbors to predict an **expected** trip distance for a trip, provided an **actual** location."
   ]
  },
  {
   "cell_type": "markdown",
   "metadata": {},
   "source": [
    "** Add in about trip distance ** "
   ]
  },
  {
   "cell_type": "markdown",
   "metadata": {},
   "source": [
    "Write a function called `parse_trips(trips)` that returns a list of the trips with only the following attributes: \n",
    "* `trip_distance`\n",
    "* `pickup_latitude`\n",
    "* `pickup_longitude`"
   ]
  },
  {
   "cell_type": "code",
   "execution_count": 5,
   "metadata": {},
   "outputs": [],
   "source": [
    "def parse_trips(trips):\n",
    "    return list(map(lambda trips: {'trip_distance': trips['trip_distance'],'pickup_latitude':trips['pickup_latitude'],'pickup_longitude':trips['pickup_longitude']} , trips))\n",
    "    pass"
   ]
  },
  {
   "cell_type": "code",
   "execution_count": 6,
   "metadata": {},
   "outputs": [
    {
     "data": {
      "text/plain": [
       "{'trip_distance': '18.379999999999999',\n",
       " 'pickup_latitude': '40.64499',\n",
       " 'pickup_longitude': '-73.781149999999997'}"
      ]
     },
     "execution_count": 6,
     "metadata": {},
     "output_type": "execute_result"
    }
   ],
   "source": [
    "parsed_trips = parse_trips(trips)\n",
    "parsed_trips and parsed_trips[0]\n",
    "\n",
    "# {'pickup_latitude': '40.64499',\n",
    "#  'pickup_longitude': '-73.78115',\n",
    "#  'trip_distance': '18.38'}"
   ]
  },
  {
   "cell_type": "markdown",
   "metadata": {},
   "source": [
    "Now, there's just one change to make.  If you look at one of the trips, all of the values are strings.  Let's change them to be floats."
   ]
  },
  {
   "cell_type": "code",
   "execution_count": 7,
   "metadata": {},
   "outputs": [],
   "source": [
    "def float_values(trips):\n",
    "    return list(map(lambda trips: {'trip_distance': float(trips['trip_distance']),'pickup_latitude':float(trips['pickup_latitude']),'pickup_longitude': float(trips['pickup_longitude'])} , trips))\n",
    "    pass"
   ]
  },
  {
   "cell_type": "code",
   "execution_count": 8,
   "metadata": {},
   "outputs": [],
   "source": [
    "cleaned_trips = float_values(parsed_trips)"
   ]
  },
  {
   "cell_type": "code",
   "execution_count": 9,
   "metadata": {},
   "outputs": [
    {
     "data": {
      "text/plain": [
       "{'trip_distance': 18.38,\n",
       " 'pickup_latitude': 40.64499,\n",
       " 'pickup_longitude': -73.78115}"
      ]
     },
     "execution_count": 9,
     "metadata": {},
     "output_type": "execute_result"
    }
   ],
   "source": [
    "cleaned_trips[0]\n",
    "\n",
    "# {'pickup_latitude': 40.64499,\n",
    "#  'pickup_longitude': -73.78115,\n",
    "#  'trip_distance': 18.38}"
   ]
  },
  {
   "cell_type": "markdown",
   "metadata": {},
   "source": [
    "### Exploring the Data"
   ]
  },
  {
   "cell_type": "markdown",
   "metadata": {},
   "source": [
    "Now that we have paired down our data, let's get a sense of our trip data.  We can use the `folium` Python library to plot a map of Manhattan, and our data.  First we must import `folium`, and then use the `Map` function to pass through a `location`, and `zoom_start`.  If a map isn't showing up below, copy and paste the command `pip install -r requirements.txt` into your terminal to install `folium` then try again."
   ]
  },
  {
   "cell_type": "code",
   "execution_count": 10,
   "metadata": {},
   "outputs": [
    {
     "name": "stdout",
     "output_type": "stream",
     "text": [
      "Collecting folium (from -r requirements.txt (line 1))\n",
      "\u001b[?25l  Downloading https://files.pythonhosted.org/packages/55/e2/7e523df8558b7f4b2ab4c62014fd378ccecce3fdc14c9928b272a88ae4cc/folium-0.7.0-py3-none-any.whl (85kB)\n",
      "\u001b[K    100% |████████████████████████████████| 92kB 21.6MB/s ta 0:00:01\n",
      "\u001b[?25hRequirement already satisfied: jinja2 in /opt/conda/envs/learn-env/lib/python3.6/site-packages (from folium->-r requirements.txt (line 1)) (2.10)\n",
      "Requirement already satisfied: requests in /opt/conda/envs/learn-env/lib/python3.6/site-packages (from folium->-r requirements.txt (line 1)) (2.19.1)\n",
      "Requirement already satisfied: six in /opt/conda/envs/learn-env/lib/python3.6/site-packages (from folium->-r requirements.txt (line 1)) (1.11.0)\n",
      "Requirement already satisfied: numpy in /opt/conda/envs/learn-env/lib/python3.6/site-packages (from folium->-r requirements.txt (line 1)) (1.15.0)\n",
      "Collecting branca>=0.3.0 (from folium->-r requirements.txt (line 1))\n",
      "  Downloading https://files.pythonhosted.org/packages/63/36/1c93318e9653f4e414a2e0c3b98fc898b4970e939afeedeee6075dd3b703/branca-0.3.1-py3-none-any.whl\n",
      "Requirement already satisfied: MarkupSafe>=0.23 in /opt/conda/envs/learn-env/lib/python3.6/site-packages (from jinja2->folium->-r requirements.txt (line 1)) (1.1.0)\n",
      "Requirement already satisfied: chardet<3.1.0,>=3.0.2 in /opt/conda/envs/learn-env/lib/python3.6/site-packages (from requests->folium->-r requirements.txt (line 1)) (3.0.4)\n",
      "Requirement already satisfied: certifi>=2017.4.17 in /opt/conda/envs/learn-env/lib/python3.6/site-packages (from requests->folium->-r requirements.txt (line 1)) (2018.8.13)\n",
      "Requirement already satisfied: idna<2.8,>=2.5 in /opt/conda/envs/learn-env/lib/python3.6/site-packages (from requests->folium->-r requirements.txt (line 1)) (2.7)\n",
      "Requirement already satisfied: urllib3<1.24,>=1.21.1 in /opt/conda/envs/learn-env/lib/python3.6/site-packages (from requests->folium->-r requirements.txt (line 1)) (1.23)\n",
      "Installing collected packages: branca, folium\n",
      "Successfully installed branca-0.3.1 folium-0.7.0\n",
      "\u001b[33mYou are using pip version 10.0.1, however version 18.1 is available.\n",
      "You should consider upgrading via the 'pip install --upgrade pip' command.\u001b[0m\n"
     ]
    }
   ],
   "source": [
    "!pip install -r requirements.txt\n",
    "import folium\n",
    "manhattan_map = folium.Map(location=[40.7589, -73.9851], zoom_start=11)"
   ]
  },
  {
   "cell_type": "code",
   "execution_count": 11,
   "metadata": {
    "scrolled": true
   },
   "outputs": [
    {
     "data": {
      "text/html": [
       "<div style=\"width:100%;\"><div style=\"position:relative;width:100%;height:0;padding-bottom:60%;\"><iframe src=\"data:text/html;charset=utf-8;base64,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\" style=\"position:absolute;width:100%;height:100%;left:0;top:0;border:none !important;\" allowfullscreen webkitallowfullscreen mozallowfullscreen></iframe></div></div>"
      ],
      "text/plain": [
       "<folium.folium.Map at 0x7f6bb84326a0>"
      ]
     },
     "execution_count": 11,
     "metadata": {},
     "output_type": "execute_result"
    }
   ],
   "source": [
    "manhattan_map"
   ]
  },
  {
   "cell_type": "markdown",
   "metadata": {},
   "source": [
    "Ok, now let's see how we could add a dot to mark a specific location.  We'll start with Times Square."
   ]
  },
  {
   "cell_type": "code",
   "execution_count": 12,
   "metadata": {},
   "outputs": [
    {
     "data": {
      "text/plain": [
       "<folium.vector_layers.CircleMarker at 0x7f6b881cea58>"
      ]
     },
     "execution_count": 12,
     "metadata": {},
     "output_type": "execute_result"
    }
   ],
   "source": [
    "marker = folium.CircleMarker(location = [40.7589, -73.9851], radius=10)\n",
    "marker.add_to(manhattan_map)"
   ]
  },
  {
   "cell_type": "markdown",
   "metadata": {},
   "source": [
    "Above, we first create a marker.  Then we add that circle marker to the `manhattan_map` we created earlier. "
   ]
  },
  {
   "cell_type": "code",
   "execution_count": 13,
   "metadata": {
    "scrolled": false
   },
   "outputs": [
    {
     "data": {
      "text/html": [
       "<div style=\"width:100%;\"><div style=\"position:relative;width:100%;height:0;padding-bottom:60%;\"><iframe src=\"data:text/html;charset=utf-8;base64,PCFET0NUWVBFIGh0bWw+CjxoZWFkPiAgICAKICAgIDxtZXRhIGh0dHAtZXF1aXY9ImNvbnRlbnQtdHlwZSIgY29udGVudD0idGV4dC9odG1sOyBjaGFyc2V0PVVURi04IiAvPgogICAgPHNjcmlwdD5MX1BSRUZFUl9DQU5WQVM9ZmFsc2U7IExfTk9fVE9VQ0g9ZmFsc2U7IExfRElTQUJMRV8zRD1mYWxzZTs8L3NjcmlwdD4KICAgIDxzY3JpcHQgc3JjPSJodHRwczovL2Nkbi5qc2RlbGl2ci5uZXQvbnBtL2xlYWZsZXRAMS4zLjQvZGlzdC9sZWFmbGV0LmpzIj48L3NjcmlwdD4KICAgIDxzY3JpcHQgc3JjPSJodHRwczovL2FqYXguZ29vZ2xlYXBpcy5jb20vYWpheC9saWJzL2pxdWVyeS8xLjExLjEvanF1ZXJ5Lm1pbi5qcyI+PC9zY3JpcHQ+CiAgICA8c2NyaXB0IHNyYz0iaHR0cHM6Ly9tYXhjZG4uYm9vdHN0cmFwY2RuLmNvbS9ib290c3RyYXAvMy4yLjAvanMvYm9vdHN0cmFwLm1pbi5qcyI+PC9zY3JpcHQ+CiAgICA8c2NyaXB0IHNyYz0iaHR0cHM6Ly9jZG5qcy5jbG91ZGZsYXJlLmNvbS9hamF4L2xpYnMvTGVhZmxldC5hd2Vzb21lLW1hcmtlcnMvMi4wLjIvbGVhZmxldC5hd2Vzb21lLW1hcmtlcnMuanMiPjwvc2NyaXB0PgogICAgPGxpbmsgcmVsPSJzdHlsZXNoZWV0IiBocmVmPSJodHRwczovL2Nkbi5qc2RlbGl2ci5uZXQvbnBtL2xlYWZsZXRAMS4zLjQvZGlzdC9sZWFmbGV0LmNzcyIvPgogICAgPGxpbmsgcmVsPSJzdHlsZXNoZWV0IiBocmVmPSJodHRwczovL21heGNkbi5ib290c3RyYXBjZG4uY29tL2Jvb3RzdHJhcC8zLjIuMC9jc3MvYm9vdHN0cmFwLm1pbi5jc3MiLz4KICAgIDxsaW5rIHJlbD0ic3R5bGVzaGVldCIgaHJlZj0iaHR0cHM6Ly9tYXhjZG4uYm9vdHN0cmFwY2RuLmNvbS9ib290c3RyYXAvMy4yLjAvY3NzL2Jvb3RzdHJhcC10aGVtZS5taW4uY3NzIi8+CiAgICA8bGluayByZWw9InN0eWxlc2hlZXQiIGhyZWY9Imh0dHBzOi8vbWF4Y2RuLmJvb3RzdHJhcGNkbi5jb20vZm9udC1hd2Vzb21lLzQuNi4zL2Nzcy9mb250LWF3ZXNvbWUubWluLmNzcyIvPgogICAgPGxpbmsgcmVsPSJzdHlsZXNoZWV0IiBocmVmPSJodHRwczovL2NkbmpzLmNsb3VkZmxhcmUuY29tL2FqYXgvbGlicy9MZWFmbGV0LmF3ZXNvbWUtbWFya2Vycy8yLjAuMi9sZWFmbGV0LmF3ZXNvbWUtbWFya2Vycy5jc3MiLz4KICAgIDxsaW5rIHJlbD0ic3R5bGVzaGVldCIgaHJlZj0iaHR0cHM6Ly9yYXdjZG4uZ2l0aGFjay5jb20vcHl0aG9uLXZpc3VhbGl6YXRpb24vZm9saXVtL21hc3Rlci9mb2xpdW0vdGVtcGxhdGVzL2xlYWZsZXQuYXdlc29tZS5yb3RhdGUuY3NzIi8+CiAgICA8c3R5bGU+aHRtbCwgYm9keSB7d2lkdGg6IDEwMCU7aGVpZ2h0OiAxMDAlO21hcmdpbjogMDtwYWRkaW5nOiAwO308L3N0eWxlPgogICAgPHN0eWxlPiNtYXAge3Bvc2l0aW9uOmFic29sdXRlO3RvcDowO2JvdHRvbTowO3JpZ2h0OjA7bGVmdDowO308L3N0eWxlPgogICAgCiAgICA8bWV0YSBuYW1lPSJ2aWV3cG9ydCIgY29udGVudD0id2lkdGg9ZGV2aWNlLXdpZHRoLAogICAgICAgIGluaXRpYWwtc2NhbGU9MS4wLCBtYXhpbXVtLXNjYWxlPTEuMCwgdXNlci1zY2FsYWJsZT1ubyIgLz4KICAgIDxzdHlsZT4jbWFwX2VkYzQxMDEwOTM0ZTQwNTVhZmQxMTdiYzA4Y2QzODM4IHsKICAgICAgICBwb3NpdGlvbjogcmVsYXRpdmU7CiAgICAgICAgd2lkdGg6IDEwMC4wJTsKICAgICAgICBoZWlnaHQ6IDEwMC4wJTsKICAgICAgICBsZWZ0OiAwLjAlOwogICAgICAgIHRvcDogMC4wJTsKICAgICAgICB9CiAgICA8L3N0eWxlPgo8L2hlYWQ+Cjxib2R5PiAgICAKICAgIAogICAgPGRpdiBjbGFzcz0iZm9saXVtLW1hcCIgaWQ9Im1hcF9lZGM0MTAxMDkzNGU0MDU1YWZkMTE3YmMwOGNkMzgzOCIgPjwvZGl2Pgo8L2JvZHk+CjxzY3JpcHQ+ICAgIAogICAgCiAgICAKICAgICAgICB2YXIgYm91bmRzID0gbnVsbDsKICAgIAoKICAgIHZhciBtYXBfZWRjNDEwMTA5MzRlNDA1NWFmZDExN2JjMDhjZDM4MzggPSBMLm1hcCgKICAgICAgICAnbWFwX2VkYzQxMDEwOTM0ZTQwNTVhZmQxMTdiYzA4Y2QzODM4JywgewogICAgICAgIGNlbnRlcjogWzQwLjc1ODksIC03My45ODUxXSwKICAgICAgICB6b29tOiAxMSwKICAgICAgICBtYXhCb3VuZHM6IGJvdW5kcywKICAgICAgICBsYXllcnM6IFtdLAogICAgICAgIHdvcmxkQ29weUp1bXA6IGZhbHNlLAogICAgICAgIGNyczogTC5DUlMuRVBTRzM4NTcsCiAgICAgICAgem9vbUNvbnRyb2w6IHRydWUsCiAgICAgICAgfSk7CgogICAgCiAgICAKICAgIHZhciB0aWxlX2xheWVyX2EzNTcyZjJhYWVkMDQ2MjlhN2RhMjgzM2Q2MWFkYTcyID0gTC50aWxlTGF5ZXIoCiAgICAgICAgJ2h0dHBzOi8ve3N9LnRpbGUub3BlbnN0cmVldG1hcC5vcmcve3p9L3t4fS97eX0ucG5nJywKICAgICAgICB7CiAgICAgICAgImF0dHJpYnV0aW9uIjogbnVsbCwKICAgICAgICAiZGV0ZWN0UmV0aW5hIjogZmFsc2UsCiAgICAgICAgIm1heE5hdGl2ZVpvb20iOiAxOCwKICAgICAgICAibWF4Wm9vbSI6IDE4LAogICAgICAgICJtaW5ab29tIjogMCwKICAgICAgICAibm9XcmFwIjogZmFsc2UsCiAgICAgICAgIm9wYWNpdHkiOiAxLAogICAgICAgICJzdWJkb21haW5zIjogImFiYyIsCiAgICAgICAgInRtcyI6IGZhbHNlCn0pLmFkZFRvKG1hcF9lZGM0MTAxMDkzNGU0MDU1YWZkMTE3YmMwOGNkMzgzOCk7CiAgICAKICAgICAgICAgICAgdmFyIGNpcmNsZV9tYXJrZXJfYzVlYzUwZDYxNjljNDkxNGI0N2I3OGRhZjFmZTljODUgPSBMLmNpcmNsZU1hcmtlcigKICAgICAgICAgICAgICAgIFs0MC43NTg5LCAtNzMuOTg1MV0sCiAgICAgICAgICAgICAgICB7CiAgImJ1YmJsaW5nTW91c2VFdmVudHMiOiB0cnVlLAogICJjb2xvciI6ICIjMzM4OGZmIiwKICAiZGFzaEFycmF5IjogbnVsbCwKICAiZGFzaE9mZnNldCI6IG51bGwsCiAgImZpbGwiOiBmYWxzZSwKICAiZmlsbENvbG9yIjogIiMzMzg4ZmYiLAogICJmaWxsT3BhY2l0eSI6IDAuMiwKICAiZmlsbFJ1bGUiOiAiZXZlbm9kZCIsCiAgImxpbmVDYXAiOiAicm91bmQiLAogICJsaW5lSm9pbiI6ICJyb3VuZCIsCiAgIm9wYWNpdHkiOiAxLjAsCiAgInJhZGl1cyI6IDEwLAogICJzdHJva2UiOiB0cnVlLAogICJ3ZWlnaHQiOiAzCn0KICAgICAgICAgICAgICAgICkKICAgICAgICAgICAgICAgIC5hZGRUbyhtYXBfZWRjNDEwMTA5MzRlNDA1NWFmZDExN2JjMDhjZDM4MzgpOwogICAgICAgICAgICAKPC9zY3JpcHQ+\" style=\"position:absolute;width:100%;height:100%;left:0;top:0;border:none !important;\" allowfullscreen webkitallowfullscreen mozallowfullscreen></iframe></div></div>"
      ],
      "text/plain": [
       "<folium.folium.Map at 0x7f6bb84326a0>"
      ]
     },
     "execution_count": 13,
     "metadata": {},
     "output_type": "execute_result"
    }
   ],
   "source": [
    "manhattan_map"
   ]
  },
  {
   "cell_type": "markdown",
   "metadata": {},
   "source": [
    "Do you see that blue dot near Time's Square?  That is our marker.  \n",
    "\n",
    "So now that we can plot one marker on a map, we should have a sense of how we can plot many markers on a map to display our taxi ride data.  We simply plot a map, and then we add a marker for each location of a taxi trip.\n",
    "\n",
    "Now let's write some functions to allow us to plot maps and add markers a little more easily.  "
   ]
  },
  {
   "cell_type": "markdown",
   "metadata": {},
   "source": [
    "#### Writing some map plotting functions"
   ]
  },
  {
   "cell_type": "markdown",
   "metadata": {},
   "source": [
    "As a first step towards this, note that the functions to create both a marker and map each take in a location as two element list, representing the latitude and longitude values.  Take another look:\n",
    "\n",
    "```python\n",
    "marker = folium.CircleMarker(location = [40.7589, -73.9851])\n",
    "manhattan_map = folium.Map(location=[40.7589, -73.9851])\n",
    "```\n",
    "\n",
    "So let's write a function called to create this two element list from a trip.  Write a function called `location` that  takes in a trip as an argument and returns a list where the first element is the latitude and the second is the longitude.  Remember that a location looks like the following:"
   ]
  },
  {
   "cell_type": "code",
   "execution_count": 14,
   "metadata": {},
   "outputs": [
    {
     "data": {
      "text/plain": [
       "{'pickup_latitude': 40.64499,\n",
       " 'pickup_longitude': -73.78115,\n",
       " 'trip_distance': 18.38}"
      ]
     },
     "execution_count": 14,
     "metadata": {},
     "output_type": "execute_result"
    }
   ],
   "source": [
    "first_trip = {'pickup_latitude': 40.64499, 'pickup_longitude': -73.78115,  'trip_distance': 18.38}\n",
    "first_trip"
   ]
  },
  {
   "cell_type": "code",
   "execution_count": 15,
   "metadata": {},
   "outputs": [],
   "source": [
    "def location(trip):\n",
    "    return [trip['pickup_latitude'],trip['pickup_longitude']]\n",
    "    pass"
   ]
  },
  {
   "cell_type": "code",
   "execution_count": 16,
   "metadata": {},
   "outputs": [
    {
     "data": {
      "text/plain": [
       "[40.64499, -73.78115]"
      ]
     },
     "execution_count": 16,
     "metadata": {},
     "output_type": "execute_result"
    }
   ],
   "source": [
    "first_location = location(first_trip) # [40.64499, -73.78115]\n",
    "first_location # [40.64499, -73.78115]"
   ]
  },
  {
   "cell_type": "markdown",
   "metadata": {},
   "source": [
    "Ok, now that we can turn a trip into a location, let's turn a location into a marker.  Write a function called `to_marker` that takes in a location (in the form of a list) as an argument, and returns a folium `circleMarker` for that location.  The radius of the marker should always equal 6."
   ]
  },
  {
   "cell_type": "code",
   "execution_count": 17,
   "metadata": {},
   "outputs": [],
   "source": [
    "def to_marker(location):\n",
    "    return folium.CircleMarker(location = location, radius=6)\n",
    "    pass"
   ]
  },
  {
   "cell_type": "code",
   "execution_count": 23,
   "metadata": {},
   "outputs": [
    {
     "data": {
      "text/plain": [
       "6"
      ]
     },
     "execution_count": 23,
     "metadata": {},
     "output_type": "execute_result"
    }
   ],
   "source": [
    "import json\n",
    "times_square_marker = to_marker([40.7589, -73.9851])\n",
    "\n",
    "times_square_marker and times_square_marker.location # [40.7589, -73.9851]\n",
    "times_square_marker and json.loads(times_square_marker.options)['radius'] # 6"
   ]
  },
  {
   "cell_type": "markdown",
   "metadata": {},
   "source": [
    "Ok, now that we know how to produce a single marker, let's write a function to produce lots.  We can write a function called `markers_from_trips` that takes in a list of trips, and returns a marker object for each trip.  "
   ]
  },
  {
   "cell_type": "code",
   "execution_count": 24,
   "metadata": {},
   "outputs": [],
   "source": [
    "def markers_from_trips(trips):\n",
    "    return list(map(lambda trips: to_marker(location(trips)),trips))\n",
    "    pass"
   ]
  },
  {
   "cell_type": "code",
   "execution_count": 25,
   "metadata": {},
   "outputs": [],
   "source": [
    "trip_markers = markers_from_trips(cleaned_trips)"
   ]
  },
  {
   "cell_type": "code",
   "execution_count": 22,
   "metadata": {},
   "outputs": [
    {
     "data": {
      "text/plain": [
       "[{'trip_distance': 18.38,\n",
       "  'pickup_latitude': 40.64499,\n",
       "  'pickup_longitude': -73.78115},\n",
       " {'trip_distance': 1.3,\n",
       "  'pickup_latitude': 40.766931,\n",
       "  'pickup_longitude': -73.982098},\n",
       " {'trip_distance': 4.5,\n",
       "  'pickup_latitude': 40.77773,\n",
       "  'pickup_longitude': -73.951902},\n",
       " {'trip_distance': 2.4,\n",
       "  'pickup_latitude': 40.795678,\n",
       "  'pickup_longitude': -73.971049}]"
      ]
     },
     "execution_count": 22,
     "metadata": {},
     "output_type": "execute_result"
    }
   ],
   "source": [
    "cleaned_trips[0:4]"
   ]
  },
  {
   "cell_type": "code",
   "execution_count": 26,
   "metadata": {},
   "outputs": [
    {
     "data": {
      "text/plain": [
       "[[40.64499, -73.78115],\n",
       " [40.766931, -73.982098],\n",
       " [40.77773, -73.951902],\n",
       " [40.795678, -73.971049]]"
      ]
     },
     "execution_count": 26,
     "metadata": {},
     "output_type": "execute_result"
    }
   ],
   "source": [
    "trip_markers and len(trip_markers) # 1000\n",
    "\n",
    "list(map(lambda marker: marker.location, trip_markers[0:4]))\n",
    "# [[40.64499, -73.78115],\n",
    "#  [40.766931, -73.982098],\n",
    "#  [40.77773, -73.951902],\n",
    "#  [40.795678, -73.971049]]"
   ]
  },
  {
   "cell_type": "markdown",
   "metadata": {},
   "source": [
    "Ok, now that we have a function that creates locations, and a function that creates markers, it is time to write a function to plot a map. \n",
    "\n",
    "Write a function called `map_from` that, provided the first argument of a list location and second argument an integer representing the `zoom_start`, returns a `folium` map the corresponding location and `zoom_start` attributes.\n",
    "\n",
    "> Hint: The following is how to write a map with folium:\n",
    "> ```python \n",
    "    folium.Map(location=location, zoom_start=zoom_amount)\n",
    "> ```"
   ]
  },
  {
   "cell_type": "code",
   "execution_count": 27,
   "metadata": {},
   "outputs": [],
   "source": [
    "def map_from(location, zoom_amount):\n",
    "    return folium.Map(location=location, zoom_start=zoom_amount)\n",
    "    pass"
   ]
  },
  {
   "cell_type": "code",
   "execution_count": 28,
   "metadata": {},
   "outputs": [
    {
     "data": {
      "text/plain": [
       "15"
      ]
     },
     "execution_count": 28,
     "metadata": {},
     "output_type": "execute_result"
    }
   ],
   "source": [
    "times_square_map = map_from([40.7589, -73.9851], 15)\n",
    "times_square_map and times_square_map.location # [40.7589, -73.9851]\n",
    "times_square_map and times_square_map.zoom_start # 15"
   ]
  },
  {
   "cell_type": "code",
   "execution_count": 37,
   "metadata": {
    "scrolled": true
   },
   "outputs": [
    {
     "data": {
      "text/html": [
       "<div style=\"width:100%;\"><div style=\"position:relative;width:100%;height:0;padding-bottom:60%;\"><iframe src=\"data:text/html;charset=utf-8;base64,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\" style=\"position:absolute;width:100%;height:100%;left:0;top:0;border:none !important;\" allowfullscreen webkitallowfullscreen mozallowfullscreen></iframe></div></div>"
      ],
      "text/plain": [
       "<folium.folium.Map at 0x7ff741b35400>"
      ]
     },
     "execution_count": 37,
     "metadata": {},
     "output_type": "execute_result"
    }
   ],
   "source": [
    "times_square_marker and times_square_marker.add_to(times_square_map)\n",
    "times_square_map"
   ]
  },
  {
   "cell_type": "markdown",
   "metadata": {},
   "source": [
    "Now that we have a marker and a map, now let's write a function that adds a lot of markers to a map.  This function should add each marker in the list to the map object then return the updated map object."
   ]
  },
  {
   "cell_type": "code",
   "execution_count": 29,
   "metadata": {},
   "outputs": [],
   "source": [
    "manhattan_map = map_from([40.7589, -73.9851], 13)"
   ]
  },
  {
   "cell_type": "code",
   "execution_count": 30,
   "metadata": {},
   "outputs": [],
   "source": [
    "def add_markers(markers, map_obj):\n",
    "    return list (map(lambda markers: markers and markers.add_to(map_obj), markers))\n",
    "    pass"
   ]
  },
  {
   "cell_type": "code",
   "execution_count": 31,
   "metadata": {
    "scrolled": false
   },
   "outputs": [],
   "source": [
    "map_with_markers = add_markers(trip_markers, manhattan_map)"
   ]
  },
  {
   "cell_type": "code",
   "execution_count": 32,
   "metadata": {},
   "outputs": [
    {
     "data": {
      "text/plain": [
       "[<folium.vector_layers.CircleMarker at 0x7f6b881ce160>,\n",
       " <folium.vector_layers.CircleMarker at 0x7f6b881ce240>,\n",
       " <folium.vector_layers.CircleMarker at 0x7f6bb81ebf98>,\n",
       " <folium.vector_layers.CircleMarker at 0x7f6bb81eb978>,\n",
       " <folium.vector_layers.CircleMarker at 0x7f6b881c3ef0>,\n",
       " <folium.vector_layers.CircleMarker at 0x7f6b880f0550>,\n",
       " <folium.vector_layers.CircleMarker at 0x7f6b880f0eb8>,\n",
       " <folium.vector_layers.CircleMarker at 0x7f6b880f0978>,\n",
       " <folium.vector_layers.CircleMarker at 0x7f6b8809a208>,\n",
       " <folium.vector_layers.CircleMarker at 0x7f6b881cec18>,\n",
       " <folium.vector_layers.CircleMarker at 0x7f6b8809a240>,\n",
       " <folium.vector_layers.CircleMarker at 0x7f6b8809a2b0>,\n",
       " <folium.vector_layers.CircleMarker at 0x7f6b8809a2e8>,\n",
       " <folium.vector_layers.CircleMarker at 0x7f6b8809a358>,\n",
       " <folium.vector_layers.CircleMarker at 0x7f6b8809a588>,\n",
       " <folium.vector_layers.CircleMarker at 0x7f6b8809a5c0>,\n",
       " <folium.vector_layers.CircleMarker at 0x7f6b8809a668>,\n",
       " <folium.vector_layers.CircleMarker at 0x7f6b8809a710>,\n",
       " <folium.vector_layers.CircleMarker at 0x7f6bb84322e8>,\n",
       " <folium.vector_layers.CircleMarker at 0x7f6bc1d9f978>,\n",
       " <folium.vector_layers.CircleMarker at 0x7f6b882315c0>,\n",
       " <folium.vector_layers.CircleMarker at 0x7f6bb83dc7f0>,\n",
       " <folium.vector_layers.CircleMarker at 0x7f6b882315f8>,\n",
       " <folium.vector_layers.CircleMarker at 0x7f6b882316a0>,\n",
       " <folium.vector_layers.CircleMarker at 0x7f6b88a22ba8>,\n",
       " <folium.vector_layers.CircleMarker at 0x7f6b88a225f8>,\n",
       " <folium.vector_layers.CircleMarker at 0x7f6bb81eb940>,\n",
       " <folium.vector_layers.CircleMarker at 0x7f6b880f0a90>,\n",
       " <folium.vector_layers.CircleMarker at 0x7f6b880f09e8>,\n",
       " <folium.vector_layers.CircleMarker at 0x7f6b881c3898>,\n",
       " <folium.vector_layers.CircleMarker at 0x7f6b881c3940>,\n",
       " <folium.vector_layers.CircleMarker at 0x7f6b88135e80>,\n",
       " <folium.vector_layers.CircleMarker at 0x7f6b881ce7b8>,\n",
       " <folium.vector_layers.CircleMarker at 0x7f6b881625f8>,\n",
       " <folium.vector_layers.CircleMarker at 0x7f6b88176e10>,\n",
       " <folium.vector_layers.CircleMarker at 0x7f6bb81ebb38>,\n",
       " <folium.vector_layers.CircleMarker at 0x7f6b881c3748>,\n",
       " <folium.vector_layers.CircleMarker at 0x7f6b881c37b8>,\n",
       " <folium.vector_layers.CircleMarker at 0x7f6b881ce588>,\n",
       " <folium.vector_layers.CircleMarker at 0x7f6b88a22a58>,\n",
       " <folium.vector_layers.CircleMarker at 0x7f6b88a22c50>,\n",
       " <folium.vector_layers.CircleMarker at 0x7f6bbac929b0>,\n",
       " <folium.vector_layers.CircleMarker at 0x7f6b880f0f60>,\n",
       " <folium.vector_layers.CircleMarker at 0x7f6b88231588>,\n",
       " <folium.vector_layers.CircleMarker at 0x7f6b88231f60>,\n",
       " <folium.vector_layers.CircleMarker at 0x7f6b88087be0>,\n",
       " <folium.vector_layers.CircleMarker at 0x7f6b880878d0>,\n",
       " <folium.vector_layers.CircleMarker at 0x7f6b88087198>,\n",
       " <folium.vector_layers.CircleMarker at 0x7f6b880c99e8>,\n",
       " <folium.vector_layers.CircleMarker at 0x7f6b8809a780>,\n",
       " <folium.vector_layers.CircleMarker at 0x7f6b8809a4e0>,\n",
       " <folium.vector_layers.CircleMarker at 0x7f6b8809a160>,\n",
       " <folium.vector_layers.CircleMarker at 0x7f6b8809a390>,\n",
       " <folium.vector_layers.CircleMarker at 0x7f6b8809a0b8>,\n",
       " <folium.vector_layers.CircleMarker at 0x7f6b8809a828>,\n",
       " <folium.vector_layers.CircleMarker at 0x7f6b8809a860>,\n",
       " <folium.vector_layers.CircleMarker at 0x7f6b88087eb8>,\n",
       " <folium.vector_layers.CircleMarker at 0x7f6b88087748>,\n",
       " <folium.vector_layers.CircleMarker at 0x7f6b88231668>,\n",
       " <folium.vector_layers.CircleMarker at 0x7f6b88231630>,\n",
       " <folium.vector_layers.CircleMarker at 0x7f6b880f0748>,\n",
       " <folium.vector_layers.CircleMarker at 0x7f6b880c9fd0>,\n",
       " <folium.vector_layers.CircleMarker at 0x7f6b881c3f98>,\n",
       " <folium.vector_layers.CircleMarker at 0x7f6b88a22e48>,\n",
       " <folium.vector_layers.CircleMarker at 0x7f6b881ce278>,\n",
       " <folium.vector_layers.CircleMarker at 0x7f6b8809a080>,\n",
       " <folium.vector_layers.CircleMarker at 0x7f6b8809a198>,\n",
       " <folium.vector_layers.CircleMarker at 0x7f6b8809a470>,\n",
       " <folium.vector_layers.CircleMarker at 0x7f6b8809a5f8>,\n",
       " <folium.vector_layers.CircleMarker at 0x7f6b8809a438>,\n",
       " <folium.vector_layers.CircleMarker at 0x7f6b8809a978>,\n",
       " <folium.vector_layers.CircleMarker at 0x7f6b8809a6d8>,\n",
       " <folium.vector_layers.CircleMarker at 0x7f6b8809aa58>,\n",
       " <folium.vector_layers.CircleMarker at 0x7f6b8809ab00>,\n",
       " <folium.vector_layers.CircleMarker at 0x7f6b8809aba8>,\n",
       " <folium.vector_layers.CircleMarker at 0x7f6b8809ac50>,\n",
       " <folium.vector_layers.CircleMarker at 0x7f6b8809acf8>,\n",
       " <folium.vector_layers.CircleMarker at 0x7f6b881cea20>,\n",
       " <folium.vector_layers.CircleMarker at 0x7f6b881c3908>,\n",
       " <folium.vector_layers.CircleMarker at 0x7f6b88231860>,\n",
       " <folium.vector_layers.CircleMarker at 0x7f6b88087d30>,\n",
       " <folium.vector_layers.CircleMarker at 0x7f6b880c9940>,\n",
       " <folium.vector_layers.CircleMarker at 0x7f6b880f00f0>,\n",
       " <folium.vector_layers.CircleMarker at 0x7f6b8809ab38>,\n",
       " <folium.vector_layers.CircleMarker at 0x7f6b8809ab70>,\n",
       " <folium.vector_layers.CircleMarker at 0x7f6b8809aa20>,\n",
       " <folium.vector_layers.CircleMarker at 0x7f6b8809a518>,\n",
       " <folium.vector_layers.CircleMarker at 0x7f6b8809a908>,\n",
       " <folium.vector_layers.CircleMarker at 0x7f6b8809a550>,\n",
       " <folium.vector_layers.CircleMarker at 0x7f6b8809a6a0>,\n",
       " <folium.vector_layers.CircleMarker at 0x7f6b8809ada0>,\n",
       " <folium.vector_layers.CircleMarker at 0x7f6b8809ac88>,\n",
       " <folium.vector_layers.CircleMarker at 0x7f6b8809aeb8>,\n",
       " <folium.vector_layers.CircleMarker at 0x7f6b8809aef0>,\n",
       " <folium.vector_layers.CircleMarker at 0x7f6b8809af98>,\n",
       " <folium.vector_layers.CircleMarker at 0x7f6b8809af28>,\n",
       " <folium.vector_layers.CircleMarker at 0x7f6b880ab0b8>,\n",
       " <folium.vector_layers.CircleMarker at 0x7f6b880ab1d0>,\n",
       " <folium.vector_layers.CircleMarker at 0x7f6b8809aa90>,\n",
       " <folium.vector_layers.CircleMarker at 0x7f6b8809ae10>,\n",
       " <folium.vector_layers.CircleMarker at 0x7f6b8809add8>,\n",
       " <folium.vector_layers.CircleMarker at 0x7f6b8809a940>,\n",
       " <folium.vector_layers.CircleMarker at 0x7f6b8809a400>,\n",
       " <folium.vector_layers.CircleMarker at 0x7f6bb81ebe80>,\n",
       " <folium.vector_layers.CircleMarker at 0x7f6b880c9400>,\n",
       " <folium.vector_layers.CircleMarker at 0x7f6b882267b8>,\n",
       " <folium.vector_layers.CircleMarker at 0x7f6bb83dc780>,\n",
       " <folium.vector_layers.CircleMarker at 0x7f6b8809a9e8>,\n",
       " <folium.vector_layers.CircleMarker at 0x7f6b8809a7b8>,\n",
       " <folium.vector_layers.CircleMarker at 0x7f6b8809a9b0>,\n",
       " <folium.vector_layers.CircleMarker at 0x7f6b880ab160>,\n",
       " <folium.vector_layers.CircleMarker at 0x7f6b880ab2e8>,\n",
       " <folium.vector_layers.CircleMarker at 0x7f6b880ab358>,\n",
       " <folium.vector_layers.CircleMarker at 0x7f6b880ab198>,\n",
       " <folium.vector_layers.CircleMarker at 0x7f6b880ab438>,\n",
       " <folium.vector_layers.CircleMarker at 0x7f6b880ab4e0>,\n",
       " <folium.vector_layers.CircleMarker at 0x7f6b880ab588>,\n",
       " <folium.vector_layers.CircleMarker at 0x7f6b880ab630>,\n",
       " <folium.vector_layers.CircleMarker at 0x7f6b880ab6d8>,\n",
       " <folium.vector_layers.CircleMarker at 0x7f6b880ab780>,\n",
       " <folium.vector_layers.CircleMarker at 0x7f6b88a22cf8>,\n",
       " <folium.vector_layers.CircleMarker at 0x7f6b880c9d30>,\n",
       " <folium.vector_layers.CircleMarker at 0x7f6b880f07f0>,\n",
       " <folium.vector_layers.CircleMarker at 0x7f6b8809a898>,\n",
       " <folium.vector_layers.CircleMarker at 0x7f6b8809a4a8>,\n",
       " <folium.vector_layers.CircleMarker at 0x7f6b8809abe0>,\n",
       " <folium.vector_layers.CircleMarker at 0x7f6b8809af60>,\n",
       " <folium.vector_layers.CircleMarker at 0x7f6b8809ae80>,\n",
       " <folium.vector_layers.CircleMarker at 0x7f6b880ab6a0>,\n",
       " <folium.vector_layers.CircleMarker at 0x7f6b880ab550>,\n",
       " <folium.vector_layers.CircleMarker at 0x7f6b880ab2b0>,\n",
       " <folium.vector_layers.CircleMarker at 0x7f6b880ab208>,\n",
       " <folium.vector_layers.CircleMarker at 0x7f6b880ab048>,\n",
       " <folium.vector_layers.CircleMarker at 0x7f6b880ab828>,\n",
       " <folium.vector_layers.CircleMarker at 0x7f6b880ab710>,\n",
       " <folium.vector_layers.CircleMarker at 0x7f6b880ab940>,\n",
       " <folium.vector_layers.CircleMarker at 0x7f6b880ab978>,\n",
       " <folium.vector_layers.CircleMarker at 0x7f6b880aba20>,\n",
       " <folium.vector_layers.CircleMarker at 0x7f6b880abac8>,\n",
       " <folium.vector_layers.CircleMarker at 0x7f6b880abb70>,\n",
       " <folium.vector_layers.CircleMarker at 0x7f6b880abc18>,\n",
       " <folium.vector_layers.CircleMarker at 0x7f6b880abcc0>,\n",
       " <folium.vector_layers.CircleMarker at 0x7f6b88231cc0>,\n",
       " <folium.vector_layers.CircleMarker at 0x7f6bb82ba0f0>,\n",
       " <folium.vector_layers.CircleMarker at 0x7f6b8809a7f0>,\n",
       " <folium.vector_layers.CircleMarker at 0x7f6b8809a630>,\n",
       " <folium.vector_layers.CircleMarker at 0x7f6b8809a048>,\n",
       " <folium.vector_layers.CircleMarker at 0x7f6b880abbe0>,\n",
       " <folium.vector_layers.CircleMarker at 0x7f6b880aba90>,\n",
       " <folium.vector_layers.CircleMarker at 0x7f6b880ab898>,\n",
       " <folium.vector_layers.CircleMarker at 0x7f6b880ab908>,\n",
       " <folium.vector_layers.CircleMarker at 0x7f6b880ab400>,\n",
       " <folium.vector_layers.CircleMarker at 0x7f6b880ab0f0>,\n",
       " <folium.vector_layers.CircleMarker at 0x7f6b880ab518>,\n",
       " <folium.vector_layers.CircleMarker at 0x7f6b880ab5f8>,\n",
       " <folium.vector_layers.CircleMarker at 0x7f6b880abd30>,\n",
       " <folium.vector_layers.CircleMarker at 0x7f6b880abdd8>,\n",
       " <folium.vector_layers.CircleMarker at 0x7f6b880abe10>,\n",
       " <folium.vector_layers.CircleMarker at 0x7f6b880abcf8>,\n",
       " <folium.vector_layers.CircleMarker at 0x7f6b880abef0>,\n",
       " <folium.vector_layers.CircleMarker at 0x7f6b880abf98>,\n",
       " <folium.vector_layers.CircleMarker at 0x7f6b880abf28>,\n",
       " <folium.vector_layers.CircleMarker at 0x7f6b880bf080>,\n",
       " <folium.vector_layers.CircleMarker at 0x7f6b880abfd0>,\n",
       " <folium.vector_layers.CircleMarker at 0x7f6b880abf60>,\n",
       " <folium.vector_layers.CircleMarker at 0x7f6b880ab748>,\n",
       " <folium.vector_layers.CircleMarker at 0x7f6b880abd68>,\n",
       " <folium.vector_layers.CircleMarker at 0x7f6b880ab668>,\n",
       " <folium.vector_layers.CircleMarker at 0x7f6b880ab278>,\n",
       " <folium.vector_layers.CircleMarker at 0x7f6b880ab8d0>,\n",
       " <folium.vector_layers.CircleMarker at 0x7f6b881ce1d0>,\n",
       " <folium.vector_layers.CircleMarker at 0x7f6b880ab128>,\n",
       " <folium.vector_layers.CircleMarker at 0x7f6b880abc88>,\n",
       " <folium.vector_layers.CircleMarker at 0x7f6b880ab080>,\n",
       " <folium.vector_layers.CircleMarker at 0x7f6b8809a8d0>,\n",
       " <folium.vector_layers.CircleMarker at 0x7f6b8809a748>,\n",
       " <folium.vector_layers.CircleMarker at 0x7f6b8809ae48>,\n",
       " <folium.vector_layers.CircleMarker at 0x7f6b880bf198>,\n",
       " <folium.vector_layers.CircleMarker at 0x7f6b880bf2e8>,\n",
       " <folium.vector_layers.CircleMarker at 0x7f6b880bf320>,\n",
       " <folium.vector_layers.CircleMarker at 0x7f6b880bf3c8>,\n",
       " <folium.vector_layers.CircleMarker at 0x7f6b880bf470>,\n",
       " <folium.vector_layers.CircleMarker at 0x7f6b880bf518>,\n",
       " <folium.vector_layers.CircleMarker at 0x7f6b880bf5c0>,\n",
       " <folium.vector_layers.CircleMarker at 0x7f6b880bf668>,\n",
       " <folium.vector_layers.CircleMarker at 0x7f6bb8424e48>,\n",
       " <folium.vector_layers.CircleMarker at 0x7f6b8809ad30>,\n",
       " <folium.vector_layers.CircleMarker at 0x7f6b880abb38>,\n",
       " <folium.vector_layers.CircleMarker at 0x7f6b880ab9e8>,\n",
       " <folium.vector_layers.CircleMarker at 0x7f6b880ab390>,\n",
       " <folium.vector_layers.CircleMarker at 0x7f6b880abda0>,\n",
       " <folium.vector_layers.CircleMarker at 0x7f6b880ab4a8>,\n",
       " <folium.vector_layers.CircleMarker at 0x7f6b880abe48>,\n",
       " <folium.vector_layers.CircleMarker at 0x7f6b880abba8>,\n",
       " <folium.vector_layers.CircleMarker at 0x7f6b880bf588>,\n",
       " <folium.vector_layers.CircleMarker at 0x7f6b880bf438>,\n",
       " <folium.vector_layers.CircleMarker at 0x7f6b880bf1d0>,\n",
       " <folium.vector_layers.CircleMarker at 0x7f6b880bf278>,\n",
       " <folium.vector_layers.CircleMarker at 0x7f6b880bf710>,\n",
       " <folium.vector_layers.CircleMarker at 0x7f6b880bf5f8>,\n",
       " <folium.vector_layers.CircleMarker at 0x7f6b880bf828>,\n",
       " <folium.vector_layers.CircleMarker at 0x7f6b880bf860>,\n",
       " <folium.vector_layers.CircleMarker at 0x7f6b880bf908>,\n",
       " <folium.vector_layers.CircleMarker at 0x7f6b880bf9b0>,\n",
       " <folium.vector_layers.CircleMarker at 0x7f6b880bfa58>,\n",
       " <folium.vector_layers.CircleMarker at 0x7f6b880bfb00>,\n",
       " <folium.vector_layers.CircleMarker at 0x7f6b880bfba8>,\n",
       " <folium.vector_layers.CircleMarker at 0x7f6b880aba58>,\n",
       " <folium.vector_layers.CircleMarker at 0x7f6b8809acc0>,\n",
       " <folium.vector_layers.CircleMarker at 0x7f6b88087630>,\n",
       " <folium.vector_layers.CircleMarker at 0x7f6b880ab9b0>,\n",
       " <folium.vector_layers.CircleMarker at 0x7f6b880ab5c0>,\n",
       " <folium.vector_layers.CircleMarker at 0x7f6b880ab320>,\n",
       " <folium.vector_layers.CircleMarker at 0x7f6b880bf898>,\n",
       " <folium.vector_layers.CircleMarker at 0x7f6b880bf7b8>,\n",
       " <folium.vector_layers.CircleMarker at 0x7f6b880bf048>,\n",
       " <folium.vector_layers.CircleMarker at 0x7f6b880bf240>,\n",
       " <folium.vector_layers.CircleMarker at 0x7f6b880bf550>,\n",
       " <folium.vector_layers.CircleMarker at 0x7f6b880bf400>,\n",
       " <folium.vector_layers.CircleMarker at 0x7f6b880bf4e0>,\n",
       " <folium.vector_layers.CircleMarker at 0x7f6b880bfc50>,\n",
       " <folium.vector_layers.CircleMarker at 0x7f6b880bfb38>,\n",
       " <folium.vector_layers.CircleMarker at 0x7f6b880bfd68>,\n",
       " <folium.vector_layers.CircleMarker at 0x7f6b880bfda0>,\n",
       " <folium.vector_layers.CircleMarker at 0x7f6b880bfe48>,\n",
       " <folium.vector_layers.CircleMarker at 0x7f6b880bfef0>,\n",
       " <folium.vector_layers.CircleMarker at 0x7f6b880bff98>,\n",
       " <folium.vector_layers.CircleMarker at 0x7f6b880bff28>,\n",
       " <folium.vector_layers.CircleMarker at 0x7f6b880510b8>,\n",
       " <folium.vector_layers.CircleMarker at 0x7f6b880bfb70>,\n",
       " <folium.vector_layers.CircleMarker at 0x7f6b880bfbe0>,\n",
       " <folium.vector_layers.CircleMarker at 0x7f6b880bf4a8>,\n",
       " <folium.vector_layers.CircleMarker at 0x7f6b880bf390>,\n",
       " <folium.vector_layers.CircleMarker at 0x7f6b880bfa90>,\n",
       " <folium.vector_layers.CircleMarker at 0x7f6b880bf160>,\n",
       " <folium.vector_layers.CircleMarker at 0x7f6b880bf208>,\n",
       " <folium.vector_layers.CircleMarker at 0x7f6b8809aac8>,\n",
       " <folium.vector_layers.CircleMarker at 0x7f6b880bf978>,\n",
       " <folium.vector_layers.CircleMarker at 0x7f6b880bf940>,\n",
       " <folium.vector_layers.CircleMarker at 0x7f6b880bf6a0>,\n",
       " <folium.vector_layers.CircleMarker at 0x7f6b880abe80>,\n",
       " <folium.vector_layers.CircleMarker at 0x7f6b880ab7f0>,\n",
       " <folium.vector_layers.CircleMarker at 0x7f6b880ab860>,\n",
       " <folium.vector_layers.CircleMarker at 0x7f6b88051208>,\n",
       " <folium.vector_layers.CircleMarker at 0x7f6b880512e8>,\n",
       " <folium.vector_layers.CircleMarker at 0x7f6b88051320>,\n",
       " <folium.vector_layers.CircleMarker at 0x7f6b880513c8>,\n",
       " <folium.vector_layers.CircleMarker at 0x7f6b88051470>,\n",
       " <folium.vector_layers.CircleMarker at 0x7f6b88051518>,\n",
       " <folium.vector_layers.CircleMarker at 0x7f6b880515c0>,\n",
       " <folium.vector_layers.CircleMarker at 0x7f6b8809ac18>,\n",
       " <folium.vector_layers.CircleMarker at 0x7f6b880ab3c8>,\n",
       " <folium.vector_layers.CircleMarker at 0x7f6b880bfa20>,\n",
       " <folium.vector_layers.CircleMarker at 0x7f6b880bfac8>,\n",
       " <folium.vector_layers.CircleMarker at 0x7f6b880bf8d0>,\n",
       " <folium.vector_layers.CircleMarker at 0x7f6b880bfeb8>,\n",
       " <folium.vector_layers.CircleMarker at 0x7f6b880bfd30>,\n",
       " <folium.vector_layers.CircleMarker at 0x7f6b880bff60>,\n",
       " <folium.vector_layers.CircleMarker at 0x7f6b880bfe10>,\n",
       " <folium.vector_layers.CircleMarker at 0x7f6b88051400>,\n",
       " <folium.vector_layers.CircleMarker at 0x7f6b88051438>,\n",
       " <folium.vector_layers.CircleMarker at 0x7f6b880510f0>,\n",
       " <folium.vector_layers.CircleMarker at 0x7f6b880511d0>,\n",
       " <folium.vector_layers.CircleMarker at 0x7f6b88051668>,\n",
       " <folium.vector_layers.CircleMarker at 0x7f6b88051550>,\n",
       " <folium.vector_layers.CircleMarker at 0x7f6b88051780>,\n",
       " <folium.vector_layers.CircleMarker at 0x7f6b880517b8>,\n",
       " <folium.vector_layers.CircleMarker at 0x7f6b88051860>,\n",
       " <folium.vector_layers.CircleMarker at 0x7f6b88051908>,\n",
       " <folium.vector_layers.CircleMarker at 0x7f6b880519b0>,\n",
       " <folium.vector_layers.CircleMarker at 0x7f6b88051a58>,\n",
       " <folium.vector_layers.CircleMarker at 0x7f6b88051b00>,\n",
       " <folium.vector_layers.CircleMarker at 0x7f6b880bf780>,\n",
       " <folium.vector_layers.CircleMarker at 0x7f6b880bfcf8>,\n",
       " <folium.vector_layers.CircleMarker at 0x7f6b880bfc88>,\n",
       " <folium.vector_layers.CircleMarker at 0x7f6b880bfcc0>,\n",
       " <folium.vector_layers.CircleMarker at 0x7f6b881ce550>,\n",
       " <folium.vector_layers.CircleMarker at 0x7f6b8809a128>,\n",
       " <folium.vector_layers.CircleMarker at 0x7f6b881ba588>,\n",
       " <folium.vector_layers.CircleMarker at 0x7f6b880bfc18>,\n",
       " <folium.vector_layers.CircleMarker at 0x7f6b880ab7b8>,\n",
       " <folium.vector_layers.CircleMarker at 0x7f6b880abc50>,\n",
       " <folium.vector_layers.CircleMarker at 0x7f6b88051a20>,\n",
       " <folium.vector_layers.CircleMarker at 0x7f6b880518d0>,\n",
       " <folium.vector_layers.CircleMarker at 0x7f6b880516d8>,\n",
       " <folium.vector_layers.CircleMarker at 0x7f6b88051748>,\n",
       " <folium.vector_layers.CircleMarker at 0x7f6b88051080>,\n",
       " <folium.vector_layers.CircleMarker at 0x7f6b88051278>,\n",
       " <folium.vector_layers.CircleMarker at 0x7f6b880514e0>,\n",
       " <folium.vector_layers.CircleMarker at 0x7f6b880514a8>,\n",
       " <folium.vector_layers.CircleMarker at 0x7f6b88051c18>,\n",
       " <folium.vector_layers.CircleMarker at 0x7f6b88051c50>,\n",
       " <folium.vector_layers.CircleMarker at 0x7f6b88051b38>,\n",
       " <folium.vector_layers.CircleMarker at 0x7f6b88051d30>,\n",
       " <folium.vector_layers.CircleMarker at 0x7f6b881a5b70>,\n",
       " <folium.vector_layers.CircleMarker at 0x7f6b880abb00>,\n",
       " <folium.vector_layers.CircleMarker at 0x7f6b880ab470>,\n",
       " <folium.vector_layers.CircleMarker at 0x7f6b880bf748>,\n",
       " <folium.vector_layers.CircleMarker at 0x7f6b880bf2b0>,\n",
       " <folium.vector_layers.CircleMarker at 0x7f6b880bf358>,\n",
       " <folium.vector_layers.CircleMarker at 0x7f6b880bf6d8>,\n",
       " <folium.vector_layers.CircleMarker at 0x7f6b88051588>,\n",
       " <folium.vector_layers.CircleMarker at 0x7f6b88051160>,\n",
       " <folium.vector_layers.CircleMarker at 0x7f6b88051390>,\n",
       " <folium.vector_layers.CircleMarker at 0x7f6b88051710>,\n",
       " <folium.vector_layers.CircleMarker at 0x7f6b88051048>,\n",
       " <folium.vector_layers.CircleMarker at 0x7f6b880515f8>,\n",
       " <folium.vector_layers.CircleMarker at 0x7f6b88051dd8>,\n",
       " <folium.vector_layers.CircleMarker at 0x7f6b88051358>,\n",
       " <folium.vector_layers.CircleMarker at 0x7f6b88051ef0>,\n",
       " <folium.vector_layers.CircleMarker at 0x7f6b88051f28>,\n",
       " <folium.vector_layers.CircleMarker at 0x7f6b88051fd0>,\n",
       " <folium.vector_layers.CircleMarker at 0x7f6b88051d68>,\n",
       " <folium.vector_layers.CircleMarker at 0x7f6b880640f0>,\n",
       " <folium.vector_layers.CircleMarker at 0x7f6b88064208>,\n",
       " <folium.vector_layers.CircleMarker at 0x7f6b880642b0>,\n",
       " <folium.vector_layers.CircleMarker at 0x7f6b88051cf8>,\n",
       " <folium.vector_layers.CircleMarker at 0x7f6b88051940>,\n",
       " <folium.vector_layers.CircleMarker at 0x7f6b880516a0>,\n",
       " <folium.vector_layers.CircleMarker at 0x7f6b88051828>,\n",
       " <folium.vector_layers.CircleMarker at 0x7f6b88051a90>,\n",
       " <folium.vector_layers.CircleMarker at 0x7f6b880512b0>,\n",
       " <folium.vector_layers.CircleMarker at 0x7f6b880519e8>,\n",
       " <folium.vector_layers.CircleMarker at 0x7f6b88051ba8>,\n",
       " <folium.vector_layers.CircleMarker at 0x7f6b880abeb8>,\n",
       " <folium.vector_layers.CircleMarker at 0x7f6b880bf0f0>,\n",
       " <folium.vector_layers.CircleMarker at 0x7f6b880bf7f0>,\n",
       " <folium.vector_layers.CircleMarker at 0x7f6b880bf9e8>,\n",
       " <folium.vector_layers.CircleMarker at 0x7f6b88064160>,\n",
       " <folium.vector_layers.CircleMarker at 0x7f6b88064358>,\n",
       " <folium.vector_layers.CircleMarker at 0x7f6b88064240>,\n",
       " <folium.vector_layers.CircleMarker at 0x7f6b88064470>,\n",
       " <folium.vector_layers.CircleMarker at 0x7f6b880644a8>,\n",
       " <folium.vector_layers.CircleMarker at 0x7f6b88064550>,\n",
       " <folium.vector_layers.CircleMarker at 0x7f6b880645f8>,\n",
       " <folium.vector_layers.CircleMarker at 0x7f6b880646a0>,\n",
       " <folium.vector_layers.CircleMarker at 0x7f6b88064748>,\n",
       " <folium.vector_layers.CircleMarker at 0x7f6b880647f0>,\n",
       " <folium.vector_layers.CircleMarker at 0x7f6b880ab240>,\n",
       " <folium.vector_layers.CircleMarker at 0x7f6b880bfdd8>,\n",
       " <folium.vector_layers.CircleMarker at 0x7f6b880bffd0>,\n",
       " <folium.vector_layers.CircleMarker at 0x7f6b88051240>,\n",
       " <folium.vector_layers.CircleMarker at 0x7f6b880517f0>,\n",
       " <folium.vector_layers.CircleMarker at 0x7f6b88051898>,\n",
       " <folium.vector_layers.CircleMarker at 0x7f6b88051e80>,\n",
       " <folium.vector_layers.CircleMarker at 0x7f6b88051f98>,\n",
       " <folium.vector_layers.CircleMarker at 0x7f6b880644e0>,\n",
       " <folium.vector_layers.CircleMarker at 0x7f6b88064400>,\n",
       " <folium.vector_layers.CircleMarker at 0x7f6b880641d0>,\n",
       " <folium.vector_layers.CircleMarker at 0x7f6b88064198>,\n",
       " <folium.vector_layers.CircleMarker at 0x7f6b88064048>,\n",
       " <folium.vector_layers.CircleMarker at 0x7f6b88064898>,\n",
       " <folium.vector_layers.CircleMarker at 0x7f6b88064780>,\n",
       " <folium.vector_layers.CircleMarker at 0x7f6b880649b0>,\n",
       " <folium.vector_layers.CircleMarker at 0x7f6b880649e8>,\n",
       " <folium.vector_layers.CircleMarker at 0x7f6b88064a90>,\n",
       " <folium.vector_layers.CircleMarker at 0x7f6b88064b38>,\n",
       " <folium.vector_layers.CircleMarker at 0x7f6b88064be0>,\n",
       " <folium.vector_layers.CircleMarker at 0x7f6b88064c88>,\n",
       " <folium.vector_layers.CircleMarker at 0x7f6b88064d30>,\n",
       " <folium.vector_layers.CircleMarker at 0x7f6b880bf0b8>,\n",
       " <folium.vector_layers.CircleMarker at 0x7f6b88051ac8>,\n",
       " <folium.vector_layers.CircleMarker at 0x7f6b8809ad68>,\n",
       " <folium.vector_layers.CircleMarker at 0x7f6b88051e48>,\n",
       " <folium.vector_layers.CircleMarker at 0x7f6b88051198>,\n",
       " <folium.vector_layers.CircleMarker at 0x7f6b88064a20>,\n",
       " <folium.vector_layers.CircleMarker at 0x7f6b88064940>,\n",
       " <folium.vector_layers.CircleMarker at 0x7f6b88064080>,\n",
       " <folium.vector_layers.CircleMarker at 0x7f6b88064390>,\n",
       " <folium.vector_layers.CircleMarker at 0x7f6b880646d8>,\n",
       " <folium.vector_layers.CircleMarker at 0x7f6b88064668>,\n",
       " <folium.vector_layers.CircleMarker at 0x7f6b880643c8>,\n",
       " <folium.vector_layers.CircleMarker at 0x7f6b88064588>,\n",
       " <folium.vector_layers.CircleMarker at 0x7f6b88064dd8>,\n",
       " <folium.vector_layers.CircleMarker at 0x7f6b88064cc0>,\n",
       " <folium.vector_layers.CircleMarker at 0x7f6b88064ef0>,\n",
       " <folium.vector_layers.CircleMarker at 0x7f6b88064f28>,\n",
       " <folium.vector_layers.CircleMarker at 0x7f6b88064fd0>,\n",
       " <folium.vector_layers.CircleMarker at 0x7f6b88064d68>,\n",
       " <folium.vector_layers.CircleMarker at 0x7f6b88079128>,\n",
       " <folium.vector_layers.CircleMarker at 0x7f6b88079208>,\n",
       " <folium.vector_layers.CircleMarker at 0x7f6b880792b0>,\n",
       " <folium.vector_layers.CircleMarker at 0x7f6b88064cf8>,\n",
       " <folium.vector_layers.CircleMarker at 0x7f6b880647b8>,\n",
       " <folium.vector_layers.CircleMarker at 0x7f6b88064438>,\n",
       " <folium.vector_layers.CircleMarker at 0x7f6b880642e8>,\n",
       " <folium.vector_layers.CircleMarker at 0x7f6b88064278>,\n",
       " <folium.vector_layers.CircleMarker at 0x7f6b880640b8>,\n",
       " <folium.vector_layers.CircleMarker at 0x7f6b8809afd0>,\n",
       " <folium.vector_layers.CircleMarker at 0x7f6b88064128>,\n",
       " <folium.vector_layers.CircleMarker at 0x7f6b880bf630>,\n",
       " <folium.vector_layers.CircleMarker at 0x7f6b88064b70>,\n",
       " <folium.vector_layers.CircleMarker at 0x7f6b88051978>,\n",
       " <folium.vector_layers.CircleMarker at 0x7f6b88051128>,\n",
       " <folium.vector_layers.CircleMarker at 0x7f6b88079198>,\n",
       " <folium.vector_layers.CircleMarker at 0x7f6b88079358>,\n",
       " <folium.vector_layers.CircleMarker at 0x7f6b88079240>,\n",
       " <folium.vector_layers.CircleMarker at 0x7f6b88079470>,\n",
       " <folium.vector_layers.CircleMarker at 0x7f6b880794a8>,\n",
       " <folium.vector_layers.CircleMarker at 0x7f6b88079550>,\n",
       " <folium.vector_layers.CircleMarker at 0x7f6b880795f8>,\n",
       " <folium.vector_layers.CircleMarker at 0x7f6b880796a0>,\n",
       " <folium.vector_layers.CircleMarker at 0x7f6b88079748>,\n",
       " <folium.vector_layers.CircleMarker at 0x7f6b880797f0>,\n",
       " <folium.vector_layers.CircleMarker at 0x7f6b88051be0>,\n",
       " <folium.vector_layers.CircleMarker at 0x7f6b88064908>,\n",
       " <folium.vector_layers.CircleMarker at 0x7f6b88064828>,\n",
       " <folium.vector_layers.CircleMarker at 0x7f6b88064c18>,\n",
       " <folium.vector_layers.CircleMarker at 0x7f6b88064710>,\n",
       " <folium.vector_layers.CircleMarker at 0x7f6b880645c0>,\n",
       " <folium.vector_layers.CircleMarker at 0x7f6b88064e80>,\n",
       " <folium.vector_layers.CircleMarker at 0x7f6b88064eb8>,\n",
       " <folium.vector_layers.CircleMarker at 0x7f6b88079710>,\n",
       " <folium.vector_layers.CircleMarker at 0x7f6b880795c0>,\n",
       " <folium.vector_layers.CircleMarker at 0x7f6b880793c8>,\n",
       " <folium.vector_layers.CircleMarker at 0x7f6b88079438>,\n",
       " <folium.vector_layers.CircleMarker at 0x7f6b88079160>,\n",
       " <folium.vector_layers.CircleMarker at 0x7f6b88079320>,\n",
       " <folium.vector_layers.CircleMarker at 0x7f6b88079908>,\n",
       " <folium.vector_layers.CircleMarker at 0x7f6b88079940>,\n",
       " <folium.vector_layers.CircleMarker at 0x7f6b88079828>,\n",
       " <folium.vector_layers.CircleMarker at 0x7f6b88079a20>,\n",
       " <folium.vector_layers.CircleMarker at 0x7f6b88079ac8>,\n",
       " <folium.vector_layers.CircleMarker at 0x7f6b88079b70>,\n",
       " <folium.vector_layers.CircleMarker at 0x7f6b88079c18>,\n",
       " <folium.vector_layers.CircleMarker at 0x7f6b88064b00>,\n",
       " <folium.vector_layers.CircleMarker at 0x7f6b88064a58>,\n",
       " <folium.vector_layers.CircleMarker at 0x7f6b88064978>,\n",
       " <folium.vector_layers.CircleMarker at 0x7f6b88051cc0>,\n",
       " <folium.vector_layers.CircleMarker at 0x7f6b88064e10>,\n",
       " <folium.vector_layers.CircleMarker at 0x7f6b88064f60>,\n",
       " <folium.vector_layers.CircleMarker at 0x7f6b880790f0>,\n",
       " <folium.vector_layers.CircleMarker at 0x7f6b880798d0>,\n",
       " <folium.vector_layers.CircleMarker at 0x7f6b880799b0>,\n",
       " <folium.vector_layers.CircleMarker at 0x7f6b880791d0>,\n",
       " <folium.vector_layers.CircleMarker at 0x7f6b88079278>,\n",
       " <folium.vector_layers.CircleMarker at 0x7f6b880794e0>,\n",
       " <folium.vector_layers.CircleMarker at 0x7f6b88079518>,\n",
       " <folium.vector_layers.CircleMarker at 0x7f6b880797b8>,\n",
       " <folium.vector_layers.CircleMarker at 0x7f6b88079ba8>,\n",
       " <folium.vector_layers.CircleMarker at 0x7f6b88079dd8>,\n",
       " <folium.vector_layers.CircleMarker at 0x7f6b88079e10>,\n",
       " <folium.vector_layers.CircleMarker at 0x7f6b88079eb8>,\n",
       " <folium.vector_layers.CircleMarker at 0x7f6b88079f60>,\n",
       " <folium.vector_layers.CircleMarker at 0x7f6b88079ef0>,\n",
       " <folium.vector_layers.CircleMarker at 0x7f6b8800a048>,\n",
       " <folium.vector_layers.CircleMarker at 0x7f6b8800a128>,\n",
       " <folium.vector_layers.CircleMarker at 0x7f6b88079d30>,\n",
       " <folium.vector_layers.CircleMarker at 0x7f6b88079f28>,\n",
       " <folium.vector_layers.CircleMarker at 0x7f6b880792e8>,\n",
       " <folium.vector_layers.CircleMarker at 0x7f6b88079cf8>,\n",
       " <folium.vector_layers.CircleMarker at 0x7f6b88079898>,\n",
       " <folium.vector_layers.CircleMarker at 0x7f6b88079390>,\n",
       " <folium.vector_layers.CircleMarker at 0x7f6b88079b38>,\n",
       " <folium.vector_layers.CircleMarker at 0x7f6b880796d8>,\n",
       " <folium.vector_layers.CircleMarker at 0x7f6b88051630>,\n",
       " <folium.vector_layers.CircleMarker at 0x7f6b88079780>,\n",
       " <folium.vector_layers.CircleMarker at 0x7f6b88079a90>,\n",
       " <folium.vector_layers.CircleMarker at 0x7f6b88064630>,\n",
       " <folium.vector_layers.CircleMarker at 0x7f6b88064518>,\n",
       " <folium.vector_layers.CircleMarker at 0x7f6b8800a0b8>,\n",
       " <folium.vector_layers.CircleMarker at 0x7f6b8800a278>,\n",
       " <folium.vector_layers.CircleMarker at 0x7f6b8800a358>,\n",
       " <folium.vector_layers.CircleMarker at 0x7f6b8800a390>,\n",
       " <folium.vector_layers.CircleMarker at 0x7f6b8800a438>,\n",
       " <folium.vector_layers.CircleMarker at 0x7f6b8800a4e0>,\n",
       " <folium.vector_layers.CircleMarker at 0x7f6b8800a588>,\n",
       " <folium.vector_layers.CircleMarker at 0x7f6b8800a630>,\n",
       " <folium.vector_layers.CircleMarker at 0x7f6b8800a6d8>,\n",
       " <folium.vector_layers.CircleMarker at 0x7f6b88051e10>,\n",
       " <folium.vector_layers.CircleMarker at 0x7f6b880648d0>,\n",
       " <folium.vector_layers.CircleMarker at 0x7f6b88079cc0>,\n",
       " <folium.vector_layers.CircleMarker at 0x7f6b88079588>,\n",
       " <folium.vector_layers.CircleMarker at 0x7f6b88079da0>,\n",
       " <folium.vector_layers.CircleMarker at 0x7f6b88079668>,\n",
       " <folium.vector_layers.CircleMarker at 0x7f6b88079860>,\n",
       " <folium.vector_layers.CircleMarker at 0x7f6b88079e48>,\n",
       " <folium.vector_layers.CircleMarker at 0x7f6b88079fd0>,\n",
       " <folium.vector_layers.CircleMarker at 0x7f6b8800a3c8>,\n",
       " <folium.vector_layers.CircleMarker at 0x7f6b8800a0f0>,\n",
       " <folium.vector_layers.CircleMarker at 0x7f6b8800a160>,\n",
       " <folium.vector_layers.CircleMarker at 0x7f6b8800a240>,\n",
       " <folium.vector_layers.CircleMarker at 0x7f6b8800a780>,\n",
       " <folium.vector_layers.CircleMarker at 0x7f6b8800a668>,\n",
       " <folium.vector_layers.CircleMarker at 0x7f6b8800a898>,\n",
       " <folium.vector_layers.CircleMarker at 0x7f6b8800a8d0>,\n",
       " <folium.vector_layers.CircleMarker at 0x7f6b8800a978>,\n",
       " <folium.vector_layers.CircleMarker at 0x7f6b8800aa20>,\n",
       " <folium.vector_layers.CircleMarker at 0x7f6b8800aac8>,\n",
       " <folium.vector_layers.CircleMarker at 0x7f6b8800ab70>,\n",
       " <folium.vector_layers.CircleMarker at 0x7f6b8800ac18>,\n",
       " <folium.vector_layers.CircleMarker at 0x7f6b88079a58>,\n",
       " <folium.vector_layers.CircleMarker at 0x7f6b880790b8>,\n",
       " <folium.vector_layers.CircleMarker at 0x7f6b880799e8>,\n",
       " <folium.vector_layers.CircleMarker at 0x7f6b88079978>,\n",
       " <folium.vector_layers.CircleMarker at 0x7f6b88064ba8>,\n",
       " <folium.vector_layers.CircleMarker at 0x7f6b8800aa58>,\n",
       " <folium.vector_layers.CircleMarker at 0x7f6b8800aa90>,\n",
       " <folium.vector_layers.CircleMarker at 0x7f6b8800a940>,\n",
       " <folium.vector_layers.CircleMarker at 0x7f6b8800a080>,\n",
       " <folium.vector_layers.CircleMarker at 0x7f6b8800a7b8>,\n",
       " <folium.vector_layers.CircleMarker at 0x7f6b8800a550>,\n",
       " <folium.vector_layers.CircleMarker at 0x7f6b8800a2b0>,\n",
       " <folium.vector_layers.CircleMarker at 0x7f6b8800a470>,\n",
       " <folium.vector_layers.CircleMarker at 0x7f6b8800acc0>,\n",
       " <folium.vector_layers.CircleMarker at 0x7f6b8800aba8>,\n",
       " <folium.vector_layers.CircleMarker at 0x7f6b8800add8>,\n",
       " <folium.vector_layers.CircleMarker at 0x7f6b8800ae10>,\n",
       " <folium.vector_layers.CircleMarker at 0x7f6b8800aeb8>,\n",
       " <folium.vector_layers.CircleMarker at 0x7f6b8800af60>,\n",
       " <folium.vector_layers.CircleMarker at 0x7f6b8800aef0>,\n",
       " <folium.vector_layers.CircleMarker at 0x7f6b8801e048>,\n",
       " <folium.vector_layers.CircleMarker at 0x7f6b8801e160>,\n",
       " <folium.vector_layers.CircleMarker at 0x7f6b88064ac8>,\n",
       " <folium.vector_layers.CircleMarker at 0x7f6b88079080>,\n",
       " <folium.vector_layers.CircleMarker at 0x7f6b88079400>,\n",
       " <folium.vector_layers.CircleMarker at 0x7f6b8800af98>,\n",
       " <folium.vector_layers.CircleMarker at 0x7f6b8800af28>,\n",
       " <folium.vector_layers.CircleMarker at 0x7f6b8800a6a0>,\n",
       " <folium.vector_layers.CircleMarker at 0x7f6b8800a4a8>,\n",
       " <folium.vector_layers.CircleMarker at 0x7f6b8800ab00>,\n",
       " <folium.vector_layers.CircleMarker at 0x7f6b8800a860>,\n",
       " <folium.vector_layers.CircleMarker at 0x7f6b8800a5c0>,\n",
       " <folium.vector_layers.CircleMarker at 0x7f6b8800a908>,\n",
       " <folium.vector_layers.CircleMarker at 0x7f6b8800a9e8>,\n",
       " <folium.vector_layers.CircleMarker at 0x7f6b8800ac88>,\n",
       " <folium.vector_layers.CircleMarker at 0x7f6b8800a208>,\n",
       " <folium.vector_layers.CircleMarker at 0x7f6b8801e240>,\n",
       " <folium.vector_layers.CircleMarker at 0x7f6b8801e2e8>,\n",
       " <folium.vector_layers.CircleMarker at 0x7f6b8801e198>,\n",
       " <folium.vector_layers.CircleMarker at 0x7f6b8801e3c8>,\n",
       " <folium.vector_layers.CircleMarker at 0x7f6b8801e470>,\n",
       " <folium.vector_layers.CircleMarker at 0x7f6b8801e518>,\n",
       " <folium.vector_layers.CircleMarker at 0x7f6b8801e5c0>,\n",
       " <folium.vector_layers.CircleMarker at 0x7f6b8800ab38>,\n",
       " <folium.vector_layers.CircleMarker at 0x7f6b8800a5f8>,\n",
       " <folium.vector_layers.CircleMarker at 0x7f6b8800a7f0>,\n",
       " <folium.vector_layers.CircleMarker at 0x7f6b8800ad68>,\n",
       " <folium.vector_layers.CircleMarker at 0x7f6b8800ada0>,\n",
       " <folium.vector_layers.CircleMarker at 0x7f6b8800afd0>,\n",
       " <folium.vector_layers.CircleMarker at 0x7f6b8800a1d0>,\n",
       " <folium.vector_layers.CircleMarker at 0x7f6b8800ad30>,\n",
       " <folium.vector_layers.CircleMarker at 0x7f6b88079048>,\n",
       " <folium.vector_layers.CircleMarker at 0x7f6b88079b00>,\n",
       " <folium.vector_layers.CircleMarker at 0x7f6b88079f98>,\n",
       " <folium.vector_layers.CircleMarker at 0x7f6b88064da0>,\n",
       " <folium.vector_layers.CircleMarker at 0x7f6b88064c50>,\n",
       " <folium.vector_layers.CircleMarker at 0x7f6b88051da0>,\n",
       " <folium.vector_layers.CircleMarker at 0x7f6b8801e400>,\n",
       " <folium.vector_layers.CircleMarker at 0x7f6b8801e438>,\n",
       " <folium.vector_layers.CircleMarker at 0x7f6b8801e358>,\n",
       " <folium.vector_layers.CircleMarker at 0x7f6b8801e1d0>,\n",
       " <folium.vector_layers.CircleMarker at 0x7f6b8801e6d8>,\n",
       " <folium.vector_layers.CircleMarker at 0x7f6b8801e710>,\n",
       " <folium.vector_layers.CircleMarker at 0x7f6b8801e5f8>,\n",
       " <folium.vector_layers.CircleMarker at 0x7f6b8801e7f0>,\n",
       " <folium.vector_layers.CircleMarker at 0x7f6b8801e898>,\n",
       " <folium.vector_layers.CircleMarker at 0x7f6b88051eb8>,\n",
       " <folium.vector_layers.CircleMarker at 0x7f6b880bf128>,\n",
       " <folium.vector_layers.CircleMarker at 0x7f6b88064860>,\n",
       " <folium.vector_layers.CircleMarker at 0x7f6b88079630>,\n",
       " <folium.vector_layers.CircleMarker at 0x7f6b88079d68>,\n",
       " <folium.vector_layers.CircleMarker at 0x7f6b8800a518>,\n",
       " <folium.vector_layers.CircleMarker at 0x7f6b8800a710>,\n",
       " <folium.vector_layers.CircleMarker at 0x7f6b8800a400>,\n",
       " <folium.vector_layers.CircleMarker at 0x7f6b8800a198>,\n",
       " <folium.vector_layers.CircleMarker at 0x7f6b8801e748>,\n",
       " <folium.vector_layers.CircleMarker at 0x7f6b8801e780>,\n",
       " <folium.vector_layers.CircleMarker at 0x7f6b8801e668>,\n",
       " <folium.vector_layers.CircleMarker at 0x7f6b8801e208>,\n",
       " <folium.vector_layers.CircleMarker at 0x7f6b8801e588>,\n",
       " <folium.vector_layers.CircleMarker at 0x7f6b8801e9b0>,\n",
       " <folium.vector_layers.CircleMarker at 0x7f6b8801e9e8>,\n",
       " <folium.vector_layers.CircleMarker at 0x7f6b8801e8d0>,\n",
       " <folium.vector_layers.CircleMarker at 0x7f6b8801eac8>,\n",
       " <folium.vector_layers.CircleMarker at 0x7f6b8801eb70>,\n",
       " <folium.vector_layers.CircleMarker at 0x7f6b8801ec18>,\n",
       " <folium.vector_layers.CircleMarker at 0x7f6b8801ecc0>,\n",
       " <folium.vector_layers.CircleMarker at 0x7f6b8800acf8>,\n",
       " <folium.vector_layers.CircleMarker at 0x7f6b8800ae48>,\n",
       " <folium.vector_layers.CircleMarker at 0x7f6b88079e80>,\n",
       " <folium.vector_layers.CircleMarker at 0x7f6b88079be0>,\n",
       " <folium.vector_layers.CircleMarker at 0x7f6b88064f98>,\n",
       " <folium.vector_layers.CircleMarker at 0x7f6b8800a9b0>,\n",
       " <folium.vector_layers.CircleMarker at 0x7f6b8800ac50>,\n",
       " <folium.vector_layers.CircleMarker at 0x7f6b8801e0b8>,\n",
       " <folium.vector_layers.CircleMarker at 0x7f6b8801e978>,\n",
       " <folium.vector_layers.CircleMarker at 0x7f6b8801ea58>,\n",
       " <folium.vector_layers.CircleMarker at 0x7f6b8801e320>,\n",
       " <folium.vector_layers.CircleMarker at 0x7f6b8801e4e0>,\n",
       " <folium.vector_layers.CircleMarker at 0x7f6b8801e2b0>,\n",
       " <folium.vector_layers.CircleMarker at 0x7f6b8801e860>,\n",
       " <folium.vector_layers.CircleMarker at 0x7f6b8801ec50>,\n",
       " <folium.vector_layers.CircleMarker at 0x7f6b8801ee80>,\n",
       " <folium.vector_layers.CircleMarker at 0x7f6b8801eeb8>,\n",
       " <folium.vector_layers.CircleMarker at 0x7f6b8801ef60>,\n",
       " <folium.vector_layers.CircleMarker at 0x7f6b8801eef0>,\n",
       " <folium.vector_layers.CircleMarker at 0x7f6b88030048>,\n",
       " <folium.vector_layers.CircleMarker at 0x7f6b88030160>,\n",
       " <folium.vector_layers.CircleMarker at 0x7f6b88030240>,\n",
       " <folium.vector_layers.CircleMarker at 0x7f6b8801edd8>,\n",
       " <folium.vector_layers.CircleMarker at 0x7f6b8801ef28>,\n",
       " <folium.vector_layers.CircleMarker at 0x7f6b8801e0f0>,\n",
       " <folium.vector_layers.CircleMarker at 0x7f6b8801e7b8>,\n",
       " <folium.vector_layers.CircleMarker at 0x7f6b8801ea90>,\n",
       " <folium.vector_layers.CircleMarker at 0x7f6b88051c88>,\n",
       " <folium.vector_layers.CircleMarker at 0x7f6b88064320>,\n",
       " <folium.vector_layers.CircleMarker at 0x7f6b8801e390>,\n",
       " <folium.vector_layers.CircleMarker at 0x7f6b88079c50>,\n",
       " <folium.vector_layers.CircleMarker at 0x7f6b8801eb38>,\n",
       " <folium.vector_layers.CircleMarker at 0x7f6b8801ea20>,\n",
       " <folium.vector_layers.CircleMarker at 0x7f6b8800a748>,\n",
       " <folium.vector_layers.CircleMarker at 0x7f6b8800ae80>,\n",
       " <folium.vector_layers.CircleMarker at 0x7f6b88030128>,\n",
       " <folium.vector_layers.CircleMarker at 0x7f6b88030198>,\n",
       " <folium.vector_layers.CircleMarker at 0x7f6b88030400>,\n",
       " <folium.vector_layers.CircleMarker at 0x7f6b88030438>,\n",
       " <folium.vector_layers.CircleMarker at 0x7f6b880304e0>,\n",
       " <folium.vector_layers.CircleMarker at 0x7f6b88030588>,\n",
       " <folium.vector_layers.CircleMarker at 0x7f6b88030630>,\n",
       " <folium.vector_layers.CircleMarker at 0x7f6b880306d8>,\n",
       " <folium.vector_layers.CircleMarker at 0x7f6b88030780>,\n",
       " <folium.vector_layers.CircleMarker at 0x7f6b88079c88>,\n",
       " <folium.vector_layers.CircleMarker at 0x7f6b8800abe0>,\n",
       " <folium.vector_layers.CircleMarker at 0x7f6b8801ec88>,\n",
       " <folium.vector_layers.CircleMarker at 0x7f6b8801e080>,\n",
       " <folium.vector_layers.CircleMarker at 0x7f6b8801e908>,\n",
       " <folium.vector_layers.CircleMarker at 0x7f6b8801e940>,\n",
       " <folium.vector_layers.CircleMarker at 0x7f6b8801ee10>,\n",
       " <folium.vector_layers.CircleMarker at 0x7f6b8801e550>,\n",
       " <folium.vector_layers.CircleMarker at 0x7f6b880306a0>,\n",
       " <folium.vector_layers.CircleMarker at 0x7f6b88030550>,\n",
       " <folium.vector_layers.CircleMarker at 0x7f6b880302e8>,\n",
       " <folium.vector_layers.CircleMarker at 0x7f6b880303c8>,\n",
       " <folium.vector_layers.CircleMarker at 0x7f6b880300f0>,\n",
       " <folium.vector_layers.CircleMarker at 0x7f6b88030828>,\n",
       " <folium.vector_layers.CircleMarker at 0x7f6b88030710>,\n",
       " <folium.vector_layers.CircleMarker at 0x7f6b88030940>,\n",
       " <folium.vector_layers.CircleMarker at 0x7f6b88030978>,\n",
       " <folium.vector_layers.CircleMarker at 0x7f6b88030a20>,\n",
       " <folium.vector_layers.CircleMarker at 0x7f6b88030ac8>,\n",
       " <folium.vector_layers.CircleMarker at 0x7f6b88030b70>,\n",
       " <folium.vector_layers.CircleMarker at 0x7f6b88030c18>,\n",
       " <folium.vector_layers.CircleMarker at 0x7f6b88030cc0>,\n",
       " <folium.vector_layers.CircleMarker at 0x7f6b8800a828>,\n",
       " <folium.vector_layers.CircleMarker at 0x7f6b88051f60>,\n",
       " <folium.vector_layers.CircleMarker at 0x7f6b8801e6a0>,\n",
       " <folium.vector_layers.CircleMarker at 0x7f6b8801eda0>,\n",
       " <folium.vector_layers.CircleMarker at 0x7f6b8801efd0>,\n",
       " <folium.vector_layers.CircleMarker at 0x7f6b88030be0>,\n",
       " <folium.vector_layers.CircleMarker at 0x7f6b88030a90>,\n",
       " <folium.vector_layers.CircleMarker at 0x7f6b88030898>,\n",
       " <folium.vector_layers.CircleMarker at 0x7f6b88030908>,\n",
       " <folium.vector_layers.CircleMarker at 0x7f6b880300b8>,\n",
       " <folium.vector_layers.CircleMarker at 0x7f6b88030358>,\n",
       " <folium.vector_layers.CircleMarker at 0x7f6b88030518>,\n",
       " <folium.vector_layers.CircleMarker at 0x7f6b880305f8>,\n",
       " <folium.vector_layers.CircleMarker at 0x7f6b88030d68>,\n",
       " <folium.vector_layers.CircleMarker at 0x7f6b88030c50>,\n",
       " <folium.vector_layers.CircleMarker at 0x7f6b88030e80>,\n",
       " <folium.vector_layers.CircleMarker at 0x7f6b88030eb8>,\n",
       " <folium.vector_layers.CircleMarker at 0x7f6b88030f60>,\n",
       " <folium.vector_layers.CircleMarker at 0x7f6b88030ef0>,\n",
       " <folium.vector_layers.CircleMarker at 0x7f6b87fc5048>,\n",
       " <folium.vector_layers.CircleMarker at 0x7f6b87fc5128>,\n",
       " <folium.vector_layers.CircleMarker at 0x7f6b87fc5240>,\n",
       " <folium.vector_layers.CircleMarker at 0x7f6b88030b00>,\n",
       " <folium.vector_layers.CircleMarker at 0x7f6b88030f28>,\n",
       " <folium.vector_layers.CircleMarker at 0x7f6b880304a8>,\n",
       " <folium.vector_layers.CircleMarker at 0x7f6b88030ba8>,\n",
       " <folium.vector_layers.CircleMarker at 0x7f6b88030320>,\n",
       " <folium.vector_layers.CircleMarker at 0x7f6b88030390>,\n",
       " <folium.vector_layers.CircleMarker at 0x7f6b88064e48>,\n",
       " <folium.vector_layers.CircleMarker at 0x7f6b88030080>,\n",
       " <folium.vector_layers.CircleMarker at 0x7f6b880308d0>,\n",
       " <folium.vector_layers.CircleMarker at 0x7f6b88030b38>,\n",
       " <folium.vector_layers.CircleMarker at 0x7f6b8801ed68>,\n",
       " <folium.vector_layers.CircleMarker at 0x7f6b8801e128>,\n",
       " <folium.vector_layers.CircleMarker at 0x7f6b8801eb00>,\n",
       " <folium.vector_layers.CircleMarker at 0x7f6b87fc50b8>,\n",
       " <folium.vector_layers.CircleMarker at 0x7f6b87fc5160>,\n",
       " <folium.vector_layers.CircleMarker at 0x7f6b87fc5400>,\n",
       " <folium.vector_layers.CircleMarker at 0x7f6b87fc5438>,\n",
       " <folium.vector_layers.CircleMarker at 0x7f6b87fc54e0>,\n",
       " <folium.vector_layers.CircleMarker at 0x7f6b87fc5588>,\n",
       " <folium.vector_layers.CircleMarker at 0x7f6b87fc5630>,\n",
       " <folium.vector_layers.CircleMarker at 0x7f6b87fc56d8>,\n",
       " <folium.vector_layers.CircleMarker at 0x7f6b87fc5780>,\n",
       " <folium.vector_layers.CircleMarker at 0x7f6b8800a2e8>,\n",
       " <folium.vector_layers.CircleMarker at 0x7f6b8801ee48>,\n",
       " <folium.vector_layers.CircleMarker at 0x7f6b880307b8>,\n",
       " <folium.vector_layers.CircleMarker at 0x7f6b88030860>,\n",
       " <folium.vector_layers.CircleMarker at 0x7f6b88030dd8>,\n",
       " <folium.vector_layers.CircleMarker at 0x7f6b88030470>,\n",
       " <folium.vector_layers.CircleMarker at 0x7f6b88030e10>,\n",
       " <folium.vector_layers.CircleMarker at 0x7f6b88030748>,\n",
       " <folium.vector_layers.CircleMarker at 0x7f6b87fc55c0>,\n",
       " <folium.vector_layers.CircleMarker at 0x7f6b87fc55f8>,\n",
       " <folium.vector_layers.CircleMarker at 0x7f6b87fc54a8>,\n",
       " <folium.vector_layers.CircleMarker at 0x7f6b87fc5080>,\n",
       " <folium.vector_layers.CircleMarker at 0x7f6b87fc5358>,\n",
       " <folium.vector_layers.CircleMarker at 0x7f6b87fc52b0>,\n",
       " <folium.vector_layers.CircleMarker at 0x7f6b87fc5898>,\n",
       " <folium.vector_layers.CircleMarker at 0x7f6b87fc58d0>,\n",
       " <folium.vector_layers.CircleMarker at 0x7f6b87fc57b8>,\n",
       " <folium.vector_layers.CircleMarker at 0x7f6b87fc59b0>,\n",
       " <folium.vector_layers.CircleMarker at 0x7f6b87fc5a58>,\n",
       " <folium.vector_layers.CircleMarker at 0x7f6b87fc5b00>,\n",
       " <folium.vector_layers.CircleMarker at 0x7f6b87fc5ba8>,\n",
       " <folium.vector_layers.CircleMarker at 0x7f6b880309e8>,\n",
       " <folium.vector_layers.CircleMarker at 0x7f6b88030f98>,\n",
       " <folium.vector_layers.CircleMarker at 0x7f6b880301d0>,\n",
       " <folium.vector_layers.CircleMarker at 0x7f6b8801e278>,\n",
       " <folium.vector_layers.CircleMarker at 0x7f6b88030e48>,\n",
       " <folium.vector_layers.CircleMarker at 0x7f6b88030c88>,\n",
       " <folium.vector_layers.CircleMarker at 0x7f6b87fc5b70>,\n",
       " <folium.vector_layers.CircleMarker at 0x7f6b87fc5a20>,\n",
       " <folium.vector_layers.CircleMarker at 0x7f6b87fc5668>,\n",
       " <folium.vector_layers.CircleMarker at 0x7f6b87fc5710>,\n",
       " <folium.vector_layers.CircleMarker at 0x7f6b87fc52e8>,\n",
       " <folium.vector_layers.CircleMarker at 0x7f6b87fc5320>,\n",
       " <folium.vector_layers.CircleMarker at 0x7f6b87fc5390>,\n",
       " <folium.vector_layers.CircleMarker at 0x7f6b87fc5748>,\n",
       " <folium.vector_layers.CircleMarker at 0x7f6b87fc5b38>,\n",
       " <folium.vector_layers.CircleMarker at 0x7f6b87fc5d68>,\n",
       " <folium.vector_layers.CircleMarker at 0x7f6b87fc5da0>,\n",
       " <folium.vector_layers.CircleMarker at 0x7f6b87fc5e48>,\n",
       " <folium.vector_layers.CircleMarker at 0x7f6b87fc5ef0>,\n",
       " <folium.vector_layers.CircleMarker at 0x7f6b87fc5f98>,\n",
       " <folium.vector_layers.CircleMarker at 0x7f6b87fc5f28>,\n",
       " <folium.vector_layers.CircleMarker at 0x7f6b87fd80b8>,\n",
       " <folium.vector_layers.CircleMarker at 0x7f6b87fc5c50>,\n",
       " <folium.vector_layers.CircleMarker at 0x7f6b87fc5be0>,\n",
       " <folium.vector_layers.CircleMarker at 0x7f6b87fc5518>,\n",
       " <folium.vector_layers.CircleMarker at 0x7f6b87fc5470>,\n",
       " <folium.vector_layers.CircleMarker at 0x7f6b87fc56a0>,\n",
       " <folium.vector_layers.CircleMarker at 0x7f6b87fc5940>,\n",
       " <folium.vector_layers.CircleMarker at 0x7f6b87fc5828>,\n",
       " <folium.vector_layers.CircleMarker at 0x7f6b87fc59e8>,\n",
       " <folium.vector_layers.CircleMarker at 0x7f6b8801ebe0>,\n",
       " <folium.vector_layers.CircleMarker at 0x7f6b87fc5198>,\n",
       " <folium.vector_layers.CircleMarker at 0x7f6b87fc5978>,\n",
       " <folium.vector_layers.CircleMarker at 0x7f6b88030a58>,\n",
       " <folium.vector_layers.CircleMarker at 0x7f6b88030278>,\n",
       " <folium.vector_layers.CircleMarker at 0x7f6b88030668>,\n",
       " <folium.vector_layers.CircleMarker at 0x7f6b87fd8208>,\n",
       " <folium.vector_layers.CircleMarker at 0x7f6b87fd82e8>,\n",
       " <folium.vector_layers.CircleMarker at 0x7f6b87fd8320>,\n",
       " <folium.vector_layers.CircleMarker at 0x7f6b87fd83c8>,\n",
       " <folium.vector_layers.CircleMarker at 0x7f6b87fd8470>,\n",
       " <folium.vector_layers.CircleMarker at 0x7f6b87fd8518>,\n",
       " <folium.vector_layers.CircleMarker at 0x7f6b87fd85c0>,\n",
       " <folium.vector_layers.CircleMarker at 0x7f6b87fd8668>,\n",
       " <folium.vector_layers.CircleMarker at 0x7f6b8801e828>,\n",
       " <folium.vector_layers.CircleMarker at 0x7f6b88030fd0>,\n",
       " <folium.vector_layers.CircleMarker at 0x7f6b87fc5cc0>,\n",
       " <folium.vector_layers.CircleMarker at 0x7f6b87fc53c8>,\n",
       " <folium.vector_layers.CircleMarker at 0x7f6b87fc5550>,\n",
       " <folium.vector_layers.CircleMarker at 0x7f6b87fc51d0>,\n",
       " <folium.vector_layers.CircleMarker at 0x7f6b87fc5e10>,\n",
       " <folium.vector_layers.CircleMarker at 0x7f6b87fc5e80>,\n",
       " <folium.vector_layers.CircleMarker at 0x7f6b87fc5dd8>,\n",
       " <folium.vector_layers.CircleMarker at 0x7f6b87fd8358>,\n",
       " <folium.vector_layers.CircleMarker at 0x7f6b87fd8048>,\n",
       " <folium.vector_layers.CircleMarker at 0x7f6b87fd8198>,\n",
       " <folium.vector_layers.CircleMarker at 0x7f6b87fd81d0>,\n",
       " <folium.vector_layers.CircleMarker at 0x7f6b87fd8710>,\n",
       " <folium.vector_layers.CircleMarker at 0x7f6b87fd85f8>,\n",
       " <folium.vector_layers.CircleMarker at 0x7f6b87fd8828>,\n",
       " <folium.vector_layers.CircleMarker at 0x7f6b87fd8860>,\n",
       " <folium.vector_layers.CircleMarker at 0x7f6b87fd8908>,\n",
       " <folium.vector_layers.CircleMarker at 0x7f6b87fd89b0>,\n",
       " <folium.vector_layers.CircleMarker at 0x7f6b87fd8a58>,\n",
       " <folium.vector_layers.CircleMarker at 0x7f6b87fd8b00>,\n",
       " <folium.vector_layers.CircleMarker at 0x7f6b87fd8ba8>,\n",
       " <folium.vector_layers.CircleMarker at 0x7f6b87fc5ac8>,\n",
       " <folium.vector_layers.CircleMarker at 0x7f6b87fc5d30>,\n",
       " <folium.vector_layers.CircleMarker at 0x7f6b87fc5278>,\n",
       " <folium.vector_layers.CircleMarker at 0x7f6b87fc5908>,\n",
       " <folium.vector_layers.CircleMarker at 0x7f6b88030cf8>,\n",
       " <folium.vector_layers.CircleMarker at 0x7f6b87fd89e8>,\n",
       " <folium.vector_layers.CircleMarker at 0x7f6b87fd8a20>,\n",
       " <folium.vector_layers.CircleMarker at 0x7f6b87fd88d0>,\n",
       " <folium.vector_layers.CircleMarker at 0x7f6b87fd8080>,\n",
       " <folium.vector_layers.CircleMarker at 0x7f6b87fd8748>,\n",
       " <folium.vector_layers.CircleMarker at 0x7f6b87fd84e0>,\n",
       " <folium.vector_layers.CircleMarker at 0x7f6b87fd8240>,\n",
       " <folium.vector_layers.CircleMarker at 0x7f6b87fd8400>,\n",
       " <folium.vector_layers.CircleMarker at 0x7f6b87fd8c50>,\n",
       " <folium.vector_layers.CircleMarker at 0x7f6b87fd8b38>,\n",
       " <folium.vector_layers.CircleMarker at 0x7f6b87fd8d68>,\n",
       " <folium.vector_layers.CircleMarker at 0x7f6b87fd8da0>,\n",
       " <folium.vector_layers.CircleMarker at 0x7f6b87fd8e48>,\n",
       " <folium.vector_layers.CircleMarker at 0x7f6b87fd8ef0>,\n",
       " <folium.vector_layers.CircleMarker at 0x7f6b87fd8f98>,\n",
       " <folium.vector_layers.CircleMarker at 0x7f6b87fd8f28>,\n",
       " <folium.vector_layers.CircleMarker at 0x7f6b87feb080>,\n",
       " <folium.vector_layers.CircleMarker at 0x7f6b87fd8940>,\n",
       " <folium.vector_layers.CircleMarker at 0x7f6b87fd8be0>,\n",
       " <folium.vector_layers.CircleMarker at 0x7f6b87fd8630>,\n",
       " <folium.vector_layers.CircleMarker at 0x7f6b87fd8438>,\n",
       " <folium.vector_layers.CircleMarker at 0x7f6b87fd8a90>,\n",
       " <folium.vector_layers.CircleMarker at 0x7f6b87fd87f0>,\n",
       " <folium.vector_layers.CircleMarker at 0x7f6b87fd8550>,\n",
       " <folium.vector_layers.CircleMarker at 0x7f6b87fd8898>,\n",
       " <folium.vector_layers.CircleMarker at 0x7f6b87fd8978>,\n",
       " <folium.vector_layers.CircleMarker at 0x7f6b87fd8c18>,\n",
       " <folium.vector_layers.CircleMarker at 0x7f6b87fd8ac8>,\n",
       " <folium.vector_layers.CircleMarker at 0x7f6b8800a320>,\n",
       " <folium.vector_layers.CircleMarker at 0x7f6b87fc5860>,\n",
       " <folium.vector_layers.CircleMarker at 0x7f6b87fc5fd0>,\n",
       " <folium.vector_layers.CircleMarker at 0x7f6b87fc5cf8>,\n",
       " <folium.vector_layers.CircleMarker at 0x7f6b88030da0>,\n",
       " <folium.vector_layers.CircleMarker at 0x7f6b8801ecf8>,\n",
       " <folium.vector_layers.CircleMarker at 0x7f6b8801ef98>,\n",
       " <folium.vector_layers.CircleMarker at 0x7f6b880302b0>,\n",
       " <folium.vector_layers.CircleMarker at 0x7f6b87feb1d0>,\n",
       " <folium.vector_layers.CircleMarker at 0x7f6b87feb2b0>,\n",
       " <folium.vector_layers.CircleMarker at 0x7f6b87feb240>,\n",
       " <folium.vector_layers.CircleMarker at 0x7f6b8801ed30>,\n",
       " <folium.vector_layers.CircleMarker at 0x7f6b88030208>,\n",
       " <folium.vector_layers.CircleMarker at 0x7f6b87fc5a90>,\n",
       " <folium.vector_layers.CircleMarker at 0x7f6b87fc50f0>,\n",
       " <folium.vector_layers.CircleMarker at 0x7f6b87fc5208>,\n",
       " <folium.vector_layers.CircleMarker at 0x7f6b87fd8128>,\n",
       " <folium.vector_layers.CircleMarker at 0x7f6b87fd87b8>,\n",
       " <folium.vector_layers.CircleMarker at 0x7f6b87fd8c88>,\n",
       " <folium.vector_layers.CircleMarker at 0x7f6b87fd80f0>,\n",
       " <folium.vector_layers.CircleMarker at 0x7f6b87fd8dd8>,\n",
       " <folium.vector_layers.CircleMarker at 0x7f6b87fd8cf8>,\n",
       " <folium.vector_layers.CircleMarker at 0x7f6b87fd8fd0>,\n",
       " <folium.vector_layers.CircleMarker at 0x7f6b87fd8d30>,\n",
       " <folium.vector_layers.CircleMarker at 0x7f6b87feb128>,\n",
       " <folium.vector_layers.CircleMarker at 0x7f6b87feb400>,\n",
       " <folium.vector_layers.CircleMarker at 0x7f6b87feb438>,\n",
       " <folium.vector_layers.CircleMarker at 0x7f6b87feb320>,\n",
       " <folium.vector_layers.CircleMarker at 0x7f6b87feb518>,\n",
       " <folium.vector_layers.CircleMarker at 0x7f6b87feb5c0>,\n",
       " <folium.vector_layers.CircleMarker at 0x7f6b87feb668>,\n",
       " <folium.vector_layers.CircleMarker at 0x7f6b87feb710>,\n",
       " <folium.vector_layers.CircleMarker at 0x7f6b87feb7b8>,\n",
       " <folium.vector_layers.CircleMarker at 0x7f6b87fd86d8>,\n",
       " <folium.vector_layers.CircleMarker at 0x7f6b87fd8e10>,\n",
       " <folium.vector_layers.CircleMarker at 0x7f6b87fd8160>,\n",
       " <folium.vector_layers.CircleMarker at 0x7f6b87fd8b70>,\n",
       " <folium.vector_layers.CircleMarker at 0x7f6b87fd82b0>,\n",
       " <folium.vector_layers.CircleMarker at 0x7f6b88030d30>,\n",
       " <folium.vector_layers.CircleMarker at 0x7f6b880305c0>,\n",
       " <folium.vector_layers.CircleMarker at 0x7f6b87fc5f60>,\n",
       " <folium.vector_layers.CircleMarker at 0x7f6b87feb6d8>,\n",
       " <folium.vector_layers.CircleMarker at 0x7f6b87feb588>,\n",
       " <folium.vector_layers.CircleMarker at 0x7f6b87feb0b8>,\n",
       " <folium.vector_layers.CircleMarker at 0x7f6b87feb2e8>,\n",
       " <folium.vector_layers.CircleMarker at 0x7f6b87feb278>,\n",
       " <folium.vector_layers.CircleMarker at 0x7f6b87feb860>,\n",
       " <folium.vector_layers.CircleMarker at 0x7f6b87feb748>,\n",
       " <folium.vector_layers.CircleMarker at 0x7f6b87feb978>,\n",
       " <folium.vector_layers.CircleMarker at 0x7f6b87feb9b0>,\n",
       " <folium.vector_layers.CircleMarker at 0x7f6b87feba58>,\n",
       " <folium.vector_layers.CircleMarker at 0x7f6b87febb00>,\n",
       " <folium.vector_layers.CircleMarker at 0x7f6b87febba8>,\n",
       " <folium.vector_layers.CircleMarker at 0x7f6b87febc50>,\n",
       " <folium.vector_layers.CircleMarker at 0x7f6b87febcf8>,\n",
       " <folium.vector_layers.CircleMarker at 0x7f6b880309b0>,\n",
       " <folium.vector_layers.CircleMarker at 0x7f6b87fc5eb8>,\n",
       " <folium.vector_layers.CircleMarker at 0x7f6b87fd8390>,\n",
       " <folium.vector_layers.CircleMarker at 0x7f6b87fd8780>,\n",
       " <folium.vector_layers.CircleMarker at 0x7f6b87fd8588>,\n",
       " <folium.vector_layers.CircleMarker at 0x7f6b87febc18>,\n",
       " <folium.vector_layers.CircleMarker at 0x7f6b87febac8>,\n",
       " <folium.vector_layers.CircleMarker at 0x7f6b87feb8d0>,\n",
       " <folium.vector_layers.CircleMarker at 0x7f6b87feb940>,\n",
       " <folium.vector_layers.CircleMarker at 0x7f6b87feb4a8>,\n",
       " <folium.vector_layers.CircleMarker at 0x7f6b87feb198>,\n",
       " <folium.vector_layers.CircleMarker at 0x7f6b87feb550>,\n",
       " <folium.vector_layers.CircleMarker at 0x7f6b87feb630>,\n",
       " <folium.vector_layers.CircleMarker at 0x7f6b87febda0>,\n",
       " <folium.vector_layers.CircleMarker at 0x7f6b87febc88>,\n",
       " <folium.vector_layers.CircleMarker at 0x7f6b87febeb8>,\n",
       " <folium.vector_layers.CircleMarker at 0x7f6b87febef0>,\n",
       " <folium.vector_layers.CircleMarker at 0x7f6b87febf98>,\n",
       " <folium.vector_layers.CircleMarker at 0x7f6b87febf28>,\n",
       " <folium.vector_layers.CircleMarker at 0x7f6b87ffd0f0>,\n",
       " <folium.vector_layers.CircleMarker at 0x7f6b87ffd1d0>,\n",
       " <folium.vector_layers.CircleMarker at 0x7f6b87ffd278>,\n",
       " <folium.vector_layers.CircleMarker at 0x7f6b87fc57f0>,\n",
       " <folium.vector_layers.CircleMarker at 0x7f6b87fd84a8>,\n",
       " <folium.vector_layers.CircleMarker at 0x7f6b87fd8cc0>,\n",
       " <folium.vector_layers.CircleMarker at 0x7f6b87febf60>,\n",
       " <folium.vector_layers.CircleMarker at 0x7f6b87febe80>,\n",
       " <folium.vector_layers.CircleMarker at 0x7f6b87feb048>,\n",
       " <folium.vector_layers.CircleMarker at 0x7f6b87feb470>,\n",
       " <folium.vector_layers.CircleMarker at 0x7f6b87feb0f0>,\n",
       " <folium.vector_layers.CircleMarker at 0x7f6b87feb898>,\n",
       " <folium.vector_layers.CircleMarker at 0x7f6b880307f0>,\n",
       " <folium.vector_layers.CircleMarker at 0x7f6b87feb3c8>,\n",
       " <folium.vector_layers.CircleMarker at 0x7f6b87feb9e8>,\n",
       " <folium.vector_layers.CircleMarker at 0x7f6b87feba20>,\n",
       " <folium.vector_layers.CircleMarker at 0x7f6b87ffd080>,\n",
       " <folium.vector_layers.CircleMarker at 0x7f6b87ffd390>,\n",
       " <folium.vector_layers.CircleMarker at 0x7f6b87ffd3c8>,\n",
       " <folium.vector_layers.CircleMarker at 0x7f6b87ffd2b0>,\n",
       " <folium.vector_layers.CircleMarker at 0x7f6b87ffd4a8>,\n",
       " <folium.vector_layers.CircleMarker at 0x7f6b87ffd550>,\n",
       " <folium.vector_layers.CircleMarker at 0x7f6b87ffd5f8>,\n",
       " <folium.vector_layers.CircleMarker at 0x7f6b87ffd6a0>,\n",
       " <folium.vector_layers.CircleMarker at 0x7f6b87febd68>,\n",
       " <folium.vector_layers.CircleMarker at 0x7f6b87feb7f0>,\n",
       " <folium.vector_layers.CircleMarker at 0x7f6b87feb908>,\n",
       " <folium.vector_layers.CircleMarker at 0x7f6b87febe10>,\n",
       " <folium.vector_layers.CircleMarker at 0x7f6b87febdd8>,\n",
       " <folium.vector_layers.CircleMarker at 0x7f6b87fc5c18>,\n",
       " <folium.vector_layers.CircleMarker at 0x7f6b87fd86a0>,\n",
       " <folium.vector_layers.CircleMarker at 0x7f6b87fd8278>,\n",
       " <folium.vector_layers.CircleMarker at 0x7f6b87feb780>,\n",
       " <folium.vector_layers.CircleMarker at 0x7f6b87ffd5c0>,\n",
       " <folium.vector_layers.CircleMarker at 0x7f6b87ffd470>,\n",
       " <folium.vector_layers.CircleMarker at 0x7f6b87ffd160>,\n",
       " <folium.vector_layers.CircleMarker at 0x7f6b87ffd128>,\n",
       " <folium.vector_layers.CircleMarker at 0x7f6b87ffd748>,\n",
       " <folium.vector_layers.CircleMarker at 0x7f6b87ffd630>,\n",
       " <folium.vector_layers.CircleMarker at 0x7f6b87ffd860>,\n",
       " <folium.vector_layers.CircleMarker at 0x7f6b87ffd898>,\n",
       " <folium.vector_layers.CircleMarker at 0x7f6b87ffd940>,\n",
       " <folium.vector_layers.CircleMarker at 0x7f6b87ffd9e8>,\n",
       " <folium.vector_layers.CircleMarker at 0x7f6b87ffda90>,\n",
       " <folium.vector_layers.CircleMarker at 0x7f6b87ffdb38>,\n",
       " <folium.vector_layers.CircleMarker at 0x7f6b87ffdbe0>,\n",
       " <folium.vector_layers.CircleMarker at 0x7f6b87fd8eb8>,\n",
       " <folium.vector_layers.CircleMarker at 0x7f6b87feb6a0>,\n",
       " <folium.vector_layers.CircleMarker at 0x7f6b87febe48>,\n",
       " <folium.vector_layers.CircleMarker at 0x7f6b87feb160>,\n",
       " <folium.vector_layers.CircleMarker at 0x7f6b87febb38>,\n",
       " <folium.vector_layers.CircleMarker at 0x7f6b87febcc0>,\n",
       " <folium.vector_layers.CircleMarker at 0x7f6b87ffd8d0>,\n",
       " <folium.vector_layers.CircleMarker at 0x7f6b87ffd7f0>,\n",
       " <folium.vector_layers.CircleMarker at 0x7f6b87ffd240>,\n",
       " <folium.vector_layers.CircleMarker at 0x7f6b87ffd208>,\n",
       " <folium.vector_layers.CircleMarker at 0x7f6b87ffd0b8>,\n",
       " <folium.vector_layers.CircleMarker at 0x7f6b87ffd048>,\n",
       " <folium.vector_layers.CircleMarker at 0x7f6b87ffd518>,\n",
       " <folium.vector_layers.CircleMarker at 0x7f6b87ffdc88>,\n",
       " <folium.vector_layers.CircleMarker at 0x7f6b87ffdb70>,\n",
       " <folium.vector_layers.CircleMarker at 0x7f6b87ffdda0>,\n",
       " <folium.vector_layers.CircleMarker at 0x7f6b87ffddd8>,\n",
       " <folium.vector_layers.CircleMarker at 0x7f6b87ffde80>,\n",
       " <folium.vector_layers.CircleMarker at 0x7f6b87ffdf28>,\n",
       " <folium.vector_layers.CircleMarker at 0x7f6b87ffdfd0>,\n",
       " <folium.vector_layers.CircleMarker at 0x7f6b87ffdeb8>,\n",
       " <folium.vector_layers.CircleMarker at 0x7f6b87f930f0>,\n",
       " <folium.vector_layers.CircleMarker at 0x7f6b87ffdba8>,\n",
       " <folium.vector_layers.CircleMarker at 0x7f6b87ffdef0>,\n",
       " <folium.vector_layers.CircleMarker at 0x7f6b87ffd668>,\n",
       " <folium.vector_layers.CircleMarker at 0x7f6b87ffdcc0>,\n",
       " <folium.vector_layers.CircleMarker at 0x7f6b87ffd780>,\n",
       " <folium.vector_layers.CircleMarker at 0x7f6b87ffd320>,\n",
       " <folium.vector_layers.CircleMarker at 0x7f6b87ffda58>,\n",
       " <folium.vector_layers.CircleMarker at 0x7f6b87ffd7b8>,\n",
       " <folium.vector_layers.CircleMarker at 0x7f6b87ffd978>,\n",
       " <folium.vector_layers.CircleMarker at 0x7f6b87ffd9b0>,\n",
       " <folium.vector_layers.CircleMarker at 0x7f6b87feba90>,\n",
       " <folium.vector_layers.CircleMarker at 0x7f6b87feb5f8>,\n",
       " <folium.vector_layers.CircleMarker at 0x7f6b87feb208>,\n",
       " <folium.vector_layers.CircleMarker at 0x7f6b87f930b8>,\n",
       " <folium.vector_layers.CircleMarker at 0x7f6b87f93240>,\n",
       " <folium.vector_layers.CircleMarker at 0x7f6b87f93320>,\n",
       " <folium.vector_layers.CircleMarker at 0x7f6b87f93358>,\n",
       " <folium.vector_layers.CircleMarker at 0x7f6b87f93400>,\n",
       " <folium.vector_layers.CircleMarker at 0x7f6b87f934a8>,\n",
       " <folium.vector_layers.CircleMarker at 0x7f6b87f93550>,\n",
       " <folium.vector_layers.CircleMarker at 0x7f6b87f935f8>,\n",
       " <folium.vector_layers.CircleMarker at 0x7f6b87f936a0>,\n",
       " <folium.vector_layers.CircleMarker at 0x7f6b87fc5c88>,\n",
       " <folium.vector_layers.CircleMarker at 0x7f6b87febbe0>,\n",
       " <folium.vector_layers.CircleMarker at 0x7f6b87ffda20>,\n",
       " <folium.vector_layers.CircleMarker at 0x7f6b87ffd358>,\n",
       " <folium.vector_layers.CircleMarker at 0x7f6b87ffdd68>,\n",
       " <folium.vector_layers.CircleMarker at 0x7f6b87ffdac8>,\n",
       " <folium.vector_layers.CircleMarker at 0x7f6b87ffdcf8>,\n",
       " <folium.vector_layers.CircleMarker at 0x7f6b87ffde10>,\n",
       " <folium.vector_layers.CircleMarker at 0x7f6b87ffdf98>,\n",
       " <folium.vector_layers.CircleMarker at 0x7f6b87f93390>,\n",
       " <folium.vector_layers.CircleMarker at 0x7f6b87f93080>,\n",
       " <folium.vector_layers.CircleMarker at 0x7f6b87f931d0>,\n",
       " <folium.vector_layers.CircleMarker at 0x7f6b87f93208>,\n",
       " <folium.vector_layers.CircleMarker at 0x7f6b87f93748>,\n",
       " <folium.vector_layers.CircleMarker at 0x7f6b87f93630>,\n",
       " <folium.vector_layers.CircleMarker at 0x7f6b87f93860>,\n",
       " <folium.vector_layers.CircleMarker at 0x7f6b87f93898>,\n",
       " <folium.vector_layers.CircleMarker at 0x7f6b87f93940>,\n",
       " <folium.vector_layers.CircleMarker at 0x7f6b87f939e8>,\n",
       " <folium.vector_layers.CircleMarker at 0x7f6b87f93a90>,\n",
       " <folium.vector_layers.CircleMarker at 0x7f6b87f93b38>,\n",
       " <folium.vector_layers.CircleMarker at 0x7f6b87f93be0>,\n",
       " <folium.vector_layers.CircleMarker at 0x7f6b87ffd828>,\n",
       " <folium.vector_layers.CircleMarker at 0x7f6b87ffd438>,\n",
       " <folium.vector_layers.CircleMarker at 0x7f6b87ffd908>,\n",
       " <folium.vector_layers.CircleMarker at 0x7f6b87ffd6d8>,\n",
       " <folium.vector_layers.CircleMarker at 0x7f6b87feb390>,\n",
       " <folium.vector_layers.CircleMarker at 0x7f6b87f93a20>]"
      ]
     },
     "execution_count": 32,
     "metadata": {},
     "output_type": "execute_result"
    }
   ],
   "source": [
    "map_with_markers"
   ]
  },
  {
   "cell_type": "markdown",
   "metadata": {},
   "source": [
    "### Using Nearest Neighbors"
   ]
  },
  {
   "cell_type": "markdown",
   "metadata": {},
   "source": [
    "Ok, let's write a function that given a latitude and longitude will predict the distance for us.  We'll do this by first finding the nearest trips given a latitude and longitude. "
   ]
  },
  {
   "cell_type": "markdown",
   "metadata": {},
   "source": [
    "Here we once again apply the nearest neighbors formula. As a first step, write a function named `distance_location` that calculates the distance in pickup location between two trips."
   ]
  },
  {
   "cell_type": "code",
   "execution_count": null,
   "metadata": {},
   "outputs": [],
   "source": [
    "import math\n",
    "\n",
    "def distance_location(selected_trip, neighbor_trip):\n",
    "    pass"
   ]
  },
  {
   "cell_type": "code",
   "execution_count": null,
   "metadata": {},
   "outputs": [],
   "source": [
    "first_trip = {'pickup_latitude': 40.64499, 'pickup_longitude': -73.78115, 'trip_distance': 18.38}\n",
    "second_trip = {'pickup_latitude': 40.766931, 'pickup_longitude': -73.982098, 'trip_distance': 1.3}\n",
    "distance_first_and_second = distance_location(first_trip, second_trip)\n",
    "\n",
    "distance_first_and_second and round(distance_first_and_second, 3) # 0.235"
   ]
  },
  {
   "cell_type": "markdown",
   "metadata": {},
   "source": [
    "Ok, next write a function called `distance_between_neighbors` that adds a new key-value pair, called `distance_from_selected`, that calculates the distance of the `neighbor_trip` from the `selected_trip`."
   ]
  },
  {
   "cell_type": "code",
   "execution_count": null,
   "metadata": {},
   "outputs": [],
   "source": [
    "def distance_between_neighbors(selected_trip, neighbor_trip):\n",
    "    pass"
   ]
  },
  {
   "cell_type": "code",
   "execution_count": null,
   "metadata": {},
   "outputs": [],
   "source": [
    "distance_between_neighbors(first_trip, second_trip)\n",
    "\n",
    "# {'distance_from_selected': 0.23505256047318146,\n",
    "#  'pickup_latitude': 40.766931,\n",
    "#  'pickup_longitude': -73.982098,\n",
    "#  'trip_distance': 1.3}"
   ]
  },
  {
   "cell_type": "markdown",
   "metadata": {},
   "source": [
    "Ok, now our `neighbor_trip` has another attribute called `distance_from_selected`, that indicates the distance from the `neighbor_trip`'s pickup location from the `selected_trip`."
   ]
  },
  {
   "cell_type": "markdown",
   "metadata": {},
   "source": [
    "> ** Understand the data:** Our dictionary now has a few attributes, two of which say distance.  Let's make sure we understand the difference. \n",
    "> * **`distance_from_selected`:** This is our calculation of the distance of the neighbor's pickup location from the selected trip.\n",
    "> * **`trip_distance`:** This is the attribute we were provided initially.  It tells us the length of the neighbor's taxi trip from pickup to drop-off.  "
   ]
  },
  {
   "cell_type": "markdown",
   "metadata": {},
   "source": [
    "Next, write a function called `distance_all` that provided a list of neighbors, returns each of those neighbors with their respective `distance_from_selected` numbers."
   ]
  },
  {
   "cell_type": "code",
   "execution_count": null,
   "metadata": {},
   "outputs": [],
   "source": [
    "def distance_all(selected_individual, neighbors):\n",
    "    pass"
   ]
  },
  {
   "cell_type": "code",
   "execution_count": null,
   "metadata": {},
   "outputs": [],
   "source": [
    "cleaned_trips and distance_all(first_trip, cleaned_trips[0:4])"
   ]
  },
  {
   "cell_type": "markdown",
   "metadata": {},
   "source": [
    "Now write the nearest neighbors formula to calculate the distance of the `selected_trip` from all of the `cleaned_trips` in our dataset.  If no number is provided, it should return the top 3 neighbors."
   ]
  },
  {
   "cell_type": "code",
   "execution_count": null,
   "metadata": {},
   "outputs": [],
   "source": [
    "def nearest_neighbors(selected_trip, trips, number = 3):\n",
    "    pass"
   ]
  },
  {
   "cell_type": "code",
   "execution_count": null,
   "metadata": {},
   "outputs": [],
   "source": [
    "new_trip = {'pickup_latitude': 40.64499,\n",
    "'pickup_longitude': -73.78115,\n",
    "'trip_distance': 18.38}\n",
    "\n",
    "nearest_three_neighbors = nearest_neighbors(new_trip, cleaned_trips or [], number = 3)\n",
    "nearest_three_neighbors\n",
    "# [{'distance_from_selected': 0.0004569288784918792,\n",
    "#   'pickup_latitude': 40.64483,\n",
    "#   'pickup_longitude': -73.781578,\n",
    "#   'trip_distance': 7.78},\n",
    "#  {'distance_from_selected': 0.0011292165425673159,\n",
    "#   'pickup_latitude': 40.644657,\n",
    "#   'pickup_longitude': -73.782229,\n",
    "#   'trip_distance': 12.7},\n",
    "#  {'distance_from_selected': 0.0042359798158141185,\n",
    "#   'pickup_latitude': 40.648509,\n",
    "#   'pickup_longitude': -73.783508,\n",
    "#   'trip_distance': 17.3}]"
   ]
  },
  {
   "cell_type": "markdown",
   "metadata": {},
   "source": [
    "Ok great! Now that we can provide a new trip location, and find the distances of the three nearest trips, we can take  calculate an estimate of the trip distance for that new trip location.  \n",
    "\n",
    "We do so simply by calculating the average of it's nearest neighbors."
   ]
  },
  {
   "cell_type": "code",
   "execution_count": null,
   "metadata": {},
   "outputs": [],
   "source": [
    "import statistics\n",
    "def mean_distance(neighbors):\n",
    "    nearest_distances = list(map(lambda neighbor: neighbor['trip_distance'], neighbors))\n",
    "    return round(statistics.mean(nearest_distances), 3)\n",
    "\n",
    "nearest_three_neighbors = nearest_neighbors(new_trip, cleaned_trips or [], number = 3)\n",
    "distance_estimate_of_selected_trip = mean_distance(nearest_three_neighbors) # 12.593\n",
    "distance_estimate_of_selected_trip"
   ]
  },
  {
   "cell_type": "markdown",
   "metadata": {},
   "source": [
    "### Choosing the correct number of neighbors"
   ]
  },
  {
   "cell_type": "markdown",
   "metadata": {},
   "source": [
    "Now, as we know from the last lesson, one tricky element is to determine how many neighbors to choose, our $k$ value,  before calculating the average.  We want to choose our value of $k$ such that it properly matches actual data, and so that it applies to new data.  There are fancy formulas to ensure that we **train** our algorithm so that our formula is optimized for all data, but here let's see different $k$ values manually.  This is the gist of choosing our $k$ value:\n",
    "\n",
    "* If we choose a $k$ value too low, our formula will be too heavily influenced by a single neighbor, whereas if our $k$ value is too high, we will be choosing so many neighbors that our nearest neighbors formula will not be adjust enough according to locations.\n",
    "\n",
    "Ok, let's experiment with this."
   ]
  },
  {
   "cell_type": "markdown",
   "metadata": {},
   "source": [
    "First, let's choose a midtown location, to see what the trip distance would be.  A Google search reveals the coordinates of 51st and 7th avenue to be the following."
   ]
  },
  {
   "cell_type": "code",
   "execution_count": null,
   "metadata": {},
   "outputs": [],
   "source": [
    "midtown_trip = dict(pickup_latitude=40.761710, pickup_longitude=-73.982760)"
   ]
  },
  {
   "cell_type": "code",
   "execution_count": null,
   "metadata": {},
   "outputs": [],
   "source": [
    "seven_closest = nearest_neighbors(midtown_trip, cleaned_trips, number = 7)\n",
    "seven_closest\n",
    "# [{'trip_distance': 0.58,\n",
    "#   'pickup_latitude': 40.761372,\n",
    "#   'pickup_longitude': -73.982602,\n",
    "#   'distance_from_selected': 0.00037310588309379025},\n",
    "#  {'trip_distance': 0.8,\n",
    "#   'pickup_latitude': 40.762444,\n",
    "#   'pickup_longitude': -73.98244,\n",
    "#   'distance_from_selected': 0.00080072217404248},\n",
    "#  {'trip_distance': 1.4,\n",
    "#   'pickup_latitude': 40.762767,\n",
    "#   'pickup_longitude': -73.982293,\n",
    "#   'distance_from_selected': 0.0011555682584735844},\n",
    "#  {'trip_distance': 8.3,\n",
    "#   'pickup_latitude': 40.762868,\n",
    "#   'pickup_longitude': -73.983233,\n",
    "#   'distance_from_selected': 0.0012508768924205918},\n",
    "#  {'trip_distance': 1.26,\n",
    "#   'pickup_latitude': 40.760057,\n",
    "#   'pickup_longitude': -73.983502,\n",
    "#   'distance_from_selected': 0.0018118976240381972},\n",
    "#  {'trip_distance': 0.0,\n",
    "#   'pickup_latitude': 40.760644,\n",
    "#   'pickup_longitude': -73.984531,\n",
    "#   'distance_from_selected': 0.002067074502774709},\n",
    "#  {'trip_distance': 1.72,\n",
    "#   'pickup_latitude': 40.762107,\n",
    "#   'pickup_longitude': -73.98479,\n",
    "#   'distance_from_selected': 0.0020684557041472677}]"
   ]
  },
  {
   "cell_type": "markdown",
   "metadata": {},
   "source": [
    "Looking at the `distance_from_selected` it appears that our our trips are still fairly close to our selected trip.  Notice that most of the data is within a distance of .002 away, so going to the top 7 nearest neighbors didn't seem to give us neighbors too far from each other, which is a good sign.\n",
    "\n",
    "Still, it's hard to know what distance in latitude and longitude really look like, so let's map the data. "
   ]
  },
  {
   "cell_type": "code",
   "execution_count": null,
   "metadata": {},
   "outputs": [],
   "source": [
    "midtown_location = location(midtown_trip) # [40.76171, -73.98276]\n",
    "midtown_map = map_from(midtown_location, 16)\n",
    "closest_markers = markers_from_trips(seven_closest)\n",
    "\n",
    "add_markers(closest_markers, midtown_map)"
   ]
  },
  {
   "cell_type": "markdown",
   "metadata": {},
   "source": [
    "Ok.  These locations stay fairly close to our estimated location of 51st street and 7th Avenue.  So they could be a good estimate of a trip distance."
   ]
  },
  {
   "cell_type": "code",
   "execution_count": null,
   "metadata": {},
   "outputs": [],
   "source": [
    "mean_distance(seven_closest) # 2.009"
   ]
  },
  {
   "cell_type": "markdown",
   "metadata": {},
   "source": [
    "Ok, now let's try a different location"
   ]
  },
  {
   "cell_type": "code",
   "execution_count": null,
   "metadata": {},
   "outputs": [],
   "source": [
    "charging_bull_closest = nearest_neighbors({'pickup_latitude': 40.7049, 'pickup_longitude': -74.0137}, cleaned_trips, number = 12)"
   ]
  },
  {
   "cell_type": "code",
   "execution_count": null,
   "metadata": {
    "scrolled": true
   },
   "outputs": [],
   "source": [
    "mean_distance(charging_bull_closest) # 3.145"
   ]
  },
  {
   "cell_type": "markdown",
   "metadata": {},
   "source": [
    "Ok, so there appears to be a significant difference between choosing a location near Times Square versus choosing a location at Wall Street."
   ]
  },
  {
   "cell_type": "markdown",
   "metadata": {},
   "source": [
    "### Summary"
   ]
  },
  {
   "cell_type": "markdown",
   "metadata": {},
   "source": [
    "In this lab, we used the nearest neighbors function to predict the length of a taxi ride.  To do so, we selected a location, then found a number of taxi rides closest to that location, and finally took the average trip lengths of the nearest taxi rides to find an estimate of the new ride's trip length.  You can see that even with just a little bit of math and programming we can begin to make meaningful predictions with data."
   ]
  }
 ],
 "metadata": {
  "kernelspec": {
   "display_name": "Python 3",
   "language": "python",
   "name": "python3"
  },
  "language_info": {
   "codemirror_mode": {
    "name": "ipython",
    "version": 3
   },
   "file_extension": ".py",
   "mimetype": "text/x-python",
   "name": "python",
   "nbconvert_exporter": "python",
   "pygments_lexer": "ipython3",
   "version": "3.6.6"
  }
 },
 "nbformat": 4,
 "nbformat_minor": 2
}
